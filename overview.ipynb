{
 "cells": [
  {
   "cell_type": "markdown",
   "metadata": {},
   "source": [
    "# Overview"
   ]
  },
  {
   "cell_type": "markdown",
   "metadata": {},
   "source": [
    "Compute F1-score for each subtask"
   ]
  },
  {
   "cell_type": "code",
   "execution_count": 2,
   "metadata": {},
   "outputs": [
    {
     "name": "stdout",
     "output_type": "stream",
     "text": [
      "F1 Score for first pair: 0.693020223006763\n",
      "F1 Score for second pair: 0.29459511331956634\n"
     ]
    }
   ],
   "source": [
    "import pandas as pd\n",
    "from sklearn.metrics import f1_score\n",
    "\n",
    "def compute_score(hazards_true, products_true, hazards_pred, products_pred):\n",
    "    f1_hazards = f1_score(hazards_true, hazards_pred, average='macro')\n",
    "    \n",
    "    correct_hazards = hazards_pred == hazards_true\n",
    "    f1_products = f1_score(products_true[correct_hazards], products_pred[correct_hazards], average='macro')\n",
    "    \n",
    "    return (f1_hazards + f1_products) / 2.0\n",
    "\n",
    "def load_labels(file_path):\n",
    "    df = pd.read_csv(file_path)\n",
    "    return df['true_label'], df['predicted_label']\n",
    "\n",
    "hazards_true_st1, hazards_pred_st1 = load_labels(\"predictions_st1_hazard.csv\")\n",
    "products_true_st1, products_pred_st1 = load_labels(\"predictions_st1_product.csv\")\n",
    "\n",
    "f1_score_st1 = compute_score(hazards_true_st1, products_true_st1, hazards_pred_st1, products_pred_st1)\n",
    "print(f\"F1 Score for first pair: {f1_score_st1}\")\n",
    "\n",
    "hazards_true_st2, hazards_pred_st2 = load_labels(\"predictions_st2_hazard.csv\")\n",
    "products_true_st2, products_pred_st2 = load_labels(\"predictions_st2_product.csv\")\n",
    "\n",
    "f1_score_st2 = compute_score(hazards_true_st2, products_true_st2, hazards_pred_st2, products_pred_st2)\n",
    "print(f\"F1 Score for second pair: {f1_score_st2}\")"
   ]
  },
  {
   "cell_type": "markdown",
   "metadata": {},
   "source": [
    "The F1-score for the first subtask __0.69__ is significantly higher than that of the second subtask __0.3__. This is primarily because the models in the first subtask were trained more effectively and faced less class imbalance, resulting in better overall performance."
   ]
  },
  {
   "cell_type": "markdown",
   "metadata": {},
   "source": [
    "Pass the predictions to the sumbmission CSVs"
   ]
  },
  {
   "cell_type": "code",
   "execution_count": 3,
   "metadata": {},
   "outputs": [],
   "source": [
    "st1_hazard = pd.read_csv(\"predictions_st1_hazard.csv\")\n",
    "st1_product = pd.read_csv(\"predictions_st1_product.csv\")\n",
    "st2_hazard = pd.read_csv(\"predictions_st2_hazard.csv\")\n",
    "st2_product = pd.read_csv(\"predictions_st2_product.csv\")\n",
    "\n",
    "submission1 = pd.DataFrame({\n",
    "    \"hazard_category\": st1_hazard[\"true_label\"],\n",
    "    \"product_category\": st1_product[\"true_label\"]\n",
    "})\n",
    "submission1.to_csv(\"submission1.csv\", index=False)\n",
    "\n",
    "submission2 = pd.DataFrame({\n",
    "    \"hazard\": st2_hazard[\"true_label\"],\n",
    "    \"product\": st2_product[\"true_label\"]\n",
    "})\n",
    "submission2.to_csv(\"submission2.csv\", index=False)"
   ]
  }
 ],
 "metadata": {
  "kernelspec": {
   "display_name": "venv",
   "language": "python",
   "name": "python3"
  },
  "language_info": {
   "codemirror_mode": {
    "name": "ipython",
    "version": 3
   },
   "file_extension": ".py",
   "mimetype": "text/x-python",
   "name": "python",
   "nbconvert_exporter": "python",
   "pygments_lexer": "ipython3",
   "version": "3.12.0"
  }
 },
 "nbformat": 4,
 "nbformat_minor": 2
}
