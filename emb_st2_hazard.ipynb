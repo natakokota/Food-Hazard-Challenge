{
 "cells": [
  {
   "cell_type": "code",
   "execution_count": 1,
   "metadata": {},
   "outputs": [
    {
     "name": "stdout",
     "output_type": "stream",
     "text": [
      "Note: you may need to restart the kernel to use updated packages.\n"
     ]
    }
   ],
   "source": [
    "%pip install scikit-learn -q"
   ]
  },
  {
   "cell_type": "code",
   "execution_count": 2,
   "metadata": {},
   "outputs": [
    {
     "name": "stdout",
     "output_type": "stream",
     "text": [
      "Note: you may need to restart the kernel to use updated packages.\n"
     ]
    }
   ],
   "source": [
    "%pip install tensorflow -q"
   ]
  },
  {
   "cell_type": "code",
   "execution_count": 3,
   "metadata": {},
   "outputs": [
    {
     "name": "stdout",
     "output_type": "stream",
     "text": [
      "Note: you may need to restart the kernel to use updated packages.\n"
     ]
    }
   ],
   "source": [
    "%pip install --upgrade setuptools -q"
   ]
  },
  {
   "cell_type": "code",
   "execution_count": 4,
   "metadata": {},
   "outputs": [
    {
     "name": "stdout",
     "output_type": "stream",
     "text": [
      "Note: you may need to restart the kernel to use updated packages.\n"
     ]
    }
   ],
   "source": [
    "%pip install matplotlib -q"
   ]
  },
  {
   "cell_type": "code",
   "execution_count": 5,
   "metadata": {},
   "outputs": [],
   "source": [
    "import pandas as pd\n",
    "import numpy as np\n",
    "import tensorflow as tf\n",
    "import re\n",
    "import string\n",
    "\n",
    "from tensorflow import keras\n",
    "from tensorflow.keras import layers\n",
    "from tensorflow.keras import losses\n",
    "\n",
    "from sklearn.metrics import f1_score\n",
    "from sklearn.metrics import classification_report\n",
    "\n",
    "import matplotlib.pyplot as plt"
   ]
  },
  {
   "cell_type": "code",
   "execution_count": 6,
   "metadata": {},
   "outputs": [],
   "source": [
    "labeled_train_df = pd.read_csv(\"labeled_training_incidents.csv\").rename(columns={\"Unnamed: 0\": \"index\"})\n",
    "labeled_valid_df = pd.read_csv(\"labeled_validation_incidents.csv\").rename(columns={\"Unnamed: 0\": \"index\"})\n",
    "labeled_test_df = pd.read_csv(\"labeled_test_incidents.csv\").rename(columns={\"Unnamed: 0\": \"index\"})"
   ]
  },
  {
   "cell_type": "code",
   "execution_count": 7,
   "metadata": {},
   "outputs": [],
   "source": [
    "# Find unique categories in each dataset\n",
    "train_categories = set(labeled_train_df[\"hazard\"].unique())\n",
    "valid_categories = set(labeled_valid_df[\"hazard\"].unique())\n",
    "test_categories = set(labeled_test_df[\"hazard\"].unique())"
   ]
  },
  {
   "cell_type": "code",
   "execution_count": 8,
   "metadata": {},
   "outputs": [],
   "source": [
    "# Identify extra categories in validation and test sets\n",
    "extra_valid_categories = valid_categories - train_categories\n",
    "extra_test_categories = test_categories - train_categories"
   ]
  },
  {
   "cell_type": "code",
   "execution_count": 9,
   "metadata": {},
   "outputs": [],
   "source": [
    "# Define a new category for unknown labels\n",
    "OTHER_CATEGORY = \"Other\"\n",
    "\n",
    "# Create label mapping for known categories (from train set)\n",
    "label2id = {category: idx for idx, category in enumerate(sorted(train_categories))}\n",
    "label2id[OTHER_CATEGORY] = len(label2id)  # Assign last index to \"Other\"\n",
    "id2label = {v: k for k, v in label2id.items()}\n",
    "\n",
    "# Number of labels\n",
    "num_labels = len(label2id)\n"
   ]
  },
  {
   "cell_type": "code",
   "execution_count": 10,
   "metadata": {},
   "outputs": [],
   "source": [
    "# Function to map labels, assigning 'Other' when necessary\n",
    "def map_labels(category):\n",
    "    return label2id.get(category, label2id[OTHER_CATEGORY])\n",
    "\n",
    "# Apply label mapping\n",
    "train_st1 = labeled_train_df[['text']].copy()\n",
    "train_st1['label'] = labeled_train_df['hazard'].map(map_labels)\n",
    "\n",
    "valid_st1 = labeled_valid_df[['text']].copy()\n",
    "valid_st1['label'] = labeled_valid_df['hazard'].map(map_labels)\n",
    "\n",
    "test_st1 = labeled_test_df[['text']].copy()\n",
    "test_st1['label'] = labeled_test_df['hazard'].map(map_labels)"
   ]
  },
  {
   "cell_type": "markdown",
   "metadata": {},
   "source": [
    "encode categorical columns before passing them to the classifier. <br>\n",
    "one hot encoding for country (It's particularly suitable for nominal categorical features, where the categories have no inherent order or ranking.) <br>\n",
    "Be aware of the \"dummy variable trap,\" where multicollinearity can occur if one column can be predicted from the others..To avoid this, you can safely drop one of the one-hot encoded columns, reducing the dimensionality by one. You can declare the drop_first=True in the get_dummies function as shown below.<br>\n",
    "Binary Encoding\n"
   ]
  },
  {
   "cell_type": "markdown",
   "metadata": {},
   "source": [
    "https://kantschants.com/complete-guide-to-encoding-categorical-features#"
   ]
  },
  {
   "cell_type": "markdown",
   "metadata": {},
   "source": [
    "TF-IDF ENCODING"
   ]
  },
  {
   "cell_type": "markdown",
   "metadata": {},
   "source": [
    "Text Preprocessing with Custom Standardization <br>\n",
    "This function cleans the text data:\n",
    "* Converts all text to lowercase.\n",
    "* Replaces newlines (\\n) with a space.\n",
    "* Removes punctuation."
   ]
  },
  {
   "cell_type": "code",
   "execution_count": 11,
   "metadata": {},
   "outputs": [],
   "source": [
    "def custom_standardization(input_data):\n",
    "    lowercase = tf.strings.lower(input_data)\n",
    "    stripped_html = tf.strings.regex_replace(lowercase, '\\n            ', ' ')\n",
    "    no_punctuation = tf.strings.regex_replace(stripped_html,\n",
    "                                              '[%s]' % re.escape(string.punctuation),\n",
    "                                              '')\n",
    "    return no_punctuation"
   ]
  },
  {
   "cell_type": "markdown",
   "metadata": {},
   "source": [
    "* The TextVectorization layer converts raw text into integer sequences.\n",
    "* max_features=20000: Uses the top 20,000 words in the dataset.\n",
    "* sequence_length=250: Each text sample is truncated or padded to a fixed length of 250 tokens.\n",
    "* The standardize function applies the custom text cleaning we defined earlier."
   ]
  },
  {
   "cell_type": "code",
   "execution_count": 12,
   "metadata": {},
   "outputs": [],
   "source": [
    "max_features = 20000\n",
    "sequence_length = 500\n",
    "\n",
    "vectorize_layer = layers.TextVectorization(\n",
    "    standardize=custom_standardization,\n",
    "    max_tokens=max_features,\n",
    "    output_mode='int',\n",
    "    output_sequence_length=sequence_length)\n"
   ]
  },
  {
   "cell_type": "markdown",
   "metadata": {},
   "source": [
    "* The training dataset is converted into a TensorFlow Dataset.\n",
    "* train_st1[\"text\"] contains the input text.\n",
    "* train_st1[\"label\"] contains the corresponding labels."
   ]
  },
  {
   "cell_type": "code",
   "execution_count": 13,
   "metadata": {},
   "outputs": [],
   "source": [
    "# Ensure tensors are explicitly set\n",
    "train_st1_ds = tf.data.Dataset.from_tensor_slices((\n",
    "    tf.convert_to_tensor(train_st1[\"text\"].values, dtype=tf.string),\n",
    "    tf.convert_to_tensor(train_st1[\"label\"].values, dtype=tf.int32)\n",
    "))\n",
    "\n",
    "# Apply mapping\n",
    "text_only_train_st1_ds = train_st1_ds.map(lambda x, y: tf.cast(x, tf.string))"
   ]
  },
  {
   "cell_type": "markdown",
   "metadata": {},
   "source": [
    "* The function vectorize_text() transforms text samples into numerical sequences using vectorize_layer.\n",
    "* Labels are reshaped to match expected input format."
   ]
  },
  {
   "cell_type": "code",
   "execution_count": 14,
   "metadata": {},
   "outputs": [],
   "source": [
    "def vectorize_text(text, label):\n",
    "    text = tf.expand_dims(text, -1)  # Ensure text has shape (1,)\n",
    "    label = tf.expand_dims(label, -1)  # Ensure labels have shape (1,)\n",
    "    label = tf.cast(label, tf.int32)  # Convert labels to integers\n",
    "    return vectorize_layer(text), label"
   ]
  },
  {
   "cell_type": "markdown",
   "metadata": {},
   "source": [
    "* The vectorization layer learns the vocabulary from the training data.\n",
    "* The datasets (train_st1, valid_st1, test_st1) are mapped through vectorize_text() so that text inputs are converted to integer sequences."
   ]
  },
  {
   "cell_type": "code",
   "execution_count": 15,
   "metadata": {},
   "outputs": [
    {
     "name": "stderr",
     "output_type": "stream",
     "text": [
      "2025-02-13 16:34:23.948214: I tensorflow/core/framework/local_rendezvous.cc:405] Local rendezvous is aborting with status: OUT_OF_RANGE: End of sequence\n"
     ]
    }
   ],
   "source": [
    "vectorize_layer.adapt(text_only_train_st1_ds)\n",
    "# Ensure tensors are explicitly set\n",
    "train_st1 = tf.data.Dataset.from_tensor_slices((\n",
    "    tf.convert_to_tensor(train_st1[\"text\"].values, dtype=tf.string),\n",
    "    tf.convert_to_tensor(train_st1[\"label\"].values, dtype=tf.int32)\n",
    "))\n",
    "\n",
    "valid_st1 = tf.data.Dataset.from_tensor_slices((\n",
    "    tf.convert_to_tensor(valid_st1[\"text\"].values, dtype=tf.string),\n",
    "    tf.convert_to_tensor(valid_st1[\"label\"].values, dtype=tf.int32)\n",
    "))\n",
    "\n",
    "test_st1 = tf.data.Dataset.from_tensor_slices((\n",
    "    tf.convert_to_tensor(test_st1[\"text\"].values, dtype=tf.string),\n",
    "    tf.convert_to_tensor(test_st1[\"label\"].values, dtype=tf.int32)\n",
    "))\n",
    "\n",
    "train_ds = train_st1.map(vectorize_text)\n",
    "val_ds = valid_st1.map(vectorize_text)\n",
    "test_ds = test_st1.map(vectorize_text)"
   ]
  },
  {
   "cell_type": "code",
   "execution_count": 16,
   "metadata": {},
   "outputs": [],
   "source": [
    "AUTOTUNE = tf.data.AUTOTUNE\n",
    "\n",
    "train_ds = train_ds.cache().prefetch(buffer_size=AUTOTUNE)\n",
    "val_ds = val_ds.cache().prefetch(buffer_size=AUTOTUNE)\n",
    "test_ds = test_ds.cache().prefetch(buffer_size=AUTOTUNE)"
   ]
  },
  {
   "cell_type": "markdown",
   "metadata": {},
   "source": [
    "The model is a simple neural network for text classification:\n",
    "1. Input layer: Takes integer sequences of length 250.\n",
    "2. Embedding layer: Converts integer tokens into dense vector representations (size 16).\n",
    "3. Dropout (0.2): Prevents overfitting.\n",
    "4. GlobalAveragePooling1D: Reduces the sequence into a fixed-length vector.\n",
    "5. Dropout (0.2): Further regularization.\n",
    "6. Dense Layer (Softmax Activation): Outputs probabilities for 22 classes."
   ]
  },
  {
   "cell_type": "code",
   "execution_count": 17,
   "metadata": {},
   "outputs": [
    {
     "data": {
      "text/html": [
       "<pre style=\"white-space:pre;overflow-x:auto;line-height:normal;font-family:Menlo,'DejaVu Sans Mono',consolas,'Courier New',monospace\"><span style=\"font-weight: bold\">Model: \"sequential\"</span>\n",
       "</pre>\n"
      ],
      "text/plain": [
       "\u001b[1mModel: \"sequential\"\u001b[0m\n"
      ]
     },
     "metadata": {},
     "output_type": "display_data"
    },
    {
     "data": {
      "text/html": [
       "<pre style=\"white-space:pre;overflow-x:auto;line-height:normal;font-family:Menlo,'DejaVu Sans Mono',consolas,'Courier New',monospace\">┏━━━━━━━━━━━━━━━━━━━━━━━━━━━━━━━━━┳━━━━━━━━━━━━━━━━━━━━━━━━┳━━━━━━━━━━━━━━━┓\n",
       "┃<span style=\"font-weight: bold\"> Layer (type)                    </span>┃<span style=\"font-weight: bold\"> Output Shape           </span>┃<span style=\"font-weight: bold\">       Param # </span>┃\n",
       "┡━━━━━━━━━━━━━━━━━━━━━━━━━━━━━━━━━╇━━━━━━━━━━━━━━━━━━━━━━━━╇━━━━━━━━━━━━━━━┩\n",
       "│ embedding (<span style=\"color: #0087ff; text-decoration-color: #0087ff\">Embedding</span>)           │ (<span style=\"color: #00d7ff; text-decoration-color: #00d7ff\">None</span>, <span style=\"color: #00af00; text-decoration-color: #00af00\">500</span>, <span style=\"color: #00af00; text-decoration-color: #00af00\">16</span>)        │       <span style=\"color: #00af00; text-decoration-color: #00af00\">320,000</span> │\n",
       "├─────────────────────────────────┼────────────────────────┼───────────────┤\n",
       "│ dropout (<span style=\"color: #0087ff; text-decoration-color: #0087ff\">Dropout</span>)               │ (<span style=\"color: #00d7ff; text-decoration-color: #00d7ff\">None</span>, <span style=\"color: #00af00; text-decoration-color: #00af00\">500</span>, <span style=\"color: #00af00; text-decoration-color: #00af00\">16</span>)        │             <span style=\"color: #00af00; text-decoration-color: #00af00\">0</span> │\n",
       "├─────────────────────────────────┼────────────────────────┼───────────────┤\n",
       "│ global_average_pooling1d        │ (<span style=\"color: #00d7ff; text-decoration-color: #00d7ff\">None</span>, <span style=\"color: #00af00; text-decoration-color: #00af00\">16</span>)             │             <span style=\"color: #00af00; text-decoration-color: #00af00\">0</span> │\n",
       "│ (<span style=\"color: #0087ff; text-decoration-color: #0087ff\">GlobalAveragePooling1D</span>)        │                        │               │\n",
       "├─────────────────────────────────┼────────────────────────┼───────────────┤\n",
       "│ dropout_1 (<span style=\"color: #0087ff; text-decoration-color: #0087ff\">Dropout</span>)             │ (<span style=\"color: #00d7ff; text-decoration-color: #00d7ff\">None</span>, <span style=\"color: #00af00; text-decoration-color: #00af00\">16</span>)             │             <span style=\"color: #00af00; text-decoration-color: #00af00\">0</span> │\n",
       "├─────────────────────────────────┼────────────────────────┼───────────────┤\n",
       "│ dense (<span style=\"color: #0087ff; text-decoration-color: #0087ff\">Dense</span>)                   │ (<span style=\"color: #00d7ff; text-decoration-color: #00d7ff\">None</span>, <span style=\"color: #00af00; text-decoration-color: #00af00\">129</span>)            │         <span style=\"color: #00af00; text-decoration-color: #00af00\">2,193</span> │\n",
       "└─────────────────────────────────┴────────────────────────┴───────────────┘\n",
       "</pre>\n"
      ],
      "text/plain": [
       "┏━━━━━━━━━━━━━━━━━━━━━━━━━━━━━━━━━┳━━━━━━━━━━━━━━━━━━━━━━━━┳━━━━━━━━━━━━━━━┓\n",
       "┃\u001b[1m \u001b[0m\u001b[1mLayer (type)                   \u001b[0m\u001b[1m \u001b[0m┃\u001b[1m \u001b[0m\u001b[1mOutput Shape          \u001b[0m\u001b[1m \u001b[0m┃\u001b[1m \u001b[0m\u001b[1m      Param #\u001b[0m\u001b[1m \u001b[0m┃\n",
       "┡━━━━━━━━━━━━━━━━━━━━━━━━━━━━━━━━━╇━━━━━━━━━━━━━━━━━━━━━━━━╇━━━━━━━━━━━━━━━┩\n",
       "│ embedding (\u001b[38;5;33mEmbedding\u001b[0m)           │ (\u001b[38;5;45mNone\u001b[0m, \u001b[38;5;34m500\u001b[0m, \u001b[38;5;34m16\u001b[0m)        │       \u001b[38;5;34m320,000\u001b[0m │\n",
       "├─────────────────────────────────┼────────────────────────┼───────────────┤\n",
       "│ dropout (\u001b[38;5;33mDropout\u001b[0m)               │ (\u001b[38;5;45mNone\u001b[0m, \u001b[38;5;34m500\u001b[0m, \u001b[38;5;34m16\u001b[0m)        │             \u001b[38;5;34m0\u001b[0m │\n",
       "├─────────────────────────────────┼────────────────────────┼───────────────┤\n",
       "│ global_average_pooling1d        │ (\u001b[38;5;45mNone\u001b[0m, \u001b[38;5;34m16\u001b[0m)             │             \u001b[38;5;34m0\u001b[0m │\n",
       "│ (\u001b[38;5;33mGlobalAveragePooling1D\u001b[0m)        │                        │               │\n",
       "├─────────────────────────────────┼────────────────────────┼───────────────┤\n",
       "│ dropout_1 (\u001b[38;5;33mDropout\u001b[0m)             │ (\u001b[38;5;45mNone\u001b[0m, \u001b[38;5;34m16\u001b[0m)             │             \u001b[38;5;34m0\u001b[0m │\n",
       "├─────────────────────────────────┼────────────────────────┼───────────────┤\n",
       "│ dense (\u001b[38;5;33mDense\u001b[0m)                   │ (\u001b[38;5;45mNone\u001b[0m, \u001b[38;5;34m129\u001b[0m)            │         \u001b[38;5;34m2,193\u001b[0m │\n",
       "└─────────────────────────────────┴────────────────────────┴───────────────┘\n"
      ]
     },
     "metadata": {},
     "output_type": "display_data"
    },
    {
     "data": {
      "text/html": [
       "<pre style=\"white-space:pre;overflow-x:auto;line-height:normal;font-family:Menlo,'DejaVu Sans Mono',consolas,'Courier New',monospace\"><span style=\"font-weight: bold\"> Total params: </span><span style=\"color: #00af00; text-decoration-color: #00af00\">322,193</span> (1.23 MB)\n",
       "</pre>\n"
      ],
      "text/plain": [
       "\u001b[1m Total params: \u001b[0m\u001b[38;5;34m322,193\u001b[0m (1.23 MB)\n"
      ]
     },
     "metadata": {},
     "output_type": "display_data"
    },
    {
     "data": {
      "text/html": [
       "<pre style=\"white-space:pre;overflow-x:auto;line-height:normal;font-family:Menlo,'DejaVu Sans Mono',consolas,'Courier New',monospace\"><span style=\"font-weight: bold\"> Trainable params: </span><span style=\"color: #00af00; text-decoration-color: #00af00\">322,193</span> (1.23 MB)\n",
       "</pre>\n"
      ],
      "text/plain": [
       "\u001b[1m Trainable params: \u001b[0m\u001b[38;5;34m322,193\u001b[0m (1.23 MB)\n"
      ]
     },
     "metadata": {},
     "output_type": "display_data"
    },
    {
     "data": {
      "text/html": [
       "<pre style=\"white-space:pre;overflow-x:auto;line-height:normal;font-family:Menlo,'DejaVu Sans Mono',consolas,'Courier New',monospace\"><span style=\"font-weight: bold\"> Non-trainable params: </span><span style=\"color: #00af00; text-decoration-color: #00af00\">0</span> (0.00 B)\n",
       "</pre>\n"
      ],
      "text/plain": [
       "\u001b[1m Non-trainable params: \u001b[0m\u001b[38;5;34m0\u001b[0m (0.00 B)\n"
      ]
     },
     "metadata": {},
     "output_type": "display_data"
    }
   ],
   "source": [
    "model = tf.keras.Sequential([\n",
    "  layers.Input(shape=(sequence_length,)),\n",
    "  layers.Embedding(max_features, 16),\n",
    "  layers.Dropout(0.3),\n",
    "  layers.GlobalAveragePooling1D(),\n",
    "  layers.Dropout(0.3),\n",
    "  layers.Dense(num_labels, activation=\"softmax\")  # Multi-class output\n",
    "])\n",
    "\n",
    "model.summary()"
   ]
  },
  {
   "cell_type": "markdown",
   "metadata": {},
   "source": [
    "* Loss function: SparseCategoricalCrossentropy() (used for multi-class classification).\n",
    "* Optimizer: Adam optimizer (adaptive learning rate optimization).\n",
    "* Metrics: Accuracy is tracked."
   ]
  },
  {
   "cell_type": "code",
   "execution_count": 18,
   "metadata": {},
   "outputs": [],
   "source": [
    "# Choose the loss function based on your labels\n",
    "model.compile(loss=losses.SparseCategoricalCrossentropy(from_logits=False),  # Use CategoricalCrossentropy if labels are one-hot\n",
    "              optimizer='adam',\n",
    "              metrics=[\"accuracy\"])"
   ]
  },
  {
   "cell_type": "markdown",
   "metadata": {},
   "source": [
    "* The model is trained for 20 epochs.\n",
    "* Uses early stopping: Training stops if the loss does not improve for 3 consecutive epochs."
   ]
  },
  {
   "cell_type": "code",
   "execution_count": 19,
   "metadata": {},
   "outputs": [
    {
     "name": "stdout",
     "output_type": "stream",
     "text": [
      "Epoch 1/20\n",
      "\u001b[1m5082/5082\u001b[0m \u001b[32m━━━━━━━━━━━━━━━━━━━━\u001b[0m\u001b[37m\u001b[0m \u001b[1m5s\u001b[0m 991us/step - accuracy: 0.1775 - loss: 3.8247 - val_accuracy: 0.1982 - val_loss: 3.3401\n",
      "Epoch 2/20\n",
      "\u001b[1m5082/5082\u001b[0m \u001b[32m━━━━━━━━━━━━━━━━━━━━\u001b[0m\u001b[37m\u001b[0m \u001b[1m5s\u001b[0m 993us/step - accuracy: 0.2050 - loss: 3.2985 - val_accuracy: 0.2832 - val_loss: 3.0928\n",
      "Epoch 3/20\n",
      "\u001b[1m5082/5082\u001b[0m \u001b[32m━━━━━━━━━━━━━━━━━━━━\u001b[0m\u001b[37m\u001b[0m \u001b[1m5s\u001b[0m 947us/step - accuracy: 0.2410 - loss: 3.1077 - val_accuracy: 0.3274 - val_loss: 2.8743\n",
      "Epoch 4/20\n",
      "\u001b[1m5082/5082\u001b[0m \u001b[32m━━━━━━━━━━━━━━━━━━━━\u001b[0m\u001b[37m\u001b[0m \u001b[1m5s\u001b[0m 951us/step - accuracy: 0.2907 - loss: 2.9182 - val_accuracy: 0.3770 - val_loss: 2.6719\n",
      "Epoch 5/20\n",
      "\u001b[1m5082/5082\u001b[0m \u001b[32m━━━━━━━━━━━━━━━━━━━━\u001b[0m\u001b[37m\u001b[0m \u001b[1m5s\u001b[0m 935us/step - accuracy: 0.3423 - loss: 2.7525 - val_accuracy: 0.4053 - val_loss: 2.4937\n",
      "Epoch 6/20\n",
      "\u001b[1m5082/5082\u001b[0m \u001b[32m━━━━━━━━━━━━━━━━━━━━\u001b[0m\u001b[37m\u001b[0m \u001b[1m5s\u001b[0m 918us/step - accuracy: 0.3768 - loss: 2.5956 - val_accuracy: 0.4354 - val_loss: 2.3605\n",
      "Epoch 7/20\n",
      "\u001b[1m5082/5082\u001b[0m \u001b[32m━━━━━━━━━━━━━━━━━━━━\u001b[0m\u001b[37m\u001b[0m \u001b[1m5s\u001b[0m 914us/step - accuracy: 0.4139 - loss: 2.4868 - val_accuracy: 0.4726 - val_loss: 2.2586\n",
      "Epoch 8/20\n",
      "\u001b[1m5082/5082\u001b[0m \u001b[32m━━━━━━━━━━━━━━━━━━━━\u001b[0m\u001b[37m\u001b[0m \u001b[1m5s\u001b[0m 903us/step - accuracy: 0.4322 - loss: 2.4035 - val_accuracy: 0.5044 - val_loss: 2.1638\n",
      "Epoch 9/20\n",
      "\u001b[1m5082/5082\u001b[0m \u001b[32m━━━━━━━━━━━━━━━━━━━━\u001b[0m\u001b[37m\u001b[0m \u001b[1m5s\u001b[0m 911us/step - accuracy: 0.4526 - loss: 2.2922 - val_accuracy: 0.5115 - val_loss: 2.0903\n",
      "Epoch 10/20\n",
      "\u001b[1m5082/5082\u001b[0m \u001b[32m━━━━━━━━━━━━━━━━━━━━\u001b[0m\u001b[37m\u001b[0m \u001b[1m5s\u001b[0m 900us/step - accuracy: 0.4778 - loss: 2.1973 - val_accuracy: 0.5469 - val_loss: 1.9987\n",
      "Epoch 11/20\n",
      "\u001b[1m5082/5082\u001b[0m \u001b[32m━━━━━━━━━━━━━━━━━━━━\u001b[0m\u001b[37m\u001b[0m \u001b[1m5s\u001b[0m 907us/step - accuracy: 0.5008 - loss: 2.1315 - val_accuracy: 0.5487 - val_loss: 1.9577\n",
      "Epoch 12/20\n",
      "\u001b[1m5082/5082\u001b[0m \u001b[32m━━━━━━━━━━━━━━━━━━━━\u001b[0m\u001b[37m\u001b[0m \u001b[1m5s\u001b[0m 913us/step - accuracy: 0.5157 - loss: 2.0753 - val_accuracy: 0.5752 - val_loss: 1.8848\n",
      "Epoch 13/20\n",
      "\u001b[1m5082/5082\u001b[0m \u001b[32m━━━━━━━━━━━━━━━━━━━━\u001b[0m\u001b[37m\u001b[0m \u001b[1m5s\u001b[0m 908us/step - accuracy: 0.5286 - loss: 2.0143 - val_accuracy: 0.5752 - val_loss: 1.8458\n",
      "Epoch 14/20\n",
      "\u001b[1m5082/5082\u001b[0m \u001b[32m━━━━━━━━━━━━━━━━━━━━\u001b[0m\u001b[37m\u001b[0m \u001b[1m5s\u001b[0m 892us/step - accuracy: 0.5435 - loss: 1.9431 - val_accuracy: 0.5929 - val_loss: 1.7931\n",
      "Epoch 15/20\n",
      "\u001b[1m5082/5082\u001b[0m \u001b[32m━━━━━━━━━━━━━━━━━━━━\u001b[0m\u001b[37m\u001b[0m \u001b[1m5s\u001b[0m 921us/step - accuracy: 0.5600 - loss: 1.8886 - val_accuracy: 0.6018 - val_loss: 1.7449\n",
      "Epoch 16/20\n",
      "\u001b[1m5082/5082\u001b[0m \u001b[32m━━━━━━━━━━━━━━━━━━━━\u001b[0m\u001b[37m\u001b[0m \u001b[1m5s\u001b[0m 894us/step - accuracy: 0.5700 - loss: 1.8370 - val_accuracy: 0.6177 - val_loss: 1.7097\n",
      "Epoch 17/20\n",
      "\u001b[1m5082/5082\u001b[0m \u001b[32m━━━━━━━━━━━━━━━━━━━━\u001b[0m\u001b[37m\u001b[0m \u001b[1m5s\u001b[0m 980us/step - accuracy: 0.5583 - loss: 1.8128 - val_accuracy: 0.6035 - val_loss: 1.6995\n",
      "Epoch 18/20\n",
      "\u001b[1m5082/5082\u001b[0m \u001b[32m━━━━━━━━━━━━━━━━━━━━\u001b[0m\u001b[37m\u001b[0m \u001b[1m5s\u001b[0m 963us/step - accuracy: 0.5884 - loss: 1.7510 - val_accuracy: 0.6177 - val_loss: 1.6567\n",
      "Epoch 19/20\n",
      "\u001b[1m5082/5082\u001b[0m \u001b[32m━━━━━━━━━━━━━━━━━━━━\u001b[0m\u001b[37m\u001b[0m \u001b[1m5s\u001b[0m 984us/step - accuracy: 0.5882 - loss: 1.7158 - val_accuracy: 0.6354 - val_loss: 1.6163\n",
      "Epoch 20/20\n",
      "\u001b[1m5082/5082\u001b[0m \u001b[32m━━━━━━━━━━━━━━━━━━━━\u001b[0m\u001b[37m\u001b[0m \u001b[1m5s\u001b[0m 959us/step - accuracy: 0.6036 - loss: 1.6726 - val_accuracy: 0.6478 - val_loss: 1.5960\n"
     ]
    }
   ],
   "source": [
    "epochs = 20\n",
    "history = model.fit(\n",
    "    train_ds,\n",
    "    validation_data=val_ds,\n",
    "    epochs=epochs,\n",
    "    callbacks=[tf.keras.callbacks.EarlyStopping(monitor='loss', patience=3)]\n",
    ")"
   ]
  },
  {
   "cell_type": "code",
   "execution_count": 20,
   "metadata": {},
   "outputs": [],
   "source": [
    "def history_plotter(history):\n",
    "    plt.figure(figsize=(16, 5))\n",
    "    plt.subplot(1, 2, 1)\n",
    "    plt.plot(history.history['accuracy'], label='accuracy')\n",
    "    plt.plot(history.history['val_accuracy'], label = 'val_accuracy')\n",
    "    plt.xlabel('Epoch')\n",
    "    plt.ylabel('Accuracy')\n",
    "    plt.legend(loc='lower right')\n",
    "\n",
    "    plt.subplot(1, 2, 2)\n",
    "    plt.plot(history.history['loss'], label='loss')\n",
    "    plt.plot(history.history['val_loss'], label = 'val_loss')\n",
    "    plt.xlabel('Epoch')\n",
    "    plt.ylabel('Loss')\n",
    "    plt.legend(loc='upper right')"
   ]
  },
  {
   "cell_type": "code",
   "execution_count": 21,
   "metadata": {},
   "outputs": [
    {
     "data": {
      "image/png": "[encoded data removed]",
      "text/plain": [
       "<Figure size 1600x500 with 2 Axes>"
      ]
     },
     "metadata": {},
     "output_type": "display_data"
    }
   ],
   "source": [
    "history_plotter(history)"
   ]
  },
  {
   "cell_type": "code",
   "execution_count": 22,
   "metadata": {},
   "outputs": [
    {
     "name": "stdout",
     "output_type": "stream",
     "text": [
      "\u001b[1m997/997\u001b[0m \u001b[32m━━━━━━━━━━━━━━━━━━━━\u001b[0m\u001b[37m\u001b[0m \u001b[1m0s\u001b[0m 291us/step - accuracy: 0.6093 - loss: 1.8256\n"
     ]
    },
    {
     "data": {
      "text/plain": [
       "[1.652542233467102, 0.6369107365608215]"
      ]
     },
     "execution_count": 22,
     "metadata": {},
     "output_type": "execute_result"
    }
   ],
   "source": [
    "model.evaluate(test_ds) # loss, accuracy"
   ]
  },
  {
   "cell_type": "markdown",
   "metadata": {},
   "source": [
    "## Evaluation"
   ]
  },
  {
   "cell_type": "code",
   "execution_count": 23,
   "metadata": {},
   "outputs": [],
   "source": [
    "def compute_score_1(hazards_true, hazards_pred):\n",
    "  # compute f1 for hazards:\n",
    "  f1_hazards = f1_score(\n",
    "    hazards_true,\n",
    "    hazards_pred,\n",
    "    average='macro'\n",
    "  )\n",
    "  return f1_hazards"
   ]
  },
  {
   "cell_type": "code",
   "execution_count": 24,
   "metadata": {},
   "outputs": [
    {
     "name": "stdout",
     "output_type": "stream",
     "text": [
      "\u001b[1m997/997\u001b[0m \u001b[32m━━━━━━━━━━━━━━━━━━━━\u001b[0m\u001b[37m\u001b[0m \u001b[1m0s\u001b[0m 219us/step\n"
     ]
    }
   ],
   "source": [
    "# Get predictions\n",
    "predictions = model.predict(test_ds)\n"
   ]
  },
  {
   "cell_type": "code",
   "execution_count": 25,
   "metadata": {},
   "outputs": [],
   "source": [
    "# Convert probabilities to class labels\n",
    "predicted_labels = tf.argmax(predictions, axis=1).numpy()"
   ]
  },
  {
   "cell_type": "code",
   "execution_count": 26,
   "metadata": {},
   "outputs": [
    {
     "name": "stderr",
     "output_type": "stream",
     "text": [
      "2025-02-13 16:36:00.274945: I tensorflow/core/framework/local_rendezvous.cc:405] Local rendezvous is aborting with status: OUT_OF_RANGE: End of sequence\n"
     ]
    }
   ],
   "source": [
    "# Collect true labels from the dataset\n",
    "true_labels = []\n",
    "for _, labels in test_ds:\n",
    "    true_labels.extend(labels.numpy())\n",
    "\n",
    "# Convert to NumPy array\n",
    "true_labels = np.array(true_labels)"
   ]
  },
  {
   "cell_type": "code",
   "execution_count": 27,
   "metadata": {},
   "outputs": [
    {
     "name": "stdout",
     "output_type": "stream",
     "text": [
      "              precision    recall  f1-score   support\n",
      "\n",
      "           0     0.0000    0.0000    0.0000         2\n",
      "           1     0.0000    0.0000    0.0000         1\n",
      "           2     0.0000    0.0000    0.0000         1\n",
      "           3     0.0000    0.0000    0.0000         1\n",
      "           4     0.0000    0.0000    0.0000         3\n",
      "           5     0.2727    0.2308    0.2500        13\n",
      "           7     0.0000    0.0000    0.0000         1\n",
      "           8     0.0000    0.0000    0.0000         1\n",
      "           9     0.0000    0.0000    0.0000         3\n",
      "          10     0.0000    0.0000    0.0000         1\n",
      "          11     0.0000    0.0000    0.0000         2\n",
      "          12     0.0000    0.0000    0.0000         1\n",
      "          13     0.0000    0.0000    0.0000         4\n",
      "          14     0.0000    0.0000    0.0000         6\n",
      "          15     0.0000    0.0000    0.0000         1\n",
      "          16     0.0000    0.0000    0.0000         1\n",
      "          17     0.6757    0.6098    0.6410        41\n",
      "          18     0.0000    0.0000    0.0000         1\n",
      "          19     0.0000    0.0000    0.0000         2\n",
      "          20     0.0000    0.0000    0.0000         2\n",
      "          22     1.0000    0.5000    0.6667         8\n",
      "          24     0.0000    0.0000    0.0000         1\n",
      "          25     0.0000    0.0000    0.0000         1\n",
      "          27     0.0000    0.0000    0.0000         1\n",
      "          28     0.0000    0.0000    0.0000         3\n",
      "          29     0.0000    0.0000    0.0000         2\n",
      "          31     0.0000    0.0000    0.0000         1\n",
      "          33     0.0000    0.0000    0.0000         2\n",
      "          34     0.5556    0.6098    0.5814        41\n",
      "          35     0.0000    0.0000    0.0000         2\n",
      "          36     0.8824    0.9574    0.9184        47\n",
      "          37     0.0000    0.0000    0.0000         1\n",
      "          38     1.0000    0.1250    0.2222         8\n",
      "          39     0.0000    0.0000    0.0000         5\n",
      "          40     0.3571    0.2941    0.3226        17\n",
      "          42     0.0000    0.0000    0.0000         3\n",
      "          43     0.5000    0.3333    0.4000         6\n",
      "          44     0.0000    0.0000    0.0000         1\n",
      "          45     0.5000    0.5000    0.5000         2\n",
      "          46     0.0000    0.0000    0.0000         1\n",
      "          47     0.0000    0.0000    0.0000         3\n",
      "          48     0.0000    0.0000    0.0000         1\n",
      "          49     0.0000    0.0000    0.0000         8\n",
      "          50     0.5000    0.2000    0.2857         5\n",
      "          51     0.0000    0.0000    0.0000         4\n",
      "          52     0.5143    0.9000    0.6545        20\n",
      "          53     0.0000    0.0000    0.0000         4\n",
      "          54     0.0000    0.0000    0.0000         7\n",
      "          55     0.9590    0.8931    0.9249       131\n",
      "          56     0.0000    0.0000    0.0000         1\n",
      "          57     0.2875    0.7419    0.4144        31\n",
      "          58     0.0000    0.0000    0.0000         3\n",
      "          59     0.7286    0.8870    0.8000       115\n",
      "          60     0.0000    0.0000    0.0000         3\n",
      "          61     0.0000    0.0000    0.0000         5\n",
      "          62     0.0000    0.0000    0.0000         1\n",
      "          63     0.0000    0.0000    0.0000         1\n",
      "          64     0.0000    0.0000    0.0000         5\n",
      "          65     0.7000    0.7000    0.7000        10\n",
      "          67     0.0000    0.0000    0.0000         1\n",
      "          68     0.5714    1.0000    0.7273         4\n",
      "          69     0.0000    0.0000    0.0000         1\n",
      "          70     0.0000    0.0000    0.0000         6\n",
      "          73     0.1235    0.5263    0.2000        19\n",
      "          74     0.0000    0.0000    0.0000         1\n",
      "          75     0.4000    0.2857    0.3333         7\n",
      "          77     0.0000    0.0000    0.0000         3\n",
      "          78     0.0000    0.0000    0.0000         4\n",
      "          79     0.0000    0.0000    0.0000         2\n",
      "          80     0.0000    0.0000    0.0000         4\n",
      "          81     0.0000    0.0000    0.0000         1\n",
      "          82     0.0000    0.0000    0.0000         1\n",
      "          83     0.0000    0.0000    0.0000         1\n",
      "          84     0.0000    0.0000    0.0000         2\n",
      "          85     0.6562    1.0000    0.7925        42\n",
      "          86     0.0000    0.0000    0.0000         3\n",
      "          88     0.0000    0.0000    0.0000         1\n",
      "          89     0.0000    0.0000    0.0000         2\n",
      "          90     0.4407    0.6500    0.5253        40\n",
      "          91     1.0000    1.0000    1.0000         1\n",
      "          92     0.0000    0.0000    0.0000         1\n",
      "          93     0.0000    0.0000    0.0000         2\n",
      "          94     0.0000    0.0000    0.0000         8\n",
      "          95     0.0000    0.0000    0.0000         1\n",
      "          96     0.0000    0.0000    0.0000         1\n",
      "          97     0.0000    0.0000    0.0000         6\n",
      "          98     0.9219    0.9672    0.9440       122\n",
      "          99     0.7500    0.3750    0.5000         8\n",
      "         100     0.3929    0.6471    0.4889        34\n",
      "         101     0.0000    0.0000    0.0000         2\n",
      "         102     1.0000    0.1667    0.2857         6\n",
      "         104     0.0000    0.0000    0.0000         2\n",
      "         105     0.0000    0.0000    0.0000         2\n",
      "         107     0.0000    0.0000    0.0000         2\n",
      "         108     0.7500    1.0000    0.8571         3\n",
      "         109     0.7778    0.7778    0.7778        18\n",
      "         111     0.0000    0.0000    0.0000         1\n",
      "         113     1.0000    1.0000    1.0000         1\n",
      "         114     0.0000    0.0000    0.0000         4\n",
      "         115     0.0000    0.0000    0.0000         1\n",
      "         116     0.0000    0.0000    0.0000         1\n",
      "         118     0.0000    0.0000    0.0000         1\n",
      "         119     1.0000    0.9000    0.9474        10\n",
      "         120     0.0000    0.0000    0.0000         1\n",
      "         121     0.0000    0.0000    0.0000         3\n",
      "         122     0.0000    0.0000    0.0000         2\n",
      "         124     0.0000    0.0000    0.0000         1\n",
      "         125     0.0000    0.0000    0.0000         1\n",
      "         126     0.0000    0.0000    0.0000         6\n",
      "         127     0.0000    0.0000    0.0000         1\n",
      "\n",
      "    accuracy                         0.6369       997\n",
      "   macro avg     0.1747    0.1707    0.1606       997\n",
      "weighted avg     0.5801    0.6369    0.5907       997\n",
      "\n"
     ]
    },
    {
     "name": "stderr",
     "output_type": "stream",
     "text": [
      "/Users/nataliakokota/Desktop/Food Hazard Detection/Food-Hazard-Challenge/venv/lib/python3.12/site-packages/sklearn/metrics/_classification.py:1565: UndefinedMetricWarning: Precision is ill-defined and being set to 0.0 in labels with no predicted samples. Use `zero_division` parameter to control this behavior.\n",
      "  _warn_prf(average, modifier, f\"{metric.capitalize()} is\", len(result))\n",
      "/Users/nataliakokota/Desktop/Food Hazard Detection/Food-Hazard-Challenge/venv/lib/python3.12/site-packages/sklearn/metrics/_classification.py:1565: UndefinedMetricWarning: Precision is ill-defined and being set to 0.0 in labels with no predicted samples. Use `zero_division` parameter to control this behavior.\n",
      "  _warn_prf(average, modifier, f\"{metric.capitalize()} is\", len(result))\n",
      "/Users/nataliakokota/Desktop/Food Hazard Detection/Food-Hazard-Challenge/venv/lib/python3.12/site-packages/sklearn/metrics/_classification.py:1565: UndefinedMetricWarning: Precision is ill-defined and being set to 0.0 in labels with no predicted samples. Use `zero_division` parameter to control this behavior.\n",
      "  _warn_prf(average, modifier, f\"{metric.capitalize()} is\", len(result))\n"
     ]
    }
   ],
   "source": [
    "# Generate precision, recall, and F1-score report\n",
    "report = classification_report(true_labels, predicted_labels, digits=4)\n",
    "\n",
    "# Print the report\n",
    "print(report)"
   ]
  },
  {
   "cell_type": "code",
   "execution_count": 28,
   "metadata": {},
   "outputs": [
    {
     "name": "stdout",
     "output_type": "stream",
     "text": [
      "0.16055488052654923\n"
     ]
    }
   ],
   "source": [
    "print(compute_score_1(true_labels, predicted_labels))"
   ]
  },
  {
   "cell_type": "code",
   "execution_count": 29,
   "metadata": {},
   "outputs": [],
   "source": [
    "def compute_score(hazards_true, products_true, hazards_pred, products_pred):\n",
    "  # compute f1 for hazards:\n",
    "  f1_hazards = f1_score(\n",
    "    hazards_true,\n",
    "    hazards_pred,\n",
    "    average='macro'\n",
    "  )\n",
    "\n",
    "  # compute f1 for products:\n",
    "  f1_products = f1_score(\n",
    "    products_true[hazards_pred == hazards_true],\n",
    "    products_pred[hazards_pred == hazards_true],\n",
    "    average='macro'\n",
    "  )\n",
    "\n",
    "  return (f1_hazards + f1_products) / 2."
   ]
  },
  {
   "cell_type": "code",
   "execution_count": null,
   "metadata": {},
   "outputs": [],
   "source": []
  }
 ],
 "metadata": {
  "kernelspec": {
   "display_name": "venv",
   "language": "python",
   "name": "python3"
  },
  "language_info": {
   "codemirror_mode": {
    "name": "ipython",
    "version": 3
   },
   "file_extension": ".py",
   "mimetype": "text/x-python",
   "name": "python",
   "nbconvert_exporter": "python",
   "pygments_lexer": "ipython3",
   "version": "3.12.0"
  }
 },
 "nbformat": 4,
 "nbformat_minor": 2
}
