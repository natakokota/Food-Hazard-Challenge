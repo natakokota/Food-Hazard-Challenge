{
 "cells": [
  {
   "cell_type": "code",
   "execution_count": 1,
   "metadata": {},
   "outputs": [
    {
     "name": "stdout",
     "output_type": "stream",
     "text": [
      "Note: you may need to restart the kernel to use updated packages.\n"
     ]
    }
   ],
   "source": [
    "%pip install scikit-learn -q"
   ]
  },
  {
   "cell_type": "code",
   "execution_count": 2,
   "metadata": {},
   "outputs": [
    {
     "name": "stdout",
     "output_type": "stream",
     "text": [
      "Note: you may need to restart the kernel to use updated packages.\n"
     ]
    }
   ],
   "source": [
    "%pip install tensorflow -q"
   ]
  },
  {
   "cell_type": "code",
   "execution_count": 3,
   "metadata": {},
   "outputs": [
    {
     "name": "stdout",
     "output_type": "stream",
     "text": [
      "Note: you may need to restart the kernel to use updated packages.\n"
     ]
    }
   ],
   "source": [
    "%pip install --upgrade setuptools -q"
   ]
  },
  {
   "cell_type": "code",
   "execution_count": 4,
   "metadata": {},
   "outputs": [
    {
     "name": "stdout",
     "output_type": "stream",
     "text": [
      "Note: you may need to restart the kernel to use updated packages.\n"
     ]
    }
   ],
   "source": [
    "%pip install matplotlib -q"
   ]
  },
  {
   "cell_type": "code",
   "execution_count": 5,
   "metadata": {},
   "outputs": [],
   "source": [
    "import pandas as pd\n",
    "import numpy as np\n",
    "import tensorflow as tf\n",
    "import re\n",
    "import string\n",
    "\n",
    "from tensorflow import keras\n",
    "from tensorflow.keras import layers\n",
    "from tensorflow.keras import losses\n",
    "\n",
    "from sklearn.metrics import f1_score\n",
    "from sklearn.metrics import classification_report\n",
    "\n",
    "import matplotlib.pyplot as plt"
   ]
  },
  {
   "cell_type": "code",
   "execution_count": 6,
   "metadata": {},
   "outputs": [
    {
     "name": "stdout",
     "output_type": "stream",
     "text": [
      "<class 'pandas.core.frame.DataFrame'>\n",
      "RangeIndex: 5082 entries, 0 to 5081\n",
      "Data columns (total 11 columns):\n",
      " #   Column            Non-Null Count  Dtype \n",
      "---  ------            --------------  ----- \n",
      " 0   index             5082 non-null   int64 \n",
      " 1   year              5082 non-null   int64 \n",
      " 2   month             5082 non-null   int64 \n",
      " 3   day               5082 non-null   int64 \n",
      " 4   country           5082 non-null   object\n",
      " 5   title             5082 non-null   object\n",
      " 6   text              5082 non-null   object\n",
      " 7   hazard-category   5082 non-null   object\n",
      " 8   product-category  5082 non-null   object\n",
      " 9   hazard            5082 non-null   object\n",
      " 10  product           5082 non-null   object\n",
      "dtypes: int64(4), object(7)\n",
      "memory usage: 436.9+ KB\n",
      "None\n"
     ]
    }
   ],
   "source": [
    "labeled_train_df = pd.read_csv(\"labeled_training_incidents.csv\").rename(columns={\"Unnamed: 0\": \"index\"})\n",
    "print(labeled_train_df.info())"
   ]
  },
  {
   "cell_type": "code",
   "execution_count": 7,
   "metadata": {},
   "outputs": [],
   "source": [
    "labeled_valid_df = pd.read_csv(\"labeled_validation_incidents.csv\").rename(columns={\"Unnamed: 0\": \"index\"})\n",
    "labeled_test_df = pd.read_csv(\"labeled_test_incidents.csv\").rename(columns={\"Unnamed: 0\": \"index\"})"
   ]
  },
  {
   "cell_type": "markdown",
   "metadata": {},
   "source": [
    "encode categorical columns before passing them to the classifier. <br>\n",
    "one hot encoding for country (It's particularly suitable for nominal categorical features, where the categories have no inherent order or ranking.) <br>\n",
    "Be aware of the \"dummy variable trap,\" where multicollinearity can occur if one column can be predicted from the others..To avoid this, you can safely drop one of the one-hot encoded columns, reducing the dimensionality by one. You can declare the drop_first=True in the get_dummies function as shown below.<br>\n",
    "Binary Encoding\n"
   ]
  },
  {
   "cell_type": "markdown",
   "metadata": {},
   "source": [
    "https://kantschants.com/complete-guide-to-encoding-categorical-features#"
   ]
  },
  {
   "cell_type": "code",
   "execution_count": 8,
   "metadata": {},
   "outputs": [
    {
     "name": "stdout",
     "output_type": "stream",
     "text": [
      "                                                text  label\n",
      "0  Case Number: 024-94   \\n            Date Opene...      0\n",
      "1  Case Number: 033-94   \\n            Date Opene...      0\n",
      "2  Case Number: 014-94   \\n            Date Opene...      0\n",
      "3  Case Number: 009-94   \\n            Date Opene...      1\n",
      "4  Case Number: 001-94   \\n            Date Opene...      1\n"
     ]
    }
   ],
   "source": [
    "# Extract unique hazard-category values and create a list\n",
    "unique_hazard_categories = labeled_train_df[\"hazard-category\"].unique().tolist()\n",
    "\n",
    "# Create a mapping dictionary\n",
    "hazard_category_mapping = {category: idx for idx, category in enumerate(unique_hazard_categories)}\n",
    "\n",
    "# Create a new dataframe with text and hazard_category_label\n",
    "train_st1_hazard = labeled_train_df[['text']].copy()\n",
    "train_st1_hazard['label'] = labeled_train_df['hazard-category'].map(hazard_category_mapping)\n",
    "print(train_st1_hazard.head())\n"
   ]
  },
  {
   "cell_type": "code",
   "execution_count": 9,
   "metadata": {},
   "outputs": [
    {
     "name": "stdout",
     "output_type": "stream",
     "text": [
      "                                                text  label\n",
      "0  Case Number: 017-94   \\n            Date Opene...      0\n",
      "1  Case Number: 048-94   \\n            Date Opene...      0\n",
      "2  Case Number: 032-95   \\n            Date Opene...      0\n",
      "3  PRESENCE OF UNDECLARED NUTS IN ORIGINALE AUGUS...      5\n",
      "4  Case Number: 018-98  Recall Notification Repor...      1\n",
      "                                                text  label\n",
      "0  Case Number: 039-94   \\n            Date Opene...      0\n",
      "1  Case Number: 026-95   \\n            Date Opene...      0\n",
      "2  Case Number: 028-95   \\n            Date Opene...      0\n",
      "3  PRA No. 1998/3500 Date published 17 Mar 1998 P...      0\n",
      "4  PRA No. 1998/3645 Date published 10 Sep 1998 P...      1\n"
     ]
    }
   ],
   "source": [
    "# Create a new dataframe with text and hazard_category_label\n",
    "valid_st1_hazard = labeled_valid_df[['text']].copy()\n",
    "valid_st1_hazard['label'] = labeled_valid_df['hazard-category'].map(hazard_category_mapping)\n",
    "print(valid_st1_hazard.head())\n",
    "\n",
    "# Create a new dataframe with text and hazard_category_label\n",
    "test_st1_hazard = labeled_test_df[['text']].copy()\n",
    "test_st1_hazard['label'] = labeled_test_df['hazard-category'].map(hazard_category_mapping)\n",
    "print(test_st1_hazard.head())"
   ]
  },
  {
   "cell_type": "markdown",
   "metadata": {},
   "source": [
    "TF-IDF ENCODING"
   ]
  },
  {
   "cell_type": "markdown",
   "metadata": {},
   "source": [
    "Text Preprocessing with Custom Standardization <br>\n",
    "This function cleans the text data:\n",
    "* Converts all text to lowercase.\n",
    "* Replaces newlines (\\n) with a space.\n",
    "* Removes punctuation."
   ]
  },
  {
   "cell_type": "code",
   "execution_count": 10,
   "metadata": {},
   "outputs": [],
   "source": [
    "def custom_standardization(input_data):\n",
    "    lowercase = tf.strings.lower(input_data)\n",
    "    stripped_html = tf.strings.regex_replace(lowercase, '\\n            ', ' ')\n",
    "    return tf.strings.regex_replace(stripped_html,\n",
    "                                    '[%s]' % re.escape(string.punctuation),\n",
    "                                    '')"
   ]
  },
  {
   "cell_type": "markdown",
   "metadata": {},
   "source": [
    "* The TextVectorization layer converts raw text into integer sequences.\n",
    "* max_features=20000: Uses the top 20,000 words in the dataset.\n",
    "* sequence_length=250: Each text sample is truncated or padded to a fixed length of 250 tokens.\n",
    "* The standardize function applies the custom text cleaning we defined earlier."
   ]
  },
  {
   "cell_type": "code",
   "execution_count": 11,
   "metadata": {},
   "outputs": [],
   "source": [
    "max_features = 20000\n",
    "sequence_length = 250\n",
    "\n",
    "vectorize_layer = layers.TextVectorization(\n",
    "    standardize=custom_standardization,\n",
    "    max_tokens=max_features,\n",
    "    output_mode='int',\n",
    "    output_sequence_length=sequence_length)\n"
   ]
  },
  {
   "cell_type": "markdown",
   "metadata": {},
   "source": [
    "* The training dataset is converted into a TensorFlow Dataset.\n",
    "* train_st1_hazard[\"text\"] contains the input text.\n",
    "* train_st1_hazard[\"label\"] contains the corresponding labels."
   ]
  },
  {
   "cell_type": "code",
   "execution_count": 12,
   "metadata": {},
   "outputs": [],
   "source": [
    "# Ensure tensors are explicitly set\n",
    "train_st1_hazard_ds = tf.data.Dataset.from_tensor_slices((\n",
    "    tf.convert_to_tensor(train_st1_hazard[\"text\"].values, dtype=tf.string),\n",
    "    tf.convert_to_tensor(train_st1_hazard[\"label\"].values, dtype=tf.int32)\n",
    "))\n",
    "\n",
    "# Apply mapping\n",
    "text_only_train_st1_hazard_ds = train_st1_hazard_ds.map(lambda x, y: tf.cast(x, tf.string))\n"
   ]
  },
  {
   "cell_type": "markdown",
   "metadata": {},
   "source": [
    "* The function vectorize_text() transforms text samples into numerical sequences using vectorize_layer.\n",
    "* Labels are reshaped to match expected input format."
   ]
  },
  {
   "cell_type": "code",
   "execution_count": 13,
   "metadata": {},
   "outputs": [],
   "source": [
    "def vectorize_text(text, label):\n",
    "    text = tf.expand_dims(text, -1)  # Ensure text has shape (1,)\n",
    "    label = tf.expand_dims(label, -1)  # Ensure labels have shape (1,)\n",
    "    label = tf.cast(label, tf.int32)  # Convert labels to integers\n",
    "    return vectorize_layer(text), label"
   ]
  },
  {
   "cell_type": "markdown",
   "metadata": {},
   "source": [
    "* The vectorization layer learns the vocabulary from the training data.\n",
    "* The datasets (train_st1_hazard, valid_st1_hazard, test_st1_hazard) are mapped through vectorize_text() so that text inputs are converted to integer sequences."
   ]
  },
  {
   "cell_type": "code",
   "execution_count": 14,
   "metadata": {},
   "outputs": [
    {
     "name": "stderr",
     "output_type": "stream",
     "text": [
      "2025-02-09 17:58:24.659291: I tensorflow/core/framework/local_rendezvous.cc:405] Local rendezvous is aborting with status: OUT_OF_RANGE: End of sequence\n"
     ]
    }
   ],
   "source": [
    "vectorize_layer.adapt(text_only_train_st1_hazard_ds)\n",
    "# Ensure tensors are explicitly set\n",
    "train_st1_hazard = tf.data.Dataset.from_tensor_slices((\n",
    "    tf.convert_to_tensor(train_st1_hazard[\"text\"].values, dtype=tf.string),\n",
    "    tf.convert_to_tensor(train_st1_hazard[\"label\"].values, dtype=tf.int32)\n",
    "))\n",
    "\n",
    "valid_st1_hazard = tf.data.Dataset.from_tensor_slices((\n",
    "    tf.convert_to_tensor(valid_st1_hazard[\"text\"].values, dtype=tf.string),\n",
    "    tf.convert_to_tensor(valid_st1_hazard[\"label\"].values, dtype=tf.int32)\n",
    "))\n",
    "\n",
    "test_st1_hazard = tf.data.Dataset.from_tensor_slices((\n",
    "    tf.convert_to_tensor(test_st1_hazard[\"text\"].values, dtype=tf.string),\n",
    "    tf.convert_to_tensor(test_st1_hazard[\"label\"].values, dtype=tf.int32)\n",
    "))\n",
    "\n",
    "train_ds = train_st1_hazard.map(vectorize_text)\n",
    "val_ds = valid_st1_hazard.map(vectorize_text)\n",
    "test_ds = test_st1_hazard.map(vectorize_text)"
   ]
  },
  {
   "cell_type": "code",
   "execution_count": 15,
   "metadata": {},
   "outputs": [],
   "source": [
    "AUTOTUNE = tf.data.AUTOTUNE\n",
    "\n",
    "train_ds = train_ds.cache().prefetch(buffer_size=AUTOTUNE)\n",
    "val_ds = val_ds.cache().prefetch(buffer_size=AUTOTUNE)\n",
    "test_ds = test_ds.cache().prefetch(buffer_size=AUTOTUNE)"
   ]
  },
  {
   "cell_type": "markdown",
   "metadata": {},
   "source": [
    "The model is a simple neural network for text classification:\n",
    "1. Input layer: Takes integer sequences of length 250.\n",
    "2. Embedding layer: Converts integer tokens into dense vector representations (size 16).\n",
    "3. Dropout (0.2): Prevents overfitting.\n",
    "4. GlobalAveragePooling1D: Reduces the sequence into a fixed-length vector.\n",
    "5. Dropout (0.2): Further regularization.\n",
    "6. Dense Layer (Softmax Activation): Outputs probabilities for 10 classes."
   ]
  },
  {
   "cell_type": "code",
   "execution_count": null,
   "metadata": {},
   "outputs": [
    {
     "data": {
      "text/html": [
       "<pre style=\"white-space:pre;overflow-x:auto;line-height:normal;font-family:Menlo,'DejaVu Sans Mono',consolas,'Courier New',monospace\"><span style=\"font-weight: bold\">Model: \"sequential\"</span>\n",
       "</pre>\n"
      ],
      "text/plain": [
       "\u001b[1mModel: \"sequential\"\u001b[0m\n"
      ]
     },
     "metadata": {},
     "output_type": "display_data"
    },
    {
     "data": {
      "text/html": [
       "<pre style=\"white-space:pre;overflow-x:auto;line-height:normal;font-family:Menlo,'DejaVu Sans Mono',consolas,'Courier New',monospace\">┏━━━━━━━━━━━━━━━━━━━━━━━━━━━━━━━━━┳━━━━━━━━━━━━━━━━━━━━━━━━┳━━━━━━━━━━━━━━━┓\n",
       "┃<span style=\"font-weight: bold\"> Layer (type)                    </span>┃<span style=\"font-weight: bold\"> Output Shape           </span>┃<span style=\"font-weight: bold\">       Param # </span>┃\n",
       "┡━━━━━━━━━━━━━━━━━━━━━━━━━━━━━━━━━╇━━━━━━━━━━━━━━━━━━━━━━━━╇━━━━━━━━━━━━━━━┩\n",
       "│ embedding (<span style=\"color: #0087ff; text-decoration-color: #0087ff\">Embedding</span>)           │ (<span style=\"color: #00d7ff; text-decoration-color: #00d7ff\">None</span>, <span style=\"color: #00af00; text-decoration-color: #00af00\">250</span>, <span style=\"color: #00af00; text-decoration-color: #00af00\">16</span>)        │       <span style=\"color: #00af00; text-decoration-color: #00af00\">320,000</span> │\n",
       "├─────────────────────────────────┼────────────────────────┼───────────────┤\n",
       "│ dropout (<span style=\"color: #0087ff; text-decoration-color: #0087ff\">Dropout</span>)               │ (<span style=\"color: #00d7ff; text-decoration-color: #00d7ff\">None</span>, <span style=\"color: #00af00; text-decoration-color: #00af00\">250</span>, <span style=\"color: #00af00; text-decoration-color: #00af00\">16</span>)        │             <span style=\"color: #00af00; text-decoration-color: #00af00\">0</span> │\n",
       "├─────────────────────────────────┼────────────────────────┼───────────────┤\n",
       "│ global_average_pooling1d        │ (<span style=\"color: #00d7ff; text-decoration-color: #00d7ff\">None</span>, <span style=\"color: #00af00; text-decoration-color: #00af00\">16</span>)             │             <span style=\"color: #00af00; text-decoration-color: #00af00\">0</span> │\n",
       "│ (<span style=\"color: #0087ff; text-decoration-color: #0087ff\">GlobalAveragePooling1D</span>)        │                        │               │\n",
       "├─────────────────────────────────┼────────────────────────┼───────────────┤\n",
       "│ dropout_1 (<span style=\"color: #0087ff; text-decoration-color: #0087ff\">Dropout</span>)             │ (<span style=\"color: #00d7ff; text-decoration-color: #00d7ff\">None</span>, <span style=\"color: #00af00; text-decoration-color: #00af00\">16</span>)             │             <span style=\"color: #00af00; text-decoration-color: #00af00\">0</span> │\n",
       "├─────────────────────────────────┼────────────────────────┼───────────────┤\n",
       "│ dense (<span style=\"color: #0087ff; text-decoration-color: #0087ff\">Dense</span>)                   │ (<span style=\"color: #00d7ff; text-decoration-color: #00d7ff\">None</span>, <span style=\"color: #00af00; text-decoration-color: #00af00\">10</span>)             │           <span style=\"color: #00af00; text-decoration-color: #00af00\">170</span> │\n",
       "└─────────────────────────────────┴────────────────────────┴───────────────┘\n",
       "</pre>\n"
      ],
      "text/plain": [
       "┏━━━━━━━━━━━━━━━━━━━━━━━━━━━━━━━━━┳━━━━━━━━━━━━━━━━━━━━━━━━┳━━━━━━━━━━━━━━━┓\n",
       "┃\u001b[1m \u001b[0m\u001b[1mLayer (type)                   \u001b[0m\u001b[1m \u001b[0m┃\u001b[1m \u001b[0m\u001b[1mOutput Shape          \u001b[0m\u001b[1m \u001b[0m┃\u001b[1m \u001b[0m\u001b[1m      Param #\u001b[0m\u001b[1m \u001b[0m┃\n",
       "┡━━━━━━━━━━━━━━━━━━━━━━━━━━━━━━━━━╇━━━━━━━━━━━━━━━━━━━━━━━━╇━━━━━━━━━━━━━━━┩\n",
       "│ embedding (\u001b[38;5;33mEmbedding\u001b[0m)           │ (\u001b[38;5;45mNone\u001b[0m, \u001b[38;5;34m250\u001b[0m, \u001b[38;5;34m16\u001b[0m)        │       \u001b[38;5;34m320,000\u001b[0m │\n",
       "├─────────────────────────────────┼────────────────────────┼───────────────┤\n",
       "│ dropout (\u001b[38;5;33mDropout\u001b[0m)               │ (\u001b[38;5;45mNone\u001b[0m, \u001b[38;5;34m250\u001b[0m, \u001b[38;5;34m16\u001b[0m)        │             \u001b[38;5;34m0\u001b[0m │\n",
       "├─────────────────────────────────┼────────────────────────┼───────────────┤\n",
       "│ global_average_pooling1d        │ (\u001b[38;5;45mNone\u001b[0m, \u001b[38;5;34m16\u001b[0m)             │             \u001b[38;5;34m0\u001b[0m │\n",
       "│ (\u001b[38;5;33mGlobalAveragePooling1D\u001b[0m)        │                        │               │\n",
       "├─────────────────────────────────┼────────────────────────┼───────────────┤\n",
       "│ dropout_1 (\u001b[38;5;33mDropout\u001b[0m)             │ (\u001b[38;5;45mNone\u001b[0m, \u001b[38;5;34m16\u001b[0m)             │             \u001b[38;5;34m0\u001b[0m │\n",
       "├─────────────────────────────────┼────────────────────────┼───────────────┤\n",
       "│ dense (\u001b[38;5;33mDense\u001b[0m)                   │ (\u001b[38;5;45mNone\u001b[0m, \u001b[38;5;34m10\u001b[0m)             │           \u001b[38;5;34m170\u001b[0m │\n",
       "└─────────────────────────────────┴────────────────────────┴───────────────┘\n"
      ]
     },
     "metadata": {},
     "output_type": "display_data"
    },
    {
     "data": {
      "text/html": [
       "<pre style=\"white-space:pre;overflow-x:auto;line-height:normal;font-family:Menlo,'DejaVu Sans Mono',consolas,'Courier New',monospace\"><span style=\"font-weight: bold\"> Total params: </span><span style=\"color: #00af00; text-decoration-color: #00af00\">320,170</span> (1.22 MB)\n",
       "</pre>\n"
      ],
      "text/plain": [
       "\u001b[1m Total params: \u001b[0m\u001b[38;5;34m320,170\u001b[0m (1.22 MB)\n"
      ]
     },
     "metadata": {},
     "output_type": "display_data"
    },
    {
     "data": {
      "text/html": [
       "<pre style=\"white-space:pre;overflow-x:auto;line-height:normal;font-family:Menlo,'DejaVu Sans Mono',consolas,'Courier New',monospace\"><span style=\"font-weight: bold\"> Trainable params: </span><span style=\"color: #00af00; text-decoration-color: #00af00\">320,170</span> (1.22 MB)\n",
       "</pre>\n"
      ],
      "text/plain": [
       "\u001b[1m Trainable params: \u001b[0m\u001b[38;5;34m320,170\u001b[0m (1.22 MB)\n"
      ]
     },
     "metadata": {},
     "output_type": "display_data"
    },
    {
     "data": {
      "text/html": [
       "<pre style=\"white-space:pre;overflow-x:auto;line-height:normal;font-family:Menlo,'DejaVu Sans Mono',consolas,'Courier New',monospace\"><span style=\"font-weight: bold\"> Non-trainable params: </span><span style=\"color: #00af00; text-decoration-color: #00af00\">0</span> (0.00 B)\n",
       "</pre>\n"
      ],
      "text/plain": [
       "\u001b[1m Non-trainable params: \u001b[0m\u001b[38;5;34m0\u001b[0m (0.00 B)\n"
      ]
     },
     "metadata": {},
     "output_type": "display_data"
    }
   ],
   "source": [
    "model = tf.keras.Sequential([\n",
    "  layers.Input(shape=(sequence_length,)),\n",
    "  layers.Embedding(max_features, 16),\n",
    "  layers.Dropout(0.3),\n",
    "  layers.GlobalAveragePooling1D(),\n",
    "  layers.Dropout(0.3),\n",
    "  layers.Dense(10, activation=\"softmax\")  # Multi-class output\n",
    "])\n",
    "\n",
    "model.summary()"
   ]
  },
  {
   "cell_type": "markdown",
   "metadata": {},
   "source": [
    "* Loss function: SparseCategoricalCrossentropy() (used for multi-class classification).\n",
    "* Optimizer: Adam optimizer (adaptive learning rate optimization).\n",
    "* Metrics: Accuracy is tracked."
   ]
  },
  {
   "cell_type": "code",
   "execution_count": 17,
   "metadata": {},
   "outputs": [],
   "source": [
    "# Choose the loss function based on your labels\n",
    "model.compile(loss=losses.SparseCategoricalCrossentropy(from_logits=False),  # Use CategoricalCrossentropy if labels are one-hot\n",
    "              optimizer='adam',\n",
    "              metrics=[\"accuracy\"])"
   ]
  },
  {
   "cell_type": "markdown",
   "metadata": {},
   "source": [
    "* The model is trained for 20 epochs.\n",
    "* Uses early stopping: Training stops if the loss does not improve for 3 consecutive epochs."
   ]
  },
  {
   "cell_type": "code",
   "execution_count": 18,
   "metadata": {},
   "outputs": [
    {
     "name": "stdout",
     "output_type": "stream",
     "text": [
      "Epoch 1/20\n",
      "\u001b[1m5082/5082\u001b[0m \u001b[32m━━━━━━━━━━━━━━━━━━━━\u001b[0m\u001b[37m\u001b[0m \u001b[1m5s\u001b[0m 976us/step - accuracy: 0.4975 - loss: 1.6106 - val_accuracy: 0.6460 - val_loss: 1.0431\n",
      "Epoch 2/20\n",
      "\u001b[1m5082/5082\u001b[0m \u001b[32m━━━━━━━━━━━━━━━━━━━━\u001b[0m\u001b[37m\u001b[0m \u001b[1m5s\u001b[0m 903us/step - accuracy: 0.6589 - loss: 1.0648 - val_accuracy: 0.7540 - val_loss: 0.8049\n",
      "Epoch 3/20\n",
      "\u001b[1m5082/5082\u001b[0m \u001b[32m━━━━━━━━━━━━━━━━━━━━\u001b[0m\u001b[37m\u001b[0m \u001b[1m5s\u001b[0m 887us/step - accuracy: 0.7261 - loss: 0.8781 - val_accuracy: 0.7947 - val_loss: 0.6819\n",
      "Epoch 4/20\n",
      "\u001b[1m5082/5082\u001b[0m \u001b[32m━━━━━━━━━━━━━━━━━━━━\u001b[0m\u001b[37m\u001b[0m \u001b[1m4s\u001b[0m 880us/step - accuracy: 0.7733 - loss: 0.7664 - val_accuracy: 0.8531 - val_loss: 0.5906\n",
      "Epoch 5/20\n",
      "\u001b[1m5082/5082\u001b[0m \u001b[32m━━━━━━━━━━━━━━━━━━━━\u001b[0m\u001b[37m\u001b[0m \u001b[1m4s\u001b[0m 861us/step - accuracy: 0.8026 - loss: 0.6691 - val_accuracy: 0.8619 - val_loss: 0.5285\n",
      "Epoch 6/20\n",
      "\u001b[1m5082/5082\u001b[0m \u001b[32m━━━━━━━━━━━━━━━━━━━━\u001b[0m\u001b[37m\u001b[0m \u001b[1m5s\u001b[0m 888us/step - accuracy: 0.8244 - loss: 0.5956 - val_accuracy: 0.8602 - val_loss: 0.4888\n",
      "Epoch 7/20\n",
      "\u001b[1m5082/5082\u001b[0m \u001b[32m━━━━━━━━━━━━━━━━━━━━\u001b[0m\u001b[37m\u001b[0m \u001b[1m4s\u001b[0m 874us/step - accuracy: 0.8401 - loss: 0.5423 - val_accuracy: 0.8708 - val_loss: 0.4611\n",
      "Epoch 8/20\n",
      "\u001b[1m5082/5082\u001b[0m \u001b[32m━━━━━━━━━━━━━━━━━━━━\u001b[0m\u001b[37m\u001b[0m \u001b[1m5s\u001b[0m 885us/step - accuracy: 0.8407 - loss: 0.5082 - val_accuracy: 0.8673 - val_loss: 0.4453\n",
      "Epoch 9/20\n",
      "\u001b[1m5082/5082\u001b[0m \u001b[32m━━━━━━━━━━━━━━━━━━━━\u001b[0m\u001b[37m\u001b[0m \u001b[1m5s\u001b[0m 921us/step - accuracy: 0.8621 - loss: 0.4731 - val_accuracy: 0.8690 - val_loss: 0.4270\n",
      "Epoch 10/20\n",
      "\u001b[1m5082/5082\u001b[0m \u001b[32m━━━━━━━━━━━━━━━━━━━━\u001b[0m\u001b[37m\u001b[0m \u001b[1m5s\u001b[0m 897us/step - accuracy: 0.8764 - loss: 0.4345 - val_accuracy: 0.8673 - val_loss: 0.4009\n",
      "Epoch 11/20\n",
      "\u001b[1m5082/5082\u001b[0m \u001b[32m━━━━━━━━━━━━━━━━━━━━\u001b[0m\u001b[37m\u001b[0m \u001b[1m5s\u001b[0m 902us/step - accuracy: 0.8821 - loss: 0.3976 - val_accuracy: 0.8743 - val_loss: 0.3900\n",
      "Epoch 12/20\n",
      "\u001b[1m5082/5082\u001b[0m \u001b[32m━━━━━━━━━━━━━━━━━━━━\u001b[0m\u001b[37m\u001b[0m \u001b[1m5s\u001b[0m 930us/step - accuracy: 0.8886 - loss: 0.3784 - val_accuracy: 0.8796 - val_loss: 0.3821\n",
      "Epoch 13/20\n",
      "\u001b[1m5082/5082\u001b[0m \u001b[32m━━━━━━━━━━━━━━━━━━━━\u001b[0m\u001b[37m\u001b[0m \u001b[1m5s\u001b[0m 936us/step - accuracy: 0.8927 - loss: 0.3577 - val_accuracy: 0.8832 - val_loss: 0.3867\n",
      "Epoch 14/20\n",
      "\u001b[1m5082/5082\u001b[0m \u001b[32m━━━━━━━━━━━━━━━━━━━━\u001b[0m\u001b[37m\u001b[0m \u001b[1m5s\u001b[0m 921us/step - accuracy: 0.9055 - loss: 0.3462 - val_accuracy: 0.8867 - val_loss: 0.3810\n",
      "Epoch 15/20\n",
      "\u001b[1m5082/5082\u001b[0m \u001b[32m━━━━━━━━━━━━━━━━━━━━\u001b[0m\u001b[37m\u001b[0m \u001b[1m5s\u001b[0m 888us/step - accuracy: 0.9110 - loss: 0.3109 - val_accuracy: 0.8814 - val_loss: 0.3857\n",
      "Epoch 16/20\n",
      "\u001b[1m5082/5082\u001b[0m \u001b[32m━━━━━━━━━━━━━━━━━━━━\u001b[0m\u001b[37m\u001b[0m \u001b[1m5s\u001b[0m 917us/step - accuracy: 0.9117 - loss: 0.2986 - val_accuracy: 0.8726 - val_loss: 0.3801\n",
      "Epoch 17/20\n",
      "\u001b[1m5082/5082\u001b[0m \u001b[32m━━━━━━━━━━━━━━━━━━━━\u001b[0m\u001b[37m\u001b[0m \u001b[1m5s\u001b[0m 904us/step - accuracy: 0.9110 - loss: 0.2946 - val_accuracy: 0.8920 - val_loss: 0.3831\n",
      "Epoch 18/20\n",
      "\u001b[1m5082/5082\u001b[0m \u001b[32m━━━━━━━━━━━━━━━━━━━━\u001b[0m\u001b[37m\u001b[0m \u001b[1m4s\u001b[0m 876us/step - accuracy: 0.9162 - loss: 0.2790 - val_accuracy: 0.8867 - val_loss: 0.3957\n",
      "Epoch 19/20\n",
      "\u001b[1m5082/5082\u001b[0m \u001b[32m━━━━━━━━━━━━━━━━━━━━\u001b[0m\u001b[37m\u001b[0m \u001b[1m4s\u001b[0m 858us/step - accuracy: 0.9198 - loss: 0.2742 - val_accuracy: 0.8956 - val_loss: 0.3784\n",
      "Epoch 20/20\n",
      "\u001b[1m5082/5082\u001b[0m \u001b[32m━━━━━━━━━━━━━━━━━━━━\u001b[0m\u001b[37m\u001b[0m \u001b[1m5s\u001b[0m 907us/step - accuracy: 0.9208 - loss: 0.2625 - val_accuracy: 0.8920 - val_loss: 0.3841\n"
     ]
    }
   ],
   "source": [
    "epochs = 20\n",
    "history = model.fit(\n",
    "    train_ds,\n",
    "    validation_data=val_ds,\n",
    "    epochs=epochs,\n",
    "    callbacks=[tf.keras.callbacks.EarlyStopping(monitor='loss', patience=3)]\n",
    ")"
   ]
  },
  {
   "cell_type": "code",
   "execution_count": 19,
   "metadata": {},
   "outputs": [],
   "source": [
    "def history_plotter(history):\n",
    "    plt.figure(figsize=(16, 5))\n",
    "    plt.subplot(1, 2, 1)\n",
    "    plt.plot(history.history['accuracy'], label='accuracy')\n",
    "    plt.plot(history.history['val_accuracy'], label = 'val_accuracy')\n",
    "    plt.xlabel('Epoch')\n",
    "    plt.ylabel('Accuracy')\n",
    "    plt.legend(loc='lower right')\n",
    "\n",
    "    plt.subplot(1, 2, 2)\n",
    "    plt.plot(history.history['loss'], label='loss')\n",
    "    plt.plot(history.history['val_loss'], label = 'val_loss')\n",
    "    plt.xlabel('Epoch')\n",
    "    plt.ylabel('Loss')\n",
    "    plt.legend(loc='upper right')"
   ]
  },
  {
   "cell_type": "code",
   "execution_count": 20,
   "metadata": {},
   "outputs": [
    {
     "data": {
      "image/png": "[encoded data removed]",
      "text/plain": [
       "<Figure size 1600x500 with 2 Axes>"
      ]
     },
     "metadata": {},
     "output_type": "display_data"
    }
   ],
   "source": [
    "history_plotter(history)"
   ]
  },
  {
   "cell_type": "code",
   "execution_count": 21,
   "metadata": {},
   "outputs": [
    {
     "name": "stdout",
     "output_type": "stream",
     "text": [
      "\u001b[1m997/997\u001b[0m \u001b[32m━━━━━━━━━━━━━━━━━━━━\u001b[0m\u001b[37m\u001b[0m \u001b[1m0s\u001b[0m 280us/step - accuracy: 0.8867 - loss: 0.3904\n"
     ]
    },
    {
     "data": {
      "text/plain": [
       "[0.3570306897163391, 0.9017050862312317]"
      ]
     },
     "execution_count": 21,
     "metadata": {},
     "output_type": "execute_result"
    }
   ],
   "source": [
    "model.evaluate(test_ds) # loss, accuracy"
   ]
  },
  {
   "cell_type": "markdown",
   "metadata": {},
   "source": [
    "## Evaluation"
   ]
  },
  {
   "cell_type": "code",
   "execution_count": 22,
   "metadata": {},
   "outputs": [],
   "source": [
    "def compute_score_1(hazards_true, hazards_pred):\n",
    "  # compute f1 for hazards:\n",
    "  f1_hazards = f1_score(\n",
    "    hazards_true,\n",
    "    hazards_pred,\n",
    "    average='macro'\n",
    "  )\n",
    "  return f1_hazards"
   ]
  },
  {
   "cell_type": "code",
   "execution_count": 23,
   "metadata": {},
   "outputs": [
    {
     "name": "stdout",
     "output_type": "stream",
     "text": [
      "\u001b[1m997/997\u001b[0m \u001b[32m━━━━━━━━━━━━━━━━━━━━\u001b[0m\u001b[37m\u001b[0m \u001b[1m0s\u001b[0m 221us/step\n"
     ]
    }
   ],
   "source": [
    "# Get predictions\n",
    "predictions = model.predict(test_ds)\n"
   ]
  },
  {
   "cell_type": "code",
   "execution_count": 24,
   "metadata": {},
   "outputs": [],
   "source": [
    "# Convert probabilities to class labels\n",
    "predicted_labels = tf.argmax(predictions, axis=1).numpy()"
   ]
  },
  {
   "cell_type": "code",
   "execution_count": 25,
   "metadata": {},
   "outputs": [
    {
     "name": "stderr",
     "output_type": "stream",
     "text": [
      "2025-02-09 17:59:57.555243: I tensorflow/core/framework/local_rendezvous.cc:405] Local rendezvous is aborting with status: OUT_OF_RANGE: End of sequence\n"
     ]
    }
   ],
   "source": [
    "# Collect true labels from the dataset\n",
    "true_labels = []\n",
    "for _, labels in test_ds:\n",
    "    true_labels.extend(labels.numpy())\n",
    "\n",
    "# Convert to NumPy array\n",
    "true_labels = np.array(true_labels)"
   ]
  },
  {
   "cell_type": "code",
   "execution_count": 26,
   "metadata": {},
   "outputs": [
    {
     "name": "stdout",
     "output_type": "stream",
     "text": [
      "              precision    recall  f1-score   support\n",
      "\n",
      "           0     0.9763    0.9621    0.9692       343\n",
      "           1     0.8595    0.9369    0.8966       111\n",
      "           2     0.9200    0.8846    0.9020        52\n",
      "           3     0.6180    0.7333    0.6707        75\n",
      "           4     1.0000    0.2000    0.3333        10\n",
      "           5     0.9526    0.9370    0.9448       365\n",
      "           6     0.5000    0.9000    0.6429        10\n",
      "           7     0.5000    0.3462    0.4091        26\n",
      "           8     1.0000    0.5000    0.6667         4\n",
      "           9     0.0000    0.0000    0.0000         1\n",
      "\n",
      "    accuracy                         0.9017       997\n",
      "   macro avg     0.7326    0.6400    0.6435       997\n",
      "weighted avg     0.9069    0.9017    0.8997       997\n",
      "\n"
     ]
    },
    {
     "name": "stderr",
     "output_type": "stream",
     "text": [
      "/Users/nataliakokota/Desktop/Food Hazard Detection/Food-Hazard-Challenge/venv/lib/python3.12/site-packages/sklearn/metrics/_classification.py:1565: UndefinedMetricWarning: Precision is ill-defined and being set to 0.0 in labels with no predicted samples. Use `zero_division` parameter to control this behavior.\n",
      "  _warn_prf(average, modifier, f\"{metric.capitalize()} is\", len(result))\n",
      "/Users/nataliakokota/Desktop/Food Hazard Detection/Food-Hazard-Challenge/venv/lib/python3.12/site-packages/sklearn/metrics/_classification.py:1565: UndefinedMetricWarning: Precision is ill-defined and being set to 0.0 in labels with no predicted samples. Use `zero_division` parameter to control this behavior.\n",
      "  _warn_prf(average, modifier, f\"{metric.capitalize()} is\", len(result))\n",
      "/Users/nataliakokota/Desktop/Food Hazard Detection/Food-Hazard-Challenge/venv/lib/python3.12/site-packages/sklearn/metrics/_classification.py:1565: UndefinedMetricWarning: Precision is ill-defined and being set to 0.0 in labels with no predicted samples. Use `zero_division` parameter to control this behavior.\n",
      "  _warn_prf(average, modifier, f\"{metric.capitalize()} is\", len(result))\n"
     ]
    }
   ],
   "source": [
    "# Generate precision, recall, and F1-score report\n",
    "report = classification_report(true_labels, predicted_labels, digits=4)\n",
    "\n",
    "# Print the report\n",
    "print(report)"
   ]
  },
  {
   "cell_type": "code",
   "execution_count": 27,
   "metadata": {},
   "outputs": [
    {
     "name": "stdout",
     "output_type": "stream",
     "text": [
      "0.6435106644526966\n"
     ]
    }
   ],
   "source": [
    "print(compute_score_1(true_labels, predicted_labels))"
   ]
  },
  {
   "cell_type": "code",
   "execution_count": 28,
   "metadata": {},
   "outputs": [],
   "source": [
    "def compute_score(hazards_true, products_true, hazards_pred, products_pred):\n",
    "  # compute f1 for hazards:\n",
    "  f1_hazards = f1_score(\n",
    "    hazards_true,\n",
    "    hazards_pred,\n",
    "    average='macro'\n",
    "  )\n",
    "\n",
    "  # compute f1 for products:\n",
    "  f1_products = f1_score(\n",
    "    products_true[hazards_pred == hazards_true],\n",
    "    products_pred[hazards_pred == hazards_true],\n",
    "    average='macro'\n",
    "  )\n",
    "\n",
    "  return (f1_hazards + f1_products) / 2."
   ]
  },
  {
   "cell_type": "code",
   "execution_count": null,
   "metadata": {},
   "outputs": [],
   "source": []
  }
 ],
 "metadata": {
  "kernelspec": {
   "display_name": "venv",
   "language": "python",
   "name": "python3"
  },
  "language_info": {
   "codemirror_mode": {
    "name": "ipython",
    "version": 3
   },
   "file_extension": ".py",
   "mimetype": "text/x-python",
   "name": "python",
   "nbconvert_exporter": "python",
   "pygments_lexer": "ipython3",
   "version": "3.12.0"
  }
 },
 "nbformat": 4,
 "nbformat_minor": 2
}
