{
 "cells": [
  {
   "cell_type": "code",
   "execution_count": 24,
   "metadata": {},
   "outputs": [
    {
     "name": "stdout",
     "output_type": "stream",
     "text": [
      "Note: you may need to restart the kernel to use updated packages.\n"
     ]
    }
   ],
   "source": [
    "%pip install scikit-learn -q"
   ]
  },
  {
   "cell_type": "code",
   "execution_count": 25,
   "metadata": {},
   "outputs": [
    {
     "name": "stdout",
     "output_type": "stream",
     "text": [
      "Note: you may need to restart the kernel to use updated packages.\n"
     ]
    }
   ],
   "source": [
    "%pip install tensorflow -q"
   ]
  },
  {
   "cell_type": "code",
   "execution_count": 26,
   "metadata": {},
   "outputs": [
    {
     "name": "stdout",
     "output_type": "stream",
     "text": [
      "Note: you may need to restart the kernel to use updated packages.\n"
     ]
    }
   ],
   "source": [
    "%pip install --upgrade setuptools -q"
   ]
  },
  {
   "cell_type": "code",
   "execution_count": 27,
   "metadata": {},
   "outputs": [
    {
     "name": "stdout",
     "output_type": "stream",
     "text": [
      "Note: you may need to restart the kernel to use updated packages.\n"
     ]
    }
   ],
   "source": [
    "%pip install matplotlib -q"
   ]
  },
  {
   "cell_type": "code",
   "execution_count": 28,
   "metadata": {},
   "outputs": [],
   "source": [
    "import pandas as pd\n",
    "import numpy as np\n",
    "import tensorflow as tf\n",
    "import re\n",
    "import string\n",
    "\n",
    "from tensorflow import keras\n",
    "from tensorflow.keras import layers\n",
    "from tensorflow.keras import losses\n",
    "\n",
    "from sklearn.metrics import f1_score\n",
    "\n",
    "import matplotlib.pyplot as plt"
   ]
  },
  {
   "cell_type": "code",
   "execution_count": 29,
   "metadata": {},
   "outputs": [
    {
     "name": "stdout",
     "output_type": "stream",
     "text": [
      "<class 'pandas.core.frame.DataFrame'>\n",
      "RangeIndex: 5082 entries, 0 to 5081\n",
      "Data columns (total 11 columns):\n",
      " #   Column            Non-Null Count  Dtype \n",
      "---  ------            --------------  ----- \n",
      " 0   index             5082 non-null   int64 \n",
      " 1   year              5082 non-null   int64 \n",
      " 2   month             5082 non-null   int64 \n",
      " 3   day               5082 non-null   int64 \n",
      " 4   country           5082 non-null   object\n",
      " 5   title             5082 non-null   object\n",
      " 6   text              5082 non-null   object\n",
      " 7   hazard-category   5082 non-null   object\n",
      " 8   product-category  5082 non-null   object\n",
      " 9   hazard            5082 non-null   object\n",
      " 10  product           5082 non-null   object\n",
      "dtypes: int64(4), object(7)\n",
      "memory usage: 436.9+ KB\n",
      "None\n"
     ]
    }
   ],
   "source": [
    "labeled_train_df = pd.read_csv(\"labeled_training_incidents.csv\").rename(columns={\"Unnamed: 0\": \"index\"})\n",
    "print(labeled_train_df.info())"
   ]
  },
  {
   "cell_type": "code",
   "execution_count": 30,
   "metadata": {},
   "outputs": [],
   "source": [
    "labeled_valid_df = pd.read_csv(\"labeled_validation_incidents.csv\").rename(columns={\"Unnamed: 0\": \"index\"})\n",
    "labeled_test_df = pd.read_csv(\"labeled_test_incidents.csv\").rename(columns={\"Unnamed: 0\": \"index\"})"
   ]
  },
  {
   "cell_type": "markdown",
   "metadata": {},
   "source": [
    "encode categorical columns before passing them to the classifier. <br>\n",
    "one hot encoding for country (It's particularly suitable for nominal categorical features, where the categories have no inherent order or ranking.) <br>\n",
    "Be aware of the \"dummy variable trap,\" where multicollinearity can occur if one column can be predicted from the others..To avoid this, you can safely drop one of the one-hot encoded columns, reducing the dimensionality by one. You can declare the drop_first=True in the get_dummies function as shown below.<br>\n",
    "Binary Encoding\n"
   ]
  },
  {
   "cell_type": "markdown",
   "metadata": {},
   "source": [
    "https://kantschants.com/complete-guide-to-encoding-categorical-features#"
   ]
  },
  {
   "cell_type": "code",
   "execution_count": 31,
   "metadata": {},
   "outputs": [],
   "source": [
    "# for i in range(1):  # Iterate over the first two rows\n",
    "#     print(f\"Row {i+1}:\")\n",
    "#     print(\"Title:\", labeled_train_df.loc[i, 'title'])\n",
    "#     print(\"Text:\", labeled_train_df.loc[i, 'text'])\n",
    "#     print(\"-\" * 80)  # Separator for readability"
   ]
  },
  {
   "cell_type": "code",
   "execution_count": 32,
   "metadata": {},
   "outputs": [
    {
     "name": "stdout",
     "output_type": "stream",
     "text": [
      "                                                text  label\n",
      "0  Case Number: 024-94   \\n            Date Opene...      0\n",
      "1  Case Number: 033-94   \\n            Date Opene...      0\n",
      "2  Case Number: 014-94   \\n            Date Opene...      0\n",
      "3  Case Number: 009-94   \\n            Date Opene...      1\n",
      "4  Case Number: 001-94   \\n            Date Opene...      1\n"
     ]
    }
   ],
   "source": [
    "# Extract unique hazard-category values and create a list\n",
    "unique_hazard_categories = labeled_train_df[\"hazard-category\"].unique().tolist()\n",
    "\n",
    "# Create a mapping dictionary\n",
    "hazard_category_mapping = {category: idx for idx, category in enumerate(unique_hazard_categories)}\n",
    "\n",
    "# Create a new dataframe with text and hazard_category_label\n",
    "train_st1_hazard = labeled_train_df[['text']].copy()\n",
    "train_st1_hazard['label'] = labeled_train_df['hazard-category'].map(hazard_category_mapping)\n",
    "print(train_st1_hazard.head())\n"
   ]
  },
  {
   "cell_type": "code",
   "execution_count": 33,
   "metadata": {},
   "outputs": [
    {
     "name": "stdout",
     "output_type": "stream",
     "text": [
      "                                                text  label\n",
      "0  Case Number: 017-94   \\n            Date Opene...      0\n",
      "1  Case Number: 048-94   \\n            Date Opene...      0\n",
      "2  Case Number: 032-95   \\n            Date Opene...      0\n",
      "3  PRESENCE OF UNDECLARED NUTS IN ORIGINALE AUGUS...      5\n",
      "4  Case Number: 018-98  Recall Notification Repor...      1\n",
      "                                                text  label\n",
      "0  Case Number: 039-94   \\n            Date Opene...      0\n",
      "1  Case Number: 026-95   \\n            Date Opene...      0\n",
      "2  Case Number: 028-95   \\n            Date Opene...      0\n",
      "3  PRA No. 1998/3500 Date published 17 Mar 1998 P...      0\n",
      "4  PRA No. 1998/3645 Date published 10 Sep 1998 P...      1\n"
     ]
    }
   ],
   "source": [
    "# Create a new dataframe with text and hazard_category_label\n",
    "valid_st1_hazard = labeled_valid_df[['text']].copy()\n",
    "valid_st1_hazard['label'] = labeled_valid_df['hazard-category'].map(hazard_category_mapping)\n",
    "print(valid_st1_hazard.head())\n",
    "\n",
    "# Create a new dataframe with text and hazard_category_label\n",
    "test_st1_hazard = labeled_test_df[['text']].copy()\n",
    "test_st1_hazard['label'] = labeled_test_df['hazard-category'].map(hazard_category_mapping)\n",
    "print(test_st1_hazard.head())"
   ]
  },
  {
   "cell_type": "markdown",
   "metadata": {},
   "source": [
    "TF-IDF ENCODING"
   ]
  },
  {
   "cell_type": "code",
   "execution_count": 34,
   "metadata": {},
   "outputs": [],
   "source": [
    "max_features = 20000\n",
    "def get_model(max_tokens=max_features, hidden_dim=16): \n",
    "    inputs = keras.Input(shape=(max_tokens,))\n",
    "    x = layers.Dense(hidden_dim, activation=\"relu\")(inputs)\n",
    "    x = layers.Dropout(0.5)(x)\n",
    "    outputs = layers.Dense(1)(x)\n",
    "    outputs = layers.Dense(10, activation=\"softmax\")(x)  # 10 categories\n",
    "\n",
    "    model = keras.Model(inputs, outputs)\n",
    "    model.compile(optimizer=\"rmsprop\",\n",
    "                  loss=tf.keras.losses.SparseCategoricalCrossentropy(from_logits=False),\n",
    "                  metrics=[\"accuracy\"])\n",
    "    return model"
   ]
  },
  {
   "cell_type": "code",
   "execution_count": 35,
   "metadata": {},
   "outputs": [],
   "source": [
    "def custom_standardization(input_data):\n",
    "    lowercase = tf.strings.lower(input_data)\n",
    "    stripped_html = tf.strings.regex_replace(lowercase, '\\n            ', ' ')\n",
    "    return tf.strings.regex_replace(stripped_html,\n",
    "                                    '[%s]' % re.escape(string.punctuation),\n",
    "                                    '')"
   ]
  },
  {
   "cell_type": "code",
   "execution_count": 36,
   "metadata": {},
   "outputs": [
    {
     "name": "stdout",
     "output_type": "stream",
     "text": [
      "                                                   text  label\n",
      "0     Case Number: 024-94   \\n            Date Opene...      0\n",
      "1     Case Number: 033-94   \\n            Date Opene...      0\n",
      "2     Case Number: 014-94   \\n            Date Opene...      0\n",
      "3     Case Number: 009-94   \\n            Date Opene...      1\n",
      "4     Case Number: 001-94   \\n            Date Opene...      1\n",
      "...                                                 ...    ...\n",
      "5077  Imported biscuit may contain allergen (peanuts...      5\n",
      "5078  023-2022\\n\\n  \\n  High - Class I\\n\\n    Produc...      3\n",
      "5079  FRESNO, Calif. – July 28, 2022 – Lyons Magnus ...      0\n",
      "5080  025-2022\\n\\n  \\n  High - Class I\\n\\n    Misbra...      5\n",
      "5081  024-2022\\n\\n  \\n  High - Class I\\n\\n    Produc...      0\n",
      "\n",
      "[5082 rows x 2 columns]\n"
     ]
    }
   ],
   "source": [
    "print(train_st1_hazard)"
   ]
  },
  {
   "cell_type": "code",
   "execution_count": 37,
   "metadata": {},
   "outputs": [],
   "source": [
    "vectorize_layer = layers.TextVectorization(\n",
    "    standardize=custom_standardization,\n",
    "    max_tokens=20000,\n",
    "    ngrams=2,\n",
    "    output_mode=\"tf_idf\"\n",
    ")"
   ]
  },
  {
   "cell_type": "code",
   "execution_count": 38,
   "metadata": {},
   "outputs": [],
   "source": [
    "# Ensure tensors are explicitly set\n",
    "train_st1_hazard_ds = tf.data.Dataset.from_tensor_slices((\n",
    "    tf.convert_to_tensor(train_st1_hazard[\"text\"].values, dtype=tf.string),\n",
    "    tf.convert_to_tensor(train_st1_hazard[\"label\"].values, dtype=tf.int32)\n",
    "))\n",
    "\n",
    "# Apply mapping\n",
    "text_only_train_st1_hazard_ds = train_st1_hazard_ds.map(lambda x, y: tf.cast(x, tf.string))\n"
   ]
  },
  {
   "cell_type": "code",
   "execution_count": 39,
   "metadata": {},
   "outputs": [],
   "source": [
    "vectorize_layer.adapt(text_only_train_st1_hazard_ds)\n",
    "# Ensure tensors are explicitly set\n",
    "train_st1_hazard = tf.data.Dataset.from_tensor_slices((\n",
    "    tf.convert_to_tensor(train_st1_hazard[\"text\"].values, dtype=tf.string),\n",
    "    tf.convert_to_tensor(train_st1_hazard[\"label\"].values, dtype=tf.int32)\n",
    "))\n",
    "\n",
    "valid_st1_hazard = tf.data.Dataset.from_tensor_slices((\n",
    "    tf.convert_to_tensor(valid_st1_hazard[\"text\"].values, dtype=tf.string),\n",
    "    tf.convert_to_tensor(valid_st1_hazard[\"label\"].values, dtype=tf.int32)\n",
    "))\n",
    "\n",
    "test_st1_hazard = tf.data.Dataset.from_tensor_slices((\n",
    "    tf.convert_to_tensor(test_st1_hazard[\"text\"].values, dtype=tf.string),\n",
    "    tf.convert_to_tensor(test_st1_hazard[\"label\"].values, dtype=tf.int32)\n",
    "))\n",
    "\n",
    "tfidf_2gram_train_ds = train_st1_hazard.map(\n",
    "    lambda x, y: (vectorize_layer(x), y),\n",
    "    num_parallel_calls=tf.data.AUTOTUNE\n",
    ")\n",
    "\n",
    "tfidf_2gram_val_ds = valid_st1_hazard.map(\n",
    "    lambda x, y: (vectorize_layer(x), y),\n",
    "    num_parallel_calls=tf.data.AUTOTUNE\n",
    ")\n",
    "\n",
    "tfidf_2gram_test_ds = test_st1_hazard.map(\n",
    "    lambda x, y: (vectorize_layer(x), y),\n",
    "    num_parallel_calls=tf.data.AUTOTUNE\n",
    ")"
   ]
  },
  {
   "cell_type": "code",
   "execution_count": 40,
   "metadata": {},
   "outputs": [],
   "source": [
    "BATCH_SIZE = 32  # or any value that fits your GPU/memory\n",
    "\n",
    "opt_train_ds = tfidf_2gram_train_ds.batch(BATCH_SIZE).cache().prefetch(buffer_size=tf.data.AUTOTUNE)\n",
    "opt_val_ds = tfidf_2gram_val_ds.batch(BATCH_SIZE).cache().prefetch(buffer_size=tf.data.AUTOTUNE)"
   ]
  },
  {
   "cell_type": "code",
   "execution_count": 41,
   "metadata": {},
   "outputs": [
    {
     "name": "stdout",
     "output_type": "stream",
     "text": [
      "X shape: (32, 20000)\n",
      "Y shape: (32,)\n"
     ]
    },
    {
     "name": "stderr",
     "output_type": "stream",
     "text": [
      "2025-02-07 11:47:42.316964: W tensorflow/core/kernels/data/cache_dataset_ops.cc:914] The calling iterator did not fully read the dataset being cached. In order to avoid unexpected truncation of the dataset, the partially cached contents of the dataset  will be discarded. This can happen if you have an input pipeline similar to `dataset.cache().take(k).repeat()`. You should use `dataset.take(k).cache().repeat()` instead.\n",
      "2025-02-07 11:47:42.317614: I tensorflow/core/framework/local_rendezvous.cc:405] Local rendezvous is aborting with status: OUT_OF_RANGE: End of sequence\n"
     ]
    }
   ],
   "source": [
    "for x, y in opt_train_ds.take(1):\n",
    "    print(\"X shape:\", x.shape)  # Expected: (batch_size, sequence_length)\n",
    "    print(\"Y shape:\", y.shape)  # Expected: (batch_size,)\n"
   ]
  },
  {
   "cell_type": "code",
   "execution_count": 42,
   "metadata": {},
   "outputs": [
    {
     "name": "stdout",
     "output_type": "stream",
     "text": [
      "Epoch 1/10\n",
      "\u001b[1m159/159\u001b[0m \u001b[32m━━━━━━━━━━━━━━━━━━━━\u001b[0m\u001b[37m\u001b[0m \u001b[1m1s\u001b[0m 4ms/step - accuracy: 0.3148 - loss: 2.1140 - val_accuracy: 0.7133 - val_loss: 0.9901\n",
      "Epoch 2/10\n",
      "\u001b[1m159/159\u001b[0m \u001b[32m━━━━━━━━━━━━━━━━━━━━\u001b[0m\u001b[37m\u001b[0m \u001b[1m0s\u001b[0m 1ms/step - accuracy: 0.6115 - loss: 1.2596 - val_accuracy: 0.7381 - val_loss: 0.8113\n",
      "Epoch 3/10\n",
      "\u001b[1m159/159\u001b[0m \u001b[32m━━━━━━━━━━━━━━━━━━━━\u001b[0m\u001b[37m\u001b[0m \u001b[1m0s\u001b[0m 1ms/step - accuracy: 0.6351 - loss: 1.0402 - val_accuracy: 0.8195 - val_loss: 0.6492\n",
      "Epoch 4/10\n",
      "\u001b[1m159/159\u001b[0m \u001b[32m━━━━━━━━━━━━━━━━━━━━\u001b[0m\u001b[37m\u001b[0m \u001b[1m0s\u001b[0m 1ms/step - accuracy: 0.6710 - loss: 0.8881 - val_accuracy: 0.8142 - val_loss: 0.6274\n",
      "Epoch 5/10\n",
      "\u001b[1m159/159\u001b[0m \u001b[32m━━━━━━━━━━━━━━━━━━━━\u001b[0m\u001b[37m\u001b[0m \u001b[1m0s\u001b[0m 1ms/step - accuracy: 0.6832 - loss: 0.8908 - val_accuracy: 0.8425 - val_loss: 0.6328\n",
      "Epoch 6/10\n",
      "\u001b[1m159/159\u001b[0m \u001b[32m━━━━━━━━━━━━━━━━━━━━\u001b[0m\u001b[37m\u001b[0m \u001b[1m0s\u001b[0m 1ms/step - accuracy: 0.7211 - loss: 0.8098 - val_accuracy: 0.8195 - val_loss: 0.6444\n",
      "Epoch 7/10\n",
      "\u001b[1m159/159\u001b[0m \u001b[32m━━━━━━━━━━━━━━━━━━━━\u001b[0m\u001b[37m\u001b[0m \u001b[1m0s\u001b[0m 1ms/step - accuracy: 0.7295 - loss: 0.7544 - val_accuracy: 0.8301 - val_loss: 0.6473\n",
      "Epoch 8/10\n",
      "\u001b[1m159/159\u001b[0m \u001b[32m━━━━━━━━━━━━━━━━━━━━\u001b[0m\u001b[37m\u001b[0m \u001b[1m0s\u001b[0m 1ms/step - accuracy: 0.7496 - loss: 0.7353 - val_accuracy: 0.8195 - val_loss: 0.6388\n",
      "Epoch 9/10\n",
      "\u001b[1m159/159\u001b[0m \u001b[32m━━━━━━━━━━━━━━━━━━━━\u001b[0m\u001b[37m\u001b[0m \u001b[1m0s\u001b[0m 1ms/step - accuracy: 0.7615 - loss: 0.7220 - val_accuracy: 0.8265 - val_loss: 0.6439\n",
      "Epoch 10/10\n",
      "\u001b[1m159/159\u001b[0m \u001b[32m━━━━━━━━━━━━━━━━━━━━\u001b[0m\u001b[37m\u001b[0m \u001b[1m0s\u001b[0m 1ms/step - accuracy: 0.7672 - loss: 0.7042 - val_accuracy: 0.8354 - val_loss: 0.6133\n"
     ]
    }
   ],
   "source": [
    "# opt_train_ds = tfidf_2gram_train_ds.cache().prefetch(buffer_size=tf.data.AUTOTUNE)\n",
    "# opt_val_ds = tfidf_2gram_val_ds.cache().prefetch(buffer_size=tf.data.AUTOTUNE)\n",
    "\n",
    "model = get_model()\n",
    "history = model.fit(opt_train_ds,\n",
    "                    validation_data=opt_val_ds,\n",
    "                    epochs=10)"
   ]
  },
  {
   "cell_type": "code",
   "execution_count": 43,
   "metadata": {},
   "outputs": [],
   "source": [
    "def history_plotter(history):\n",
    "    plt.figure(figsize=(16, 5))\n",
    "    plt.subplot(1, 2, 1)\n",
    "    plt.plot(history.history['accuracy'], label='accuracy')\n",
    "    plt.plot(history.history['val_accuracy'], label = 'val_accuracy')\n",
    "    plt.xlabel('Epoch')\n",
    "    plt.ylabel('Accuracy')\n",
    "    plt.legend(loc='lower right')\n",
    "\n",
    "    plt.subplot(1, 2, 2)\n",
    "    plt.plot(history.history['loss'], label='loss')\n",
    "    plt.plot(history.history['val_loss'], label = 'val_loss')\n",
    "    plt.xlabel('Epoch')\n",
    "    plt.ylabel('Loss')\n",
    "    plt.legend(loc='upper right')"
   ]
  },
  {
   "cell_type": "code",
   "execution_count": 44,
   "metadata": {},
   "outputs": [
    {
     "data": {
      "image/png": "[encoded data removed]",
      "text/plain": [
       "<Figure size 1600x500 with 2 Axes>"
      ]
     },
     "metadata": {},
     "output_type": "display_data"
    }
   ],
   "source": [
    "history_plotter(history)"
   ]
  },
  {
   "cell_type": "code",
   "execution_count": 45,
   "metadata": {},
   "outputs": [
    {
     "name": "stdout",
     "output_type": "stream",
     "text": [
      "\u001b[1m32/32\u001b[0m \u001b[32m━━━━━━━━━━━━━━━━━━━━\u001b[0m\u001b[37m\u001b[0m \u001b[1m0s\u001b[0m 2ms/step - accuracy: 0.8171 - loss: 0.7351\n"
     ]
    },
    {
     "data": {
      "text/plain": [
       "[0.7206963896751404, 0.8395185470581055]"
      ]
     },
     "execution_count": 45,
     "metadata": {},
     "output_type": "execute_result"
    }
   ],
   "source": [
    "tfidf_2gram_test_ds = tfidf_2gram_test_ds.batch(BATCH_SIZE).cache().prefetch(buffer_size=tf.data.AUTOTUNE)\n",
    "model.evaluate(tfidf_2gram_test_ds) # loss, accuracy"
   ]
  },
  {
   "cell_type": "markdown",
   "metadata": {},
   "source": [
    "Evaluation"
   ]
  },
  {
   "cell_type": "markdown",
   "metadata": {},
   "source": [
    "predicted labels: hazards_pred & products_pred <br>\n",
    "ground truth: hazards_true & products_true"
   ]
  },
  {
   "cell_type": "code",
   "execution_count": 46,
   "metadata": {},
   "outputs": [],
   "source": [
    "def compute_score(hazards_true, products_true, hazards_pred, products_pred):\n",
    "  # compute f1 for hazards:\n",
    "  f1_hazards = f1_score(\n",
    "    hazards_true,\n",
    "    hazards_pred,\n",
    "    average='macro'\n",
    "  )\n",
    "\n",
    "  # compute f1 for products:\n",
    "  f1_products = f1_score(\n",
    "    products_true[hazards_pred == hazards_true],\n",
    "    products_pred[hazards_pred == hazards_true],\n",
    "    average='macro'\n",
    "  )\n",
    "\n",
    "  return (f1_hazards + f1_products) / 2."
   ]
  },
  {
   "cell_type": "code",
   "execution_count": null,
   "metadata": {},
   "outputs": [],
   "source": []
  }
 ],
 "metadata": {
  "kernelspec": {
   "display_name": "venv",
   "language": "python",
   "name": "python3"
  },
  "language_info": {
   "codemirror_mode": {
    "name": "ipython",
    "version": 3
   },
   "file_extension": ".py",
   "mimetype": "text/x-python",
   "name": "python",
   "nbconvert_exporter": "python",
   "pygments_lexer": "ipython3",
   "version": "3.12.0"
  }
 },
 "nbformat": 4,
 "nbformat_minor": 2
}
