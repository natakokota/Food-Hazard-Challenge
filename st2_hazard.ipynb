{
 "cells": [
  {
   "cell_type": "markdown",
   "metadata": {},
   "source": [
    "# Subtask 2 Hazard Prediction"
   ]
  },
  {
   "cell_type": "markdown",
   "metadata": {},
   "source": [
    "For the second subtask I used a simple neural network with embedding, convolutional and dense layers to process and classify the text data."
   ]
  },
  {
   "cell_type": "code",
   "execution_count": 1,
   "metadata": {},
   "outputs": [
    {
     "name": "stdout",
     "output_type": "stream",
     "text": [
      "Note: you may need to restart the kernel to use updated packages.\n"
     ]
    }
   ],
   "source": [
    "%pip install scikit-learn -q"
   ]
  },
  {
   "cell_type": "code",
   "execution_count": 2,
   "metadata": {},
   "outputs": [
    {
     "name": "stdout",
     "output_type": "stream",
     "text": [
      "Note: you may need to restart the kernel to use updated packages.\n"
     ]
    }
   ],
   "source": [
    "%pip install tensorflow -q"
   ]
  },
  {
   "cell_type": "code",
   "execution_count": 3,
   "metadata": {},
   "outputs": [
    {
     "name": "stdout",
     "output_type": "stream",
     "text": [
      "Note: you may need to restart the kernel to use updated packages.\n"
     ]
    }
   ],
   "source": [
    "%pip install --upgrade setuptools -q"
   ]
  },
  {
   "cell_type": "code",
   "execution_count": 4,
   "metadata": {},
   "outputs": [
    {
     "name": "stdout",
     "output_type": "stream",
     "text": [
      "Note: you may need to restart the kernel to use updated packages.\n"
     ]
    }
   ],
   "source": [
    "%pip install matplotlib -q"
   ]
  },
  {
   "cell_type": "code",
   "execution_count": 5,
   "metadata": {},
   "outputs": [
    {
     "name": "stderr",
     "output_type": "stream",
     "text": [
      "2025-02-13 17:03:26.017811: E external/local_xla/xla/stream_executor/cuda/cuda_fft.cc:477] Unable to register cuFFT factory: Attempting to register factory for plugin cuFFT when one has already been registered\n",
      "WARNING: All log messages before absl::InitializeLog() is called are written to STDERR\n",
      "E0000 00:00:1739466206.036236   52482 cuda_dnn.cc:8310] Unable to register cuDNN factory: Attempting to register factory for plugin cuDNN when one has already been registered\n",
      "E0000 00:00:1739466206.041824   52482 cuda_blas.cc:1418] Unable to register cuBLAS factory: Attempting to register factory for plugin cuBLAS when one has already been registered\n",
      "2025-02-13 17:03:26.060449: I tensorflow/core/platform/cpu_feature_guard.cc:210] This TensorFlow binary is optimized to use available CPU instructions in performance-critical operations.\n",
      "To enable the following instructions: AVX2 AVX512F FMA, in other operations, rebuild TensorFlow with the appropriate compiler flags.\n"
     ]
    }
   ],
   "source": [
    "import pandas as pd\n",
    "import numpy as np\n",
    "import tensorflow as tf\n",
    "import re\n",
    "import string\n",
    "\n",
    "from tensorflow import keras\n",
    "from tensorflow.keras import layers\n",
    "from tensorflow.keras import losses\n",
    "\n",
    "from sklearn.metrics import f1_score\n",
    "from sklearn.metrics import classification_report\n",
    "\n",
    "import matplotlib.pyplot as plt"
   ]
  },
  {
   "cell_type": "markdown",
   "metadata": {},
   "source": [
    "### Data Preparation"
   ]
  },
  {
   "cell_type": "markdown",
   "metadata": {},
   "source": [
    "Load CSV datasets"
   ]
  },
  {
   "cell_type": "code",
   "execution_count": null,
   "metadata": {},
   "outputs": [],
   "source": [
    "labeled_train_df = pd.read_csv(\"incidents_train.csv\").rename(columns={\"Unnamed: 0\": \"index\"})\n",
    "labeled_valid_df = pd.read_csv(\"incidents_valid.csv\").rename(columns={\"Unnamed: 0\": \"index\"})\n",
    "labeled_test_df = pd.read_csv(\"incidents_test.csv\").rename(columns={\"Unnamed: 0\": \"index\"})"
   ]
  },
  {
   "cell_type": "markdown",
   "metadata": {},
   "source": [
    "We extract unique hazard categroies and we include the ones that only appear in the validation and test data in a class called \"Other\""
   ]
  },
  {
   "cell_type": "code",
   "execution_count": 7,
   "metadata": {},
   "outputs": [],
   "source": [
    "# Find unique categories in each dataset\n",
    "train_categories = set(labeled_train_df[\"hazard\"].unique())\n",
    "valid_categories = set(labeled_valid_df[\"hazard\"].unique())\n",
    "test_categories = set(labeled_test_df[\"hazard\"].unique())"
   ]
  },
  {
   "cell_type": "code",
   "execution_count": 8,
   "metadata": {},
   "outputs": [],
   "source": [
    "# Identify extra categories in validation and test sets\n",
    "extra_valid_categories = valid_categories - train_categories\n",
    "extra_test_categories = test_categories - train_categories"
   ]
  },
  {
   "cell_type": "markdown",
   "metadata": {},
   "source": [
    "We then create mapping dictionaries (label2id and id2label)\n",
    "and apply them to the datasets<br>"
   ]
  },
  {
   "cell_type": "code",
   "execution_count": null,
   "metadata": {},
   "outputs": [],
   "source": [
    "# Define a new category for unknown labels\n",
    "OTHER_CATEGORY = \"Other\"\n",
    "\n",
    "# Create label mapping for known categories (from train set)\n",
    "label2id = {category: idx for idx, category in enumerate(sorted(train_categories))}\n",
    "label2id[OTHER_CATEGORY] = len(label2id)  # Assign last index to \"Other\"\n",
    "id2label = {v: k for k, v in label2id.items()}\n",
    "\n",
    "# Number of labels\n",
    "num_labels = len(label2id)"
   ]
  },
  {
   "cell_type": "code",
   "execution_count": 11,
   "metadata": {},
   "outputs": [],
   "source": [
    "# Function to map labels, assigning 'Other' when necessary\n",
    "def map_labels(category):\n",
    "    return label2id.get(category, label2id[OTHER_CATEGORY])\n",
    "\n",
    "# Apply label mapping\n",
    "train_st1 = labeled_train_df[['text']].copy()\n",
    "train_st1['label'] = labeled_train_df['hazard'].map(map_labels)\n",
    "\n",
    "valid_st1 = labeled_valid_df[['text']].copy()\n",
    "valid_st1['label'] = labeled_valid_df['hazard'].map(map_labels)\n",
    "\n",
    "test_st1 = labeled_test_df[['text']].copy()\n",
    "test_st1['label'] = labeled_test_df['hazard'].map(map_labels)"
   ]
  },
  {
   "cell_type": "markdown",
   "metadata": {},
   "source": [
    "We use a custom standardization function that:\n",
    "* Converts all text to lowercase.\n",
    "* Replaces newlines (\\n) with a space.\n",
    "* Removes punctuation."
   ]
  },
  {
   "cell_type": "code",
   "execution_count": 12,
   "metadata": {},
   "outputs": [],
   "source": [
    "def custom_standardization(input_data):\n",
    "    lowercase = tf.strings.lower(input_data)\n",
    "    stripped_html = tf.strings.regex_replace(lowercase, '\\n            ', ' ')\n",
    "    no_punctuation = tf.strings.regex_replace(stripped_html,\n",
    "                                              '[%s]' % re.escape(string.punctuation),\n",
    "                                              '')\n",
    "    return no_punctuation"
   ]
  },
  {
   "cell_type": "markdown",
   "metadata": {},
   "source": [
    "We define a TextVectorization layer that converts raw text into integer sequences.\n",
    "* max_features=20000: Uses the top 20,000 words in the dataset\n",
    "* sequence_length=250: Each text sample is truncated or padded to a fixed length of 250 tokens\n",
    "* The standardize function applies the custom text cleaning we defined earlier"
   ]
  },
  {
   "cell_type": "code",
   "execution_count": 13,
   "metadata": {},
   "outputs": [
    {
     "name": "stderr",
     "output_type": "stream",
     "text": [
      "2025-02-13 17:03:28.404878: E external/local_xla/xla/stream_executor/cuda/cuda_driver.cc:152] failed call to cuInit: INTERNAL: CUDA error: Failed call to cuInit: CUDA_ERROR_NO_DEVICE: no CUDA-capable device is detected\n"
     ]
    }
   ],
   "source": [
    "max_features = 20000\n",
    "sequence_length = 500\n",
    "\n",
    "vectorize_layer = layers.TextVectorization(\n",
    "    standardize=custom_standardization,\n",
    "    max_tokens=max_features,\n",
    "    output_mode='int',\n",
    "    output_sequence_length=sequence_length)\n"
   ]
  },
  {
   "cell_type": "markdown",
   "metadata": {},
   "source": [
    "We convert the training dataset into a TensorFlow Dataset\n",
    "* train_st1[\"text\"] contains the input text\n",
    "* train_st1[\"label\"] contains the corresponding labels"
   ]
  },
  {
   "cell_type": "code",
   "execution_count": 14,
   "metadata": {},
   "outputs": [],
   "source": [
    "# Ensure tensors are explicitly set\n",
    "train_st1_ds = tf.data.Dataset.from_tensor_slices((\n",
    "    tf.convert_to_tensor(train_st1[\"text\"].values, dtype=tf.string),\n",
    "    tf.convert_to_tensor(train_st1[\"label\"].values, dtype=tf.int32)\n",
    "))\n",
    "\n",
    "# Apply mapping\n",
    "text_only_train_st1_ds = train_st1_ds.map(lambda x, y: tf.cast(x, tf.string))"
   ]
  },
  {
   "cell_type": "markdown",
   "metadata": {},
   "source": [
    "We define the function vectorize_text() that transforms text samples into numerical sequences using vectorize_layer.\n",
    "The labels are reshaped to match expected input format."
   ]
  },
  {
   "cell_type": "code",
   "execution_count": 15,
   "metadata": {},
   "outputs": [],
   "source": [
    "def vectorize_text(text, label):\n",
    "    text = tf.expand_dims(text, -1)  # Ensure text has shape (1,)\n",
    "    label = tf.expand_dims(label, -1)  # Ensure labels have shape (1,)\n",
    "    label = tf.cast(label, tf.int32)  # Convert labels to integers\n",
    "    return vectorize_layer(text), label"
   ]
  },
  {
   "cell_type": "markdown",
   "metadata": {},
   "source": [
    "The vectorization layer learns the vocabulary from the training data. <br>\n",
    "The datasets (train_st1, valid_st1, test_st1) are mapped through vectorize_text() so that text inputs are converted to integer sequences."
   ]
  },
  {
   "cell_type": "code",
   "execution_count": null,
   "metadata": {},
   "outputs": [
    {
     "name": "stderr",
     "output_type": "stream",
     "text": [
      "2025-02-13 17:03:46.974757: I tensorflow/core/framework/local_rendezvous.cc:405] Local rendezvous is aborting with status: OUT_OF_RANGE: End of sequence\n"
     ]
    }
   ],
   "source": [
    "vectorize_layer.adapt(text_only_train_st1_ds)\n",
    "\n",
    "train_st1 = tf.data.Dataset.from_tensor_slices((\n",
    "    tf.convert_to_tensor(train_st1[\"text\"].values, dtype=tf.string),\n",
    "    tf.convert_to_tensor(train_st1[\"label\"].values, dtype=tf.int32)\n",
    "))\n",
    "\n",
    "valid_st1 = tf.data.Dataset.from_tensor_slices((\n",
    "    tf.convert_to_tensor(valid_st1[\"text\"].values, dtype=tf.string),\n",
    "    tf.convert_to_tensor(valid_st1[\"label\"].values, dtype=tf.int32)\n",
    "))\n",
    "\n",
    "test_st1 = tf.data.Dataset.from_tensor_slices((\n",
    "    tf.convert_to_tensor(test_st1[\"text\"].values, dtype=tf.string),\n",
    "    tf.convert_to_tensor(test_st1[\"label\"].values, dtype=tf.int32)\n",
    "))\n",
    "\n",
    "train_ds = train_st1.map(vectorize_text)\n",
    "val_ds = valid_st1.map(vectorize_text)\n",
    "test_ds = test_st1.map(vectorize_text)"
   ]
  },
  {
   "cell_type": "markdown",
   "metadata": {},
   "source": [
    "We cache the dataset to prevent redundant disk reads and then we prefetch the next batch asynchronously"
   ]
  },
  {
   "cell_type": "code",
   "execution_count": 17,
   "metadata": {},
   "outputs": [],
   "source": [
    "AUTOTUNE = tf.data.AUTOTUNE\n",
    "\n",
    "train_ds = train_ds.cache().prefetch(buffer_size=AUTOTUNE)\n",
    "val_ds = val_ds.cache().prefetch(buffer_size=AUTOTUNE)\n",
    "test_ds = test_ds.cache().prefetch(buffer_size=AUTOTUNE)"
   ]
  },
  {
   "cell_type": "markdown",
   "metadata": {},
   "source": [
    "### Training "
   ]
  },
  {
   "cell_type": "markdown",
   "metadata": {},
   "source": [
    "We use a neural network from Keras:\n",
    "1. Input layer: Takes integer sequences of length 250.\n",
    "2. Embedding layer: Converts integer tokens into dense vector representations (size 256).\n",
    "3. Dropout (0.3): Prevents overfitting.\n",
    "4. GlobalAveragePooling1D: Reduces the sequence into a fixed-length vector.\n",
    "5. Dropout (0.3): Further regularization.\n",
    "6. Dense Layer (Softmax Activation): Outputs probabilities for 129 classes."
   ]
  },
  {
   "cell_type": "code",
   "execution_count": null,
   "metadata": {},
   "outputs": [
    {
     "data": {
      "text/html": [
       "<pre style=\"white-space:pre;overflow-x:auto;line-height:normal;font-family:Menlo,'DejaVu Sans Mono',consolas,'Courier New',monospace\"><span style=\"font-weight: bold\">Model: \"sequential\"</span>\n",
       "</pre>\n"
      ],
      "text/plain": [
       "\u001b[1mModel: \"sequential\"\u001b[0m\n"
      ]
     },
     "metadata": {},
     "output_type": "display_data"
    },
    {
     "data": {
      "text/html": [
       "<pre style=\"white-space:pre;overflow-x:auto;line-height:normal;font-family:Menlo,'DejaVu Sans Mono',consolas,'Courier New',monospace\">┏━━━━━━━━━━━━━━━━━━━━━━━━━━━━━━━━━┳━━━━━━━━━━━━━━━━━━━━━━━━┳━━━━━━━━━━━━━━━┓\n",
       "┃<span style=\"font-weight: bold\"> Layer (type)                    </span>┃<span style=\"font-weight: bold\"> Output Shape           </span>┃<span style=\"font-weight: bold\">       Param # </span>┃\n",
       "┡━━━━━━━━━━━━━━━━━━━━━━━━━━━━━━━━━╇━━━━━━━━━━━━━━━━━━━━━━━━╇━━━━━━━━━━━━━━━┩\n",
       "│ embedding (<span style=\"color: #0087ff; text-decoration-color: #0087ff\">Embedding</span>)           │ (<span style=\"color: #00d7ff; text-decoration-color: #00d7ff\">None</span>, <span style=\"color: #00af00; text-decoration-color: #00af00\">500</span>, <span style=\"color: #00af00; text-decoration-color: #00af00\">256</span>)       │     <span style=\"color: #00af00; text-decoration-color: #00af00\">5,120,000</span> │\n",
       "├─────────────────────────────────┼────────────────────────┼───────────────┤\n",
       "│ dropout (<span style=\"color: #0087ff; text-decoration-color: #0087ff\">Dropout</span>)               │ (<span style=\"color: #00d7ff; text-decoration-color: #00d7ff\">None</span>, <span style=\"color: #00af00; text-decoration-color: #00af00\">500</span>, <span style=\"color: #00af00; text-decoration-color: #00af00\">256</span>)       │             <span style=\"color: #00af00; text-decoration-color: #00af00\">0</span> │\n",
       "├─────────────────────────────────┼────────────────────────┼───────────────┤\n",
       "│ global_average_pooling1d        │ (<span style=\"color: #00d7ff; text-decoration-color: #00d7ff\">None</span>, <span style=\"color: #00af00; text-decoration-color: #00af00\">256</span>)            │             <span style=\"color: #00af00; text-decoration-color: #00af00\">0</span> │\n",
       "│ (<span style=\"color: #0087ff; text-decoration-color: #0087ff\">GlobalAveragePooling1D</span>)        │                        │               │\n",
       "├─────────────────────────────────┼────────────────────────┼───────────────┤\n",
       "│ dropout_1 (<span style=\"color: #0087ff; text-decoration-color: #0087ff\">Dropout</span>)             │ (<span style=\"color: #00d7ff; text-decoration-color: #00d7ff\">None</span>, <span style=\"color: #00af00; text-decoration-color: #00af00\">256</span>)            │             <span style=\"color: #00af00; text-decoration-color: #00af00\">0</span> │\n",
       "├─────────────────────────────────┼────────────────────────┼───────────────┤\n",
       "│ dense (<span style=\"color: #0087ff; text-decoration-color: #0087ff\">Dense</span>)                   │ (<span style=\"color: #00d7ff; text-decoration-color: #00d7ff\">None</span>, <span style=\"color: #00af00; text-decoration-color: #00af00\">129</span>)            │        <span style=\"color: #00af00; text-decoration-color: #00af00\">33,153</span> │\n",
       "└─────────────────────────────────┴────────────────────────┴───────────────┘\n",
       "</pre>\n"
      ],
      "text/plain": [
       "┏━━━━━━━━━━━━━━━━━━━━━━━━━━━━━━━━━┳━━━━━━━━━━━━━━━━━━━━━━━━┳━━━━━━━━━━━━━━━┓\n",
       "┃\u001b[1m \u001b[0m\u001b[1mLayer (type)                   \u001b[0m\u001b[1m \u001b[0m┃\u001b[1m \u001b[0m\u001b[1mOutput Shape          \u001b[0m\u001b[1m \u001b[0m┃\u001b[1m \u001b[0m\u001b[1m      Param #\u001b[0m\u001b[1m \u001b[0m┃\n",
       "┡━━━━━━━━━━━━━━━━━━━━━━━━━━━━━━━━━╇━━━━━━━━━━━━━━━━━━━━━━━━╇━━━━━━━━━━━━━━━┩\n",
       "│ embedding (\u001b[38;5;33mEmbedding\u001b[0m)           │ (\u001b[38;5;45mNone\u001b[0m, \u001b[38;5;34m500\u001b[0m, \u001b[38;5;34m256\u001b[0m)       │     \u001b[38;5;34m5,120,000\u001b[0m │\n",
       "├─────────────────────────────────┼────────────────────────┼───────────────┤\n",
       "│ dropout (\u001b[38;5;33mDropout\u001b[0m)               │ (\u001b[38;5;45mNone\u001b[0m, \u001b[38;5;34m500\u001b[0m, \u001b[38;5;34m256\u001b[0m)       │             \u001b[38;5;34m0\u001b[0m │\n",
       "├─────────────────────────────────┼────────────────────────┼───────────────┤\n",
       "│ global_average_pooling1d        │ (\u001b[38;5;45mNone\u001b[0m, \u001b[38;5;34m256\u001b[0m)            │             \u001b[38;5;34m0\u001b[0m │\n",
       "│ (\u001b[38;5;33mGlobalAveragePooling1D\u001b[0m)        │                        │               │\n",
       "├─────────────────────────────────┼────────────────────────┼───────────────┤\n",
       "│ dropout_1 (\u001b[38;5;33mDropout\u001b[0m)             │ (\u001b[38;5;45mNone\u001b[0m, \u001b[38;5;34m256\u001b[0m)            │             \u001b[38;5;34m0\u001b[0m │\n",
       "├─────────────────────────────────┼────────────────────────┼───────────────┤\n",
       "│ dense (\u001b[38;5;33mDense\u001b[0m)                   │ (\u001b[38;5;45mNone\u001b[0m, \u001b[38;5;34m129\u001b[0m)            │        \u001b[38;5;34m33,153\u001b[0m │\n",
       "└─────────────────────────────────┴────────────────────────┴───────────────┘\n"
      ]
     },
     "metadata": {},
     "output_type": "display_data"
    },
    {
     "data": {
      "text/html": [
       "<pre style=\"white-space:pre;overflow-x:auto;line-height:normal;font-family:Menlo,'DejaVu Sans Mono',consolas,'Courier New',monospace\"><span style=\"font-weight: bold\"> Total params: </span><span style=\"color: #00af00; text-decoration-color: #00af00\">5,153,153</span> (19.66 MB)\n",
       "</pre>\n"
      ],
      "text/plain": [
       "\u001b[1m Total params: \u001b[0m\u001b[38;5;34m5,153,153\u001b[0m (19.66 MB)\n"
      ]
     },
     "metadata": {},
     "output_type": "display_data"
    },
    {
     "data": {
      "text/html": [
       "<pre style=\"white-space:pre;overflow-x:auto;line-height:normal;font-family:Menlo,'DejaVu Sans Mono',consolas,'Courier New',monospace\"><span style=\"font-weight: bold\"> Trainable params: </span><span style=\"color: #00af00; text-decoration-color: #00af00\">5,153,153</span> (19.66 MB)\n",
       "</pre>\n"
      ],
      "text/plain": [
       "\u001b[1m Trainable params: \u001b[0m\u001b[38;5;34m5,153,153\u001b[0m (19.66 MB)\n"
      ]
     },
     "metadata": {},
     "output_type": "display_data"
    },
    {
     "data": {
      "text/html": [
       "<pre style=\"white-space:pre;overflow-x:auto;line-height:normal;font-family:Menlo,'DejaVu Sans Mono',consolas,'Courier New',monospace\"><span style=\"font-weight: bold\"> Non-trainable params: </span><span style=\"color: #00af00; text-decoration-color: #00af00\">0</span> (0.00 B)\n",
       "</pre>\n"
      ],
      "text/plain": [
       "\u001b[1m Non-trainable params: \u001b[0m\u001b[38;5;34m0\u001b[0m (0.00 B)\n"
      ]
     },
     "metadata": {},
     "output_type": "display_data"
    }
   ],
   "source": [
    "model = tf.keras.Sequential([\n",
    "  layers.Input(shape=(sequence_length,)),\n",
    "  layers.Embedding(max_features, 256),\n",
    "  layers.Dropout(0.3),\n",
    "  layers.GlobalAveragePooling1D(),\n",
    "  layers.Dropout(0.3),\n",
    "  layers.Dense(num_labels, activation=\"softmax\")\n",
    "])\n",
    "\n",
    "model.summary()"
   ]
  },
  {
   "cell_type": "markdown",
   "metadata": {},
   "source": [
    "We use SparseCategoricalCrossentropy and Adam optimizer."
   ]
  },
  {
   "cell_type": "code",
   "execution_count": null,
   "metadata": {},
   "outputs": [],
   "source": [
    "model.compile(loss=losses.SparseCategoricalCrossentropy(from_logits=False),  # Use CategoricalCrossentropy if labels are one-hot\n",
    "              optimizer='adam',\n",
    "              metrics=[\"accuracy\"])"
   ]
  },
  {
   "cell_type": "markdown",
   "metadata": {},
   "source": [
    "The training stops if the loss does not improve for 3 consecutive epochs, else the model is trained for 20 epochs."
   ]
  },
  {
   "cell_type": "code",
   "execution_count": 21,
   "metadata": {},
   "outputs": [
    {
     "name": "stdout",
     "output_type": "stream",
     "text": [
      "Epoch 1/20\n",
      "\u001b[1m5082/5082\u001b[0m \u001b[32m━━━━━━━━━━━━━━━━━━━━\u001b[0m\u001b[37m\u001b[0m \u001b[1m36s\u001b[0m 7ms/step - accuracy: 0.2226 - loss: 3.4049 - val_accuracy: 0.3717 - val_loss: 2.6892\n",
      "Epoch 2/20\n",
      "\u001b[1m5082/5082\u001b[0m \u001b[32m━━━━━━━━━━━━━━━━━━━━\u001b[0m\u001b[37m\u001b[0m \u001b[1m35s\u001b[0m 7ms/step - accuracy: 0.3868 - loss: 2.5904 - val_accuracy: 0.4690 - val_loss: 2.2668\n",
      "Epoch 3/20\n",
      "\u001b[1m5082/5082\u001b[0m \u001b[32m━━━━━━━━━━━━━━━━━━━━\u001b[0m\u001b[37m\u001b[0m \u001b[1m36s\u001b[0m 7ms/step - accuracy: 0.4597 - loss: 2.2489 - val_accuracy: 0.5522 - val_loss: 2.0149\n",
      "Epoch 4/20\n",
      "\u001b[1m5082/5082\u001b[0m \u001b[32m━━━━━━━━━━━━━━━━━━━━\u001b[0m\u001b[37m\u001b[0m \u001b[1m35s\u001b[0m 7ms/step - accuracy: 0.5237 - loss: 1.9848 - val_accuracy: 0.5876 - val_loss: 1.8443\n",
      "Epoch 5/20\n",
      "\u001b[1m5082/5082\u001b[0m \u001b[32m━━━━━━━━━━━━━━━━━━━━\u001b[0m\u001b[37m\u001b[0m \u001b[1m36s\u001b[0m 7ms/step - accuracy: 0.5728 - loss: 1.7760 - val_accuracy: 0.6248 - val_loss: 1.7291\n",
      "Epoch 6/20\n",
      "\u001b[1m5082/5082\u001b[0m \u001b[32m━━━━━━━━━━━━━━━━━━━━\u001b[0m\u001b[37m\u001b[0m \u001b[1m36s\u001b[0m 7ms/step - accuracy: 0.6281 - loss: 1.6086 - val_accuracy: 0.6354 - val_loss: 1.6542\n",
      "Epoch 7/20\n",
      "\u001b[1m5082/5082\u001b[0m \u001b[32m━━━━━━━━━━━━━━━━━━━━\u001b[0m\u001b[37m\u001b[0m \u001b[1m36s\u001b[0m 7ms/step - accuracy: 0.6473 - loss: 1.4699 - val_accuracy: 0.6549 - val_loss: 1.5552\n",
      "Epoch 8/20\n",
      "\u001b[1m5082/5082\u001b[0m \u001b[32m━━━━━━━━━━━━━━━━━━━━\u001b[0m\u001b[37m\u001b[0m \u001b[1m35s\u001b[0m 7ms/step - accuracy: 0.6780 - loss: 1.3557 - val_accuracy: 0.6619 - val_loss: 1.4931\n",
      "Epoch 9/20\n",
      "\u001b[1m5082/5082\u001b[0m \u001b[32m━━━━━━━━━━━━━━━━━━━━\u001b[0m\u001b[37m\u001b[0m \u001b[1m36s\u001b[0m 7ms/step - accuracy: 0.6994 - loss: 1.2536 - val_accuracy: 0.6850 - val_loss: 1.4288\n",
      "Epoch 10/20\n",
      "\u001b[1m5082/5082\u001b[0m \u001b[32m━━━━━━━━━━━━━━━━━━━━\u001b[0m\u001b[37m\u001b[0m \u001b[1m36s\u001b[0m 7ms/step - accuracy: 0.7207 - loss: 1.1590 - val_accuracy: 0.6761 - val_loss: 1.4156\n",
      "Epoch 11/20\n",
      "\u001b[1m5082/5082\u001b[0m \u001b[32m━━━━━━━━━━━━━━━━━━━━\u001b[0m\u001b[37m\u001b[0m \u001b[1m36s\u001b[0m 7ms/step - accuracy: 0.7450 - loss: 1.0777 - val_accuracy: 0.6814 - val_loss: 1.4070\n",
      "Epoch 12/20\n",
      "\u001b[1m5082/5082\u001b[0m \u001b[32m━━━━━━━━━━━━━━━━━━━━\u001b[0m\u001b[37m\u001b[0m \u001b[1m36s\u001b[0m 7ms/step - accuracy: 0.7553 - loss: 1.0316 - val_accuracy: 0.6973 - val_loss: 1.3768\n",
      "Epoch 13/20\n",
      "\u001b[1m5082/5082\u001b[0m \u001b[32m━━━━━━━━━━━━━━━━━━━━\u001b[0m\u001b[37m\u001b[0m \u001b[1m35s\u001b[0m 7ms/step - accuracy: 0.7782 - loss: 0.9523 - val_accuracy: 0.7062 - val_loss: 1.3413\n",
      "Epoch 14/20\n",
      "\u001b[1m5082/5082\u001b[0m \u001b[32m━━━━━━━━━━━━━━━━━━━━\u001b[0m\u001b[37m\u001b[0m \u001b[1m35s\u001b[0m 7ms/step - accuracy: 0.7854 - loss: 0.8915 - val_accuracy: 0.6973 - val_loss: 1.3904\n",
      "Epoch 15/20\n",
      "\u001b[1m5082/5082\u001b[0m \u001b[32m━━━━━━━━━━━━━━━━━━━━\u001b[0m\u001b[37m\u001b[0m \u001b[1m35s\u001b[0m 7ms/step - accuracy: 0.7971 - loss: 0.8509 - val_accuracy: 0.7027 - val_loss: 1.3294\n",
      "Epoch 16/20\n",
      "\u001b[1m5082/5082\u001b[0m \u001b[32m━━━━━━━━━━━━━━━━━━━━\u001b[0m\u001b[37m\u001b[0m \u001b[1m35s\u001b[0m 7ms/step - accuracy: 0.8000 - loss: 0.8011 - val_accuracy: 0.7097 - val_loss: 1.3303\n",
      "Epoch 17/20\n",
      "\u001b[1m5082/5082\u001b[0m \u001b[32m━━━━━━━━━━━━━━━━━━━━\u001b[0m\u001b[37m\u001b[0m \u001b[1m35s\u001b[0m 7ms/step - accuracy: 0.8115 - loss: 0.7764 - val_accuracy: 0.7097 - val_loss: 1.3348\n",
      "Epoch 18/20\n",
      "\u001b[1m5082/5082\u001b[0m \u001b[32m━━━━━━━━━━━━━━━━━━━━\u001b[0m\u001b[37m\u001b[0m \u001b[1m36s\u001b[0m 7ms/step - accuracy: 0.8374 - loss: 0.7154 - val_accuracy: 0.7027 - val_loss: 1.3402\n",
      "Epoch 19/20\n",
      "\u001b[1m5082/5082\u001b[0m \u001b[32m━━━━━━━━━━━━━━━━━━━━\u001b[0m\u001b[37m\u001b[0m \u001b[1m36s\u001b[0m 7ms/step - accuracy: 0.8395 - loss: 0.7080 - val_accuracy: 0.7115 - val_loss: 1.3215\n",
      "Epoch 20/20\n",
      "\u001b[1m5082/5082\u001b[0m \u001b[32m━━━━━━━━━━━━━━━━━━━━\u001b[0m\u001b[37m\u001b[0m \u001b[1m36s\u001b[0m 7ms/step - accuracy: 0.8428 - loss: 0.6449 - val_accuracy: 0.7257 - val_loss: 1.2808\n"
     ]
    }
   ],
   "source": [
    "epochs = 20\n",
    "history = model.fit(\n",
    "    train_ds,\n",
    "    validation_data=val_ds,\n",
    "    epochs=epochs,\n",
    "    callbacks=[tf.keras.callbacks.EarlyStopping(monitor='loss', patience=3)]\n",
    ")"
   ]
  },
  {
   "cell_type": "markdown",
   "metadata": {},
   "source": [
    "### Evaluation"
   ]
  },
  {
   "cell_type": "code",
   "execution_count": 22,
   "metadata": {},
   "outputs": [],
   "source": [
    "def history_plotter(history):\n",
    "    plt.figure(figsize=(16, 5))\n",
    "    plt.subplot(1, 2, 1)\n",
    "    plt.plot(history.history['accuracy'], label='accuracy')\n",
    "    plt.plot(history.history['val_accuracy'], label = 'val_accuracy')\n",
    "    plt.xlabel('Epoch')\n",
    "    plt.ylabel('Accuracy')\n",
    "    plt.legend(loc='lower right')\n",
    "\n",
    "    plt.subplot(1, 2, 2)\n",
    "    plt.plot(history.history['loss'], label='loss')\n",
    "    plt.plot(history.history['val_loss'], label = 'val_loss')\n",
    "    plt.xlabel('Epoch')\n",
    "    plt.ylabel('Loss')\n",
    "    plt.legend(loc='upper right')"
   ]
  },
  {
   "cell_type": "code",
   "execution_count": 23,
   "metadata": {},
   "outputs": [
    {
     "data": {
      "image/png": "[encoded data removed]",
      "text/plain": [
       "<Figure size 1600x500 with 2 Axes>"
      ]
     },
     "metadata": {},
     "output_type": "display_data"
    }
   ],
   "source": [
    "history_plotter(history)"
   ]
  },
  {
   "cell_type": "code",
   "execution_count": 24,
   "metadata": {},
   "outputs": [
    {
     "name": "stdout",
     "output_type": "stream",
     "text": [
      "\u001b[1m997/997\u001b[0m \u001b[32m━━━━━━━━━━━━━━━━━━━━\u001b[0m\u001b[37m\u001b[0m \u001b[1m1s\u001b[0m 818us/step - accuracy: 0.6848 - loss: 1.4536\n"
     ]
    },
    {
     "data": {
      "text/plain": [
       "[1.3740190267562866, 0.7191574573516846]"
      ]
     },
     "execution_count": 24,
     "metadata": {},
     "output_type": "execute_result"
    }
   ],
   "source": [
    "model.evaluate(test_ds) # loss, accuracy"
   ]
  },
  {
   "cell_type": "markdown",
   "metadata": {},
   "source": [
    "The model learns well the dataset initially but overfits after the 10th epoch"
   ]
  },
  {
   "cell_type": "markdown",
   "metadata": {},
   "source": [
    "In order to evaluate the model on the test data we pass the predictions in a csv file that will be then be reloaded in the overview.ipynb file for the assesment"
   ]
  },
  {
   "cell_type": "code",
   "execution_count": null,
   "metadata": {},
   "outputs": [
    {
     "name": "stdout",
     "output_type": "stream",
     "text": [
      "\u001b[1m997/997\u001b[0m \u001b[32m━━━━━━━━━━━━━━━━━━━━\u001b[0m\u001b[37m\u001b[0m \u001b[1m1s\u001b[0m 730us/step\n"
     ]
    }
   ],
   "source": [
    "predictions = model.predict(test_ds)\n"
   ]
  },
  {
   "cell_type": "code",
   "execution_count": null,
   "metadata": {},
   "outputs": [],
   "source": [
    "predicted_labels = tf.argmax(predictions, axis=1).numpy()"
   ]
  },
  {
   "cell_type": "code",
   "execution_count": null,
   "metadata": {},
   "outputs": [
    {
     "name": "stderr",
     "output_type": "stream",
     "text": [
      "2025-02-13 17:15:42.457842: I tensorflow/core/framework/local_rendezvous.cc:405] Local rendezvous is aborting with status: OUT_OF_RANGE: End of sequence\n"
     ]
    }
   ],
   "source": [
    "true_labels = []\n",
    "for _, labels in test_ds:\n",
    "    true_labels.extend(labels.numpy())\n",
    "\n",
    "true_labels = np.array(true_labels)"
   ]
  },
  {
   "cell_type": "code",
   "execution_count": null,
   "metadata": {},
   "outputs": [],
   "source": [
    "predicted_labels_text = [id2label[label] for label in predicted_labels]\n",
    "true_labels_text = [id2label[label] for label in true_labels]\n",
    "\n",
    "text_indices = list(range(len(predicted_labels)))\n",
    "\n",
    "results_df = pd.DataFrame({\n",
    "    'index': text_indices,\n",
    "    'true_label': predicted_labels_text,\n",
    "    'predicted_label': true_labels_text\n",
    "})\n",
    "\n",
    "results_df.to_csv('predictions_st2_hazard.csv', index=False)"
   ]
  },
  {
   "cell_type": "markdown",
   "metadata": {},
   "source": [
    "Lastly, we compute the F1-score"
   ]
  },
  {
   "cell_type": "code",
   "execution_count": 25,
   "metadata": {},
   "outputs": [],
   "source": [
    "def compute_score_1(hazards_true, hazards_pred):\n",
    "  # compute f1 for hazards:\n",
    "  f1_hazards = f1_score(\n",
    "    hazards_true,\n",
    "    hazards_pred,\n",
    "    average='macro'\n",
    "  )\n",
    "  return f1_hazards"
   ]
  },
  {
   "cell_type": "code",
   "execution_count": 30,
   "metadata": {},
   "outputs": [
    {
     "name": "stdout",
     "output_type": "stream",
     "text": [
      "0.3907685380889715\n"
     ]
    }
   ],
   "source": [
    "print(compute_score_1(true_labels, predicted_labels))"
   ]
  },
  {
   "cell_type": "markdown",
   "metadata": {},
   "source": [
    "The classification report highlights a significant class imbalance in the dataset. Classes with very few samples have an F1-score of 0, which lowers the macro average to __0.39__, indicating that the model struggles to classify underrepresented categories."
   ]
  },
  {
   "cell_type": "markdown",
   "metadata": {},
   "source": [
    "However, the weighted F1-score remains high at 0.72, suggesting that the model performs well on the majority classes."
   ]
  },
  {
   "cell_type": "code",
   "execution_count": null,
   "metadata": {},
   "outputs": [
    {
     "name": "stdout",
     "output_type": "stream",
     "text": [
      "              precision    recall  f1-score   support\n",
      "\n",
      "           0     0.0000    0.0000    0.0000         2\n",
      "           1     0.0000    0.0000    0.0000         1\n",
      "           2     0.0000    0.0000    0.0000         1\n",
      "           3     0.0000    0.0000    0.0000         1\n",
      "           4     0.0000    0.0000    0.0000         3\n",
      "           5     0.7500    0.4615    0.5714        13\n",
      "           7     0.0000    0.0000    0.0000         1\n",
      "           8     1.0000    1.0000    1.0000         1\n",
      "           9     1.0000    0.3333    0.5000         3\n",
      "          10     0.0000    0.0000    0.0000         1\n",
      "          11     0.0000    0.0000    0.0000         2\n",
      "          12     0.0000    0.0000    0.0000         1\n",
      "          13     0.2857    0.5000    0.3636         4\n",
      "          14     0.2308    0.5000    0.3158         6\n",
      "          15     1.0000    1.0000    1.0000         1\n",
      "          16     0.0000    0.0000    0.0000         1\n",
      "          17     0.7143    0.7317    0.7229        41\n",
      "          18     0.0000    0.0000    0.0000         1\n",
      "          19     1.0000    0.5000    0.6667         2\n",
      "          20     0.0000    0.0000    0.0000         2\n",
      "          22     1.0000    0.6250    0.7692         8\n",
      "          24     0.0000    0.0000    0.0000         1\n",
      "          25     0.0000    0.0000    0.0000         1\n",
      "          27     1.0000    1.0000    1.0000         1\n",
      "          28     1.0000    0.3333    0.5000         3\n",
      "          29     0.6667    1.0000    0.8000         2\n",
      "          31     0.0000    0.0000    0.0000         1\n",
      "          33     1.0000    1.0000    1.0000         2\n",
      "          34     0.7381    0.7561    0.7470        41\n",
      "          35     1.0000    0.5000    0.6667         2\n",
      "          36     0.9348    0.9149    0.9247        47\n",
      "          37     0.0000    0.0000    0.0000         1\n",
      "          38     1.0000    0.3750    0.5455         8\n",
      "          39     0.2500    0.2000    0.2222         5\n",
      "          40     0.5385    0.4118    0.4667        17\n",
      "          42     0.5000    0.6667    0.5714         3\n",
      "          43     1.0000    0.6667    0.8000         6\n",
      "          44     1.0000    1.0000    1.0000         1\n",
      "          45     1.0000    0.5000    0.6667         2\n",
      "          46     0.0000    0.0000    0.0000         1\n",
      "          47     1.0000    0.3333    0.5000         3\n",
      "          48     0.0000    0.0000    0.0000         1\n",
      "          49     0.0000    0.0000    0.0000         8\n",
      "          50     0.3000    0.6000    0.4000         5\n",
      "          51     1.0000    0.2500    0.4000         4\n",
      "          52     0.6364    0.7000    0.6667        20\n",
      "          53     0.0000    0.0000    0.0000         4\n",
      "          54     0.0000    0.0000    0.0000         7\n",
      "          55     0.9835    0.9084    0.9444       131\n",
      "          56     0.0000    0.0000    0.0000         1\n",
      "          57     0.5417    0.8387    0.6582        31\n",
      "          58     0.1429    0.3333    0.2000         3\n",
      "          59     0.8911    0.7826    0.8333       115\n",
      "          60     0.0000    0.0000    0.0000         3\n",
      "          61     0.2857    0.4000    0.3333         5\n",
      "          62     0.0000    0.0000    0.0000         1\n",
      "          63     0.0000    0.0000    0.0000         1\n",
      "          64     0.6667    0.4000    0.5000         5\n",
      "          65     1.0000    0.9000    0.9474        10\n",
      "          67     0.0000    0.0000    0.0000         1\n",
      "          68     0.8000    1.0000    0.8889         4\n",
      "          69     0.0000    0.0000    0.0000         1\n",
      "          70     0.0000    0.0000    0.0000         6\n",
      "          71     0.0000    0.0000    0.0000         0\n",
      "          73     0.2121    0.3684    0.2692        19\n",
      "          74     1.0000    1.0000    1.0000         1\n",
      "          75     0.8000    0.5714    0.6667         7\n",
      "          77     0.0000    0.0000    0.0000         3\n",
      "          78     0.6667    0.5000    0.5714         4\n",
      "          79     0.0000    0.0000    0.0000         2\n",
      "          80     0.2500    0.5000    0.3333         4\n",
      "          81     1.0000    1.0000    1.0000         1\n",
      "          82     0.0000    0.0000    0.0000         1\n",
      "          83     0.0000    0.0000    0.0000         1\n",
      "          84     0.5000    1.0000    0.6667         2\n",
      "          85     0.8298    0.9286    0.8764        42\n",
      "          86     0.0000    0.0000    0.0000         3\n",
      "          88     0.0000    0.0000    0.0000         1\n",
      "          89     1.0000    1.0000    1.0000         2\n",
      "          90     0.6400    0.8000    0.7111        40\n",
      "          91     1.0000    1.0000    1.0000         1\n",
      "          92     0.0000    0.0000    0.0000         1\n",
      "          93     0.0000    0.0000    0.0000         2\n",
      "          94     0.5000    0.3750    0.4286         8\n",
      "          95     0.0000    0.0000    0.0000         1\n",
      "          96     0.0000    0.0000    0.0000         1\n",
      "          97     0.6000    0.5000    0.5455         6\n",
      "          98     0.9426    0.9426    0.9426       122\n",
      "          99     0.7273    1.0000    0.8421         8\n",
      "         100     0.5435    0.7353    0.6250        34\n",
      "         101     1.0000    0.5000    0.6667         2\n",
      "         102     0.1875    1.0000    0.3158         6\n",
      "         104     1.0000    0.5000    0.6667         2\n",
      "         105     1.0000    0.5000    0.6667         2\n",
      "         107     1.0000    0.5000    0.6667         2\n",
      "         108     0.6000    1.0000    0.7500         3\n",
      "         109     0.8000    0.8889    0.8421        18\n",
      "         111     0.0000    0.0000    0.0000         1\n",
      "         113     0.0000    0.0000    0.0000         1\n",
      "         114     1.0000    0.5000    0.6667         4\n",
      "         115     0.0000    0.0000    0.0000         1\n",
      "         116     0.0000    0.0000    0.0000         1\n",
      "         118     0.0000    0.0000    0.0000         1\n",
      "         119     1.0000    0.9000    0.9474        10\n",
      "         120     0.0000    0.0000    0.0000         1\n",
      "         121     1.0000    1.0000    1.0000         3\n",
      "         122     0.0000    0.0000    0.0000         2\n",
      "         124     0.0000    0.0000    0.0000         1\n",
      "         125     1.0000    1.0000    1.0000         1\n",
      "         126     0.5714    0.6667    0.6154         6\n",
      "         127     0.0000    0.0000    0.0000         1\n",
      "\n",
      "    accuracy                         0.7192       997\n",
      "   macro avg     0.4345    0.3928    0.3908       997\n",
      "weighted avg     0.7323    0.7192    0.7127       997\n",
      "\n"
     ]
    },
    {
     "name": "stderr",
     "output_type": "stream",
     "text": [
      "/home/ec2-user/anaconda3/envs/python3/lib/python3.10/site-packages/sklearn/metrics/_classification.py:1565: UndefinedMetricWarning: Precision is ill-defined and being set to 0.0 in labels with no predicted samples. Use `zero_division` parameter to control this behavior.\n",
      "  _warn_prf(average, modifier, f\"{metric.capitalize()} is\", len(result))\n",
      "/home/ec2-user/anaconda3/envs/python3/lib/python3.10/site-packages/sklearn/metrics/_classification.py:1565: UndefinedMetricWarning: Recall is ill-defined and being set to 0.0 in labels with no true samples. Use `zero_division` parameter to control this behavior.\n",
      "  _warn_prf(average, modifier, f\"{metric.capitalize()} is\", len(result))\n",
      "/home/ec2-user/anaconda3/envs/python3/lib/python3.10/site-packages/sklearn/metrics/_classification.py:1565: UndefinedMetricWarning: Precision is ill-defined and being set to 0.0 in labels with no predicted samples. Use `zero_division` parameter to control this behavior.\n",
      "  _warn_prf(average, modifier, f\"{metric.capitalize()} is\", len(result))\n",
      "/home/ec2-user/anaconda3/envs/python3/lib/python3.10/site-packages/sklearn/metrics/_classification.py:1565: UndefinedMetricWarning: Recall is ill-defined and being set to 0.0 in labels with no true samples. Use `zero_division` parameter to control this behavior.\n",
      "  _warn_prf(average, modifier, f\"{metric.capitalize()} is\", len(result))\n",
      "/home/ec2-user/anaconda3/envs/python3/lib/python3.10/site-packages/sklearn/metrics/_classification.py:1565: UndefinedMetricWarning: Precision is ill-defined and being set to 0.0 in labels with no predicted samples. Use `zero_division` parameter to control this behavior.\n",
      "  _warn_prf(average, modifier, f\"{metric.capitalize()} is\", len(result))\n",
      "/home/ec2-user/anaconda3/envs/python3/lib/python3.10/site-packages/sklearn/metrics/_classification.py:1565: UndefinedMetricWarning: Recall is ill-defined and being set to 0.0 in labels with no true samples. Use `zero_division` parameter to control this behavior.\n",
      "  _warn_prf(average, modifier, f\"{metric.capitalize()} is\", len(result))\n"
     ]
    }
   ],
   "source": [
    "report = classification_report(true_labels, predicted_labels, digits=4)\n",
    "\n",
    "print(report)"
   ]
  }
 ],
 "metadata": {
  "kernelspec": {
   "display_name": "conda_python3",
   "language": "python",
   "name": "conda_python3"
  },
  "language_info": {
   "codemirror_mode": {
    "name": "ipython",
    "version": 3
   },
   "file_extension": ".py",
   "mimetype": "text/x-python",
   "name": "python",
   "nbconvert_exporter": "python",
   "pygments_lexer": "ipython3",
   "version": "3.10.16"
  }
 },
 "nbformat": 4,
 "nbformat_minor": 4
}
