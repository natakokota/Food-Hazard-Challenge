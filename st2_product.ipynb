{
 "cells": [
  {
   "cell_type": "markdown",
   "metadata": {},
   "source": [
    "# Subtask 2 Product Prediction"
   ]
  },
  {
   "cell_type": "markdown",
   "metadata": {},
   "source": [
    "For the second subtask I used a simple feedforward neural network to process and classify the text data.\n",
    "<br> <br>\n",
    "__The documentation remains the same as in the Hazard Prediction notebook (st2_hazard.ipynb). The only difference is in the evaluation of the results.__"
   ]
  },
  {
   "cell_type": "code",
   "execution_count": 1,
   "metadata": {},
   "outputs": [
    {
     "name": "stdout",
     "output_type": "stream",
     "text": [
      "Note: you may need to restart the kernel to use updated packages.\n"
     ]
    }
   ],
   "source": [
    "%pip install scikit-learn -q"
   ]
  },
  {
   "cell_type": "code",
   "execution_count": 2,
   "metadata": {},
   "outputs": [
    {
     "name": "stdout",
     "output_type": "stream",
     "text": [
      "Note: you may need to restart the kernel to use updated packages.\n"
     ]
    }
   ],
   "source": [
    "%pip install tensorflow -q"
   ]
  },
  {
   "cell_type": "code",
   "execution_count": 3,
   "metadata": {},
   "outputs": [
    {
     "name": "stdout",
     "output_type": "stream",
     "text": [
      "Note: you may need to restart the kernel to use updated packages.\n"
     ]
    }
   ],
   "source": [
    "%pip install --upgrade setuptools -q"
   ]
  },
  {
   "cell_type": "code",
   "execution_count": 4,
   "metadata": {},
   "outputs": [
    {
     "name": "stdout",
     "output_type": "stream",
     "text": [
      "Note: you may need to restart the kernel to use updated packages.\n"
     ]
    }
   ],
   "source": [
    "%pip install matplotlib -q"
   ]
  },
  {
   "cell_type": "code",
   "execution_count": 5,
   "metadata": {},
   "outputs": [
    {
     "name": "stderr",
     "output_type": "stream",
     "text": [
      "2025-02-13 20:31:00.106483: E external/local_xla/xla/stream_executor/cuda/cuda_fft.cc:477] Unable to register cuFFT factory: Attempting to register factory for plugin cuFFT when one has already been registered\n",
      "WARNING: All log messages before absl::InitializeLog() is called are written to STDERR\n",
      "E0000 00:00:1739478660.124527   51743 cuda_dnn.cc:8310] Unable to register cuDNN factory: Attempting to register factory for plugin cuDNN when one has already been registered\n",
      "E0000 00:00:1739478660.130023   51743 cuda_blas.cc:1418] Unable to register cuBLAS factory: Attempting to register factory for plugin cuBLAS when one has already been registered\n",
      "2025-02-13 20:31:00.148236: I tensorflow/core/platform/cpu_feature_guard.cc:210] This TensorFlow binary is optimized to use available CPU instructions in performance-critical operations.\n",
      "To enable the following instructions: AVX2 AVX512F FMA, in other operations, rebuild TensorFlow with the appropriate compiler flags.\n"
     ]
    }
   ],
   "source": [
    "import pandas as pd\n",
    "import numpy as np\n",
    "import tensorflow as tf\n",
    "import re\n",
    "import string\n",
    "\n",
    "from tensorflow import keras\n",
    "from tensorflow.keras import layers\n",
    "from tensorflow.keras import losses\n",
    "\n",
    "from sklearn.metrics import f1_score\n",
    "from sklearn.metrics import classification_report\n",
    "\n",
    "import matplotlib.pyplot as plt"
   ]
  },
  {
   "cell_type": "markdown",
   "metadata": {},
   "source": [
    "### Data Preparation"
   ]
  },
  {
   "cell_type": "markdown",
   "metadata": {},
   "source": [
    "Load CSV datasets"
   ]
  },
  {
   "cell_type": "code",
   "execution_count": null,
   "metadata": {},
   "outputs": [],
   "source": [
    "labeled_train_df = pd.read_csv(\"incidents_train.csv\").rename(columns={\"Unnamed: 0\": \"index\"})\n",
    "labeled_valid_df = pd.read_csv(\"incidents_valid.csv\").rename(columns={\"Unnamed: 0\": \"index\"})\n",
    "labeled_test_df = pd.read_csv(\"incidents_test.csv\").rename(columns={\"Unnamed: 0\": \"index\"})"
   ]
  },
  {
   "cell_type": "markdown",
   "metadata": {},
   "source": [
    "We extract unique hazard categroies and we include the ones that only appear in the validation and test data in a class called \"Other\""
   ]
  },
  {
   "cell_type": "code",
   "execution_count": null,
   "metadata": {},
   "outputs": [],
   "source": [
    "# Find unique categories in each dataset\n",
    "train_categories = set(labeled_train_df[\"product\"].unique())\n",
    "valid_categories = set(labeled_valid_df[\"product\"].unique())\n",
    "test_categories = set(labeled_test_df[\"product\"].unique())"
   ]
  },
  {
   "cell_type": "code",
   "execution_count": 8,
   "metadata": {},
   "outputs": [],
   "source": [
    "# Identify extra categories in validation and test sets\n",
    "extra_valid_categories = valid_categories - train_categories\n",
    "extra_test_categories = test_categories - train_categories"
   ]
  },
  {
   "cell_type": "markdown",
   "metadata": {},
   "source": [
    "We then create mapping dictionaries (label2id and id2label)\n",
    "and apply them to the datasets<br>"
   ]
  },
  {
   "cell_type": "code",
   "execution_count": 9,
   "metadata": {},
   "outputs": [],
   "source": [
    "# Define a new category for unknown labels\n",
    "OTHER_CATEGORY = \"Other\"\n",
    "\n",
    "# Create label mapping for known categories (from train set)\n",
    "label2id = {category: idx for idx, category in enumerate(sorted(train_categories))}\n",
    "label2id[OTHER_CATEGORY] = len(label2id)  # Assign last index to \"Other\"\n",
    "id2label = {v: k for k, v in label2id.items()}\n",
    "\n",
    "# Number of labels\n",
    "num_labels = len(label2id)\n"
   ]
  },
  {
   "cell_type": "code",
   "execution_count": 11,
   "metadata": {},
   "outputs": [],
   "source": [
    "# Function to map labels, assigning 'Other' when necessary\n",
    "def map_labels(category):\n",
    "    return label2id.get(category, label2id[OTHER_CATEGORY])\n",
    "\n",
    "# Apply label mapping\n",
    "train_st1 = labeled_train_df[['text']].copy()\n",
    "train_st1['label'] = labeled_train_df['product'].map(map_labels)\n",
    "\n",
    "valid_st1 = labeled_valid_df[['text']].copy()\n",
    "valid_st1['label'] = labeled_valid_df['product'].map(map_labels)\n",
    "\n",
    "test_st1 = labeled_test_df[['text']].copy()\n",
    "test_st1['label'] = labeled_test_df['product'].map(map_labels)"
   ]
  },
  {
   "cell_type": "markdown",
   "metadata": {},
   "source": [
    "We use a custom standardization function that:\n",
    "* Converts all text to lowercase.\n",
    "* Replaces newlines (\\n) with a space.\n",
    "* Removes punctuation."
   ]
  },
  {
   "cell_type": "code",
   "execution_count": 12,
   "metadata": {},
   "outputs": [],
   "source": [
    "def custom_standardization(input_data):\n",
    "    lowercase = tf.strings.lower(input_data)\n",
    "    stripped_html = tf.strings.regex_replace(lowercase, '\\n            ', ' ')\n",
    "    no_punctuation = tf.strings.regex_replace(stripped_html,\n",
    "                                              '[%s]' % re.escape(string.punctuation),\n",
    "                                              '')\n",
    "    return no_punctuation"
   ]
  },
  {
   "cell_type": "markdown",
   "metadata": {},
   "source": [
    "We define a TextVectorization layer that converts raw text into integer sequences.\n",
    "* max_features=20000: Uses the top 20,000 words in the dataset\n",
    "* sequence_length=250: Each text sample is truncated or padded to a fixed length of 250 tokens\n",
    "* The standardize function applies the custom text cleaning we defined earlier"
   ]
  },
  {
   "cell_type": "code",
   "execution_count": 13,
   "metadata": {},
   "outputs": [
    {
     "name": "stderr",
     "output_type": "stream",
     "text": [
      "2025-02-13 20:31:02.482185: E external/local_xla/xla/stream_executor/cuda/cuda_driver.cc:152] failed call to cuInit: INTERNAL: CUDA error: Failed call to cuInit: CUDA_ERROR_NO_DEVICE: no CUDA-capable device is detected\n"
     ]
    }
   ],
   "source": [
    "max_features = 20000\n",
    "sequence_length = 500\n",
    "\n",
    "vectorize_layer = layers.TextVectorization(\n",
    "    standardize=custom_standardization,\n",
    "    max_tokens=max_features,\n",
    "    output_mode='int',\n",
    "    output_sequence_length=sequence_length)\n"
   ]
  },
  {
   "cell_type": "markdown",
   "metadata": {},
   "source": [
    "We convert the training dataset into a TensorFlow Dataset\n",
    "* train_st1[\"text\"] contains the input text\n",
    "* train_st1[\"label\"] contains the corresponding labels"
   ]
  },
  {
   "cell_type": "code",
   "execution_count": 14,
   "metadata": {},
   "outputs": [],
   "source": [
    "# Ensure tensors are explicitly set\n",
    "train_st1_ds = tf.data.Dataset.from_tensor_slices((\n",
    "    tf.convert_to_tensor(train_st1[\"text\"].values, dtype=tf.string),\n",
    "    tf.convert_to_tensor(train_st1[\"label\"].values, dtype=tf.int32)\n",
    "))\n",
    "\n",
    "# Apply mapping\n",
    "text_only_train_st1_ds = train_st1_ds.map(lambda x, y: tf.cast(x, tf.string))"
   ]
  },
  {
   "cell_type": "markdown",
   "metadata": {},
   "source": [
    "We define the function vectorize_text() that transforms text samples into numerical sequences using vectorize_layer.\n",
    "The labels are reshaped to match expected input format."
   ]
  },
  {
   "cell_type": "code",
   "execution_count": 15,
   "metadata": {},
   "outputs": [],
   "source": [
    "def vectorize_text(text, label):\n",
    "    text = tf.expand_dims(text, -1)  # Ensure text has shape (1,)\n",
    "    label = tf.expand_dims(label, -1)  # Ensure labels have shape (1,)\n",
    "    label = tf.cast(label, tf.int32)  # Convert labels to integers\n",
    "    return vectorize_layer(text), label"
   ]
  },
  {
   "cell_type": "markdown",
   "metadata": {},
   "source": [
    "The vectorization layer learns the vocabulary from the training data. <br>\n",
    "The datasets (train_st1, valid_st1, test_st1) are mapped through vectorize_text() so that text inputs are converted to integer sequences."
   ]
  },
  {
   "cell_type": "code",
   "execution_count": null,
   "metadata": {},
   "outputs": [
    {
     "name": "stderr",
     "output_type": "stream",
     "text": [
      "2025-02-13 20:31:19.024190: I tensorflow/core/framework/local_rendezvous.cc:405] Local rendezvous is aborting with status: OUT_OF_RANGE: End of sequence\n"
     ]
    }
   ],
   "source": [
    "vectorize_layer.adapt(text_only_train_st1_ds)\n",
    "\n",
    "train_st1 = tf.data.Dataset.from_tensor_slices((\n",
    "    tf.convert_to_tensor(train_st1[\"text\"].values, dtype=tf.string),\n",
    "    tf.convert_to_tensor(train_st1[\"label\"].values, dtype=tf.int32)\n",
    "))\n",
    "\n",
    "valid_st1 = tf.data.Dataset.from_tensor_slices((\n",
    "    tf.convert_to_tensor(valid_st1[\"text\"].values, dtype=tf.string),\n",
    "    tf.convert_to_tensor(valid_st1[\"label\"].values, dtype=tf.int32)\n",
    "))\n",
    "\n",
    "test_st1 = tf.data.Dataset.from_tensor_slices((\n",
    "    tf.convert_to_tensor(test_st1[\"text\"].values, dtype=tf.string),\n",
    "    tf.convert_to_tensor(test_st1[\"label\"].values, dtype=tf.int32)\n",
    "))\n",
    "\n",
    "train_ds = train_st1.map(vectorize_text)\n",
    "val_ds = valid_st1.map(vectorize_text)\n",
    "test_ds = test_st1.map(vectorize_text)"
   ]
  },
  {
   "cell_type": "markdown",
   "metadata": {},
   "source": [
    "We cache the dataset to prevent redundant disk reads and then we prefetch the next batch asynchronously"
   ]
  },
  {
   "cell_type": "code",
   "execution_count": 17,
   "metadata": {},
   "outputs": [],
   "source": [
    "AUTOTUNE = tf.data.AUTOTUNE\n",
    "\n",
    "train_ds = train_ds.cache().prefetch(buffer_size=AUTOTUNE)\n",
    "val_ds = val_ds.cache().prefetch(buffer_size=AUTOTUNE)\n",
    "test_ds = test_ds.cache().prefetch(buffer_size=AUTOTUNE)"
   ]
  },
  {
   "cell_type": "markdown",
   "metadata": {},
   "source": [
    "### Training "
   ]
  },
  {
   "cell_type": "markdown",
   "metadata": {},
   "source": [
    "We use a neural network from Keras:\n",
    "1. Input layer: Takes integer sequences of length 250.\n",
    "2. Embedding layer: Converts integer tokens into dense vector representations (size 256).\n",
    "3. Dropout (0.3): Prevents overfitting.\n",
    "4. GlobalAveragePooling1D: Reduces the sequence into a fixed-length vector.\n",
    "5. Dropout (0.3): Further regularization.\n",
    "6. Dense Layer (Softmax Activation): Outputs probabilities for 1023 classes."
   ]
  },
  {
   "cell_type": "code",
   "execution_count": null,
   "metadata": {},
   "outputs": [
    {
     "data": {
      "text/html": [
       "<pre style=\"white-space:pre;overflow-x:auto;line-height:normal;font-family:Menlo,'DejaVu Sans Mono',consolas,'Courier New',monospace\"><span style=\"font-weight: bold\">Model: \"sequential\"</span>\n",
       "</pre>\n"
      ],
      "text/plain": [
       "\u001b[1mModel: \"sequential\"\u001b[0m\n"
      ]
     },
     "metadata": {},
     "output_type": "display_data"
    },
    {
     "data": {
      "text/html": [
       "<pre style=\"white-space:pre;overflow-x:auto;line-height:normal;font-family:Menlo,'DejaVu Sans Mono',consolas,'Courier New',monospace\">┏━━━━━━━━━━━━━━━━━━━━━━━━━━━━━━━━━┳━━━━━━━━━━━━━━━━━━━━━━━━┳━━━━━━━━━━━━━━━┓\n",
       "┃<span style=\"font-weight: bold\"> Layer (type)                    </span>┃<span style=\"font-weight: bold\"> Output Shape           </span>┃<span style=\"font-weight: bold\">       Param # </span>┃\n",
       "┡━━━━━━━━━━━━━━━━━━━━━━━━━━━━━━━━━╇━━━━━━━━━━━━━━━━━━━━━━━━╇━━━━━━━━━━━━━━━┩\n",
       "│ embedding (<span style=\"color: #0087ff; text-decoration-color: #0087ff\">Embedding</span>)           │ (<span style=\"color: #00d7ff; text-decoration-color: #00d7ff\">None</span>, <span style=\"color: #00af00; text-decoration-color: #00af00\">500</span>, <span style=\"color: #00af00; text-decoration-color: #00af00\">256</span>)       │     <span style=\"color: #00af00; text-decoration-color: #00af00\">5,120,000</span> │\n",
       "├─────────────────────────────────┼────────────────────────┼───────────────┤\n",
       "│ dropout (<span style=\"color: #0087ff; text-decoration-color: #0087ff\">Dropout</span>)               │ (<span style=\"color: #00d7ff; text-decoration-color: #00d7ff\">None</span>, <span style=\"color: #00af00; text-decoration-color: #00af00\">500</span>, <span style=\"color: #00af00; text-decoration-color: #00af00\">256</span>)       │             <span style=\"color: #00af00; text-decoration-color: #00af00\">0</span> │\n",
       "├─────────────────────────────────┼────────────────────────┼───────────────┤\n",
       "│ global_average_pooling1d        │ (<span style=\"color: #00d7ff; text-decoration-color: #00d7ff\">None</span>, <span style=\"color: #00af00; text-decoration-color: #00af00\">256</span>)            │             <span style=\"color: #00af00; text-decoration-color: #00af00\">0</span> │\n",
       "│ (<span style=\"color: #0087ff; text-decoration-color: #0087ff\">GlobalAveragePooling1D</span>)        │                        │               │\n",
       "├─────────────────────────────────┼────────────────────────┼───────────────┤\n",
       "│ dropout_1 (<span style=\"color: #0087ff; text-decoration-color: #0087ff\">Dropout</span>)             │ (<span style=\"color: #00d7ff; text-decoration-color: #00d7ff\">None</span>, <span style=\"color: #00af00; text-decoration-color: #00af00\">256</span>)            │             <span style=\"color: #00af00; text-decoration-color: #00af00\">0</span> │\n",
       "├─────────────────────────────────┼────────────────────────┼───────────────┤\n",
       "│ dense (<span style=\"color: #0087ff; text-decoration-color: #0087ff\">Dense</span>)                   │ (<span style=\"color: #00d7ff; text-decoration-color: #00d7ff\">None</span>, <span style=\"color: #00af00; text-decoration-color: #00af00\">1023</span>)           │       <span style=\"color: #00af00; text-decoration-color: #00af00\">262,911</span> │\n",
       "└─────────────────────────────────┴────────────────────────┴───────────────┘\n",
       "</pre>\n"
      ],
      "text/plain": [
       "┏━━━━━━━━━━━━━━━━━━━━━━━━━━━━━━━━━┳━━━━━━━━━━━━━━━━━━━━━━━━┳━━━━━━━━━━━━━━━┓\n",
       "┃\u001b[1m \u001b[0m\u001b[1mLayer (type)                   \u001b[0m\u001b[1m \u001b[0m┃\u001b[1m \u001b[0m\u001b[1mOutput Shape          \u001b[0m\u001b[1m \u001b[0m┃\u001b[1m \u001b[0m\u001b[1m      Param #\u001b[0m\u001b[1m \u001b[0m┃\n",
       "┡━━━━━━━━━━━━━━━━━━━━━━━━━━━━━━━━━╇━━━━━━━━━━━━━━━━━━━━━━━━╇━━━━━━━━━━━━━━━┩\n",
       "│ embedding (\u001b[38;5;33mEmbedding\u001b[0m)           │ (\u001b[38;5;45mNone\u001b[0m, \u001b[38;5;34m500\u001b[0m, \u001b[38;5;34m256\u001b[0m)       │     \u001b[38;5;34m5,120,000\u001b[0m │\n",
       "├─────────────────────────────────┼────────────────────────┼───────────────┤\n",
       "│ dropout (\u001b[38;5;33mDropout\u001b[0m)               │ (\u001b[38;5;45mNone\u001b[0m, \u001b[38;5;34m500\u001b[0m, \u001b[38;5;34m256\u001b[0m)       │             \u001b[38;5;34m0\u001b[0m │\n",
       "├─────────────────────────────────┼────────────────────────┼───────────────┤\n",
       "│ global_average_pooling1d        │ (\u001b[38;5;45mNone\u001b[0m, \u001b[38;5;34m256\u001b[0m)            │             \u001b[38;5;34m0\u001b[0m │\n",
       "│ (\u001b[38;5;33mGlobalAveragePooling1D\u001b[0m)        │                        │               │\n",
       "├─────────────────────────────────┼────────────────────────┼───────────────┤\n",
       "│ dropout_1 (\u001b[38;5;33mDropout\u001b[0m)             │ (\u001b[38;5;45mNone\u001b[0m, \u001b[38;5;34m256\u001b[0m)            │             \u001b[38;5;34m0\u001b[0m │\n",
       "├─────────────────────────────────┼────────────────────────┼───────────────┤\n",
       "│ dense (\u001b[38;5;33mDense\u001b[0m)                   │ (\u001b[38;5;45mNone\u001b[0m, \u001b[38;5;34m1023\u001b[0m)           │       \u001b[38;5;34m262,911\u001b[0m │\n",
       "└─────────────────────────────────┴────────────────────────┴───────────────┘\n"
      ]
     },
     "metadata": {},
     "output_type": "display_data"
    },
    {
     "data": {
      "text/html": [
       "<pre style=\"white-space:pre;overflow-x:auto;line-height:normal;font-family:Menlo,'DejaVu Sans Mono',consolas,'Courier New',monospace\"><span style=\"font-weight: bold\"> Total params: </span><span style=\"color: #00af00; text-decoration-color: #00af00\">5,382,911</span> (20.53 MB)\n",
       "</pre>\n"
      ],
      "text/plain": [
       "\u001b[1m Total params: \u001b[0m\u001b[38;5;34m5,382,911\u001b[0m (20.53 MB)\n"
      ]
     },
     "metadata": {},
     "output_type": "display_data"
    },
    {
     "data": {
      "text/html": [
       "<pre style=\"white-space:pre;overflow-x:auto;line-height:normal;font-family:Menlo,'DejaVu Sans Mono',consolas,'Courier New',monospace\"><span style=\"font-weight: bold\"> Trainable params: </span><span style=\"color: #00af00; text-decoration-color: #00af00\">5,382,911</span> (20.53 MB)\n",
       "</pre>\n"
      ],
      "text/plain": [
       "\u001b[1m Trainable params: \u001b[0m\u001b[38;5;34m5,382,911\u001b[0m (20.53 MB)\n"
      ]
     },
     "metadata": {},
     "output_type": "display_data"
    },
    {
     "data": {
      "text/html": [
       "<pre style=\"white-space:pre;overflow-x:auto;line-height:normal;font-family:Menlo,'DejaVu Sans Mono',consolas,'Courier New',monospace\"><span style=\"font-weight: bold\"> Non-trainable params: </span><span style=\"color: #00af00; text-decoration-color: #00af00\">0</span> (0.00 B)\n",
       "</pre>\n"
      ],
      "text/plain": [
       "\u001b[1m Non-trainable params: \u001b[0m\u001b[38;5;34m0\u001b[0m (0.00 B)\n"
      ]
     },
     "metadata": {},
     "output_type": "display_data"
    }
   ],
   "source": [
    "model = tf.keras.Sequential([\n",
    "  layers.Input(shape=(sequence_length,)),\n",
    "  layers.Embedding(max_features, 256),\n",
    "  layers.Dropout(0.3),\n",
    "  layers.GlobalAveragePooling1D(),\n",
    "  layers.Dropout(0.3),\n",
    "  layers.Dense(num_labels, activation=\"softmax\")\n",
    "])\n",
    "\n",
    "model.summary()"
   ]
  },
  {
   "cell_type": "markdown",
   "metadata": {},
   "source": [
    "We use SparseCategoricalCrossentropy and Adam optimizer."
   ]
  },
  {
   "cell_type": "code",
   "execution_count": null,
   "metadata": {},
   "outputs": [],
   "source": [
    "model.compile(loss=losses.SparseCategoricalCrossentropy(from_logits=False),  # Use CategoricalCrossentropy if labels are one-hot\n",
    "              optimizer='adam',\n",
    "              metrics=[\"accuracy\"])"
   ]
  },
  {
   "cell_type": "markdown",
   "metadata": {},
   "source": [
    "The training stops if the loss does not improve for 3 consecutive epochs, else the model is trained for 20 epochs."
   ]
  },
  {
   "cell_type": "code",
   "execution_count": 21,
   "metadata": {},
   "outputs": [
    {
     "name": "stdout",
     "output_type": "stream",
     "text": [
      "Epoch 1/20\n",
      "\u001b[1m5082/5082\u001b[0m \u001b[32m━━━━━━━━━━━━━━━━━━━━\u001b[0m\u001b[37m\u001b[0m \u001b[1m37s\u001b[0m 7ms/step - accuracy: 0.0607 - loss: 6.2267 - val_accuracy: 0.0602 - val_loss: 6.3718\n",
      "Epoch 2/20\n",
      "\u001b[1m5082/5082\u001b[0m \u001b[32m━━━━━━━━━━━━━━━━━━━━\u001b[0m\u001b[37m\u001b[0m \u001b[1m37s\u001b[0m 7ms/step - accuracy: 0.0934 - loss: 5.2557 - val_accuracy: 0.0690 - val_loss: 6.4686\n",
      "Epoch 3/20\n",
      "\u001b[1m5082/5082\u001b[0m \u001b[32m━━━━━━━━━━━━━━━━━━━━\u001b[0m\u001b[37m\u001b[0m \u001b[1m37s\u001b[0m 7ms/step - accuracy: 0.1228 - loss: 4.9856 - val_accuracy: 0.1009 - val_loss: 6.5329\n",
      "Epoch 4/20\n",
      "\u001b[1m5082/5082\u001b[0m \u001b[32m━━━━━━━━━━━━━━━━━━━━\u001b[0m\u001b[37m\u001b[0m \u001b[1m37s\u001b[0m 7ms/step - accuracy: 0.1630 - loss: 4.7085 - val_accuracy: 0.1168 - val_loss: 6.6257\n",
      "Epoch 5/20\n",
      "\u001b[1m5082/5082\u001b[0m \u001b[32m━━━━━━━━━━━━━━━━━━━━\u001b[0m\u001b[37m\u001b[0m \u001b[1m37s\u001b[0m 7ms/step - accuracy: 0.2028 - loss: 4.4738 - val_accuracy: 0.1504 - val_loss: 6.5382\n",
      "Epoch 6/20\n",
      "\u001b[1m5082/5082\u001b[0m \u001b[32m━━━━━━━━━━━━━━━━━━━━\u001b[0m\u001b[37m\u001b[0m \u001b[1m37s\u001b[0m 7ms/step - accuracy: 0.2352 - loss: 4.2324 - val_accuracy: 0.1699 - val_loss: 6.3817\n",
      "Epoch 7/20\n",
      "\u001b[1m5082/5082\u001b[0m \u001b[32m━━━━━━━━━━━━━━━━━━━━\u001b[0m\u001b[37m\u001b[0m \u001b[1m36s\u001b[0m 7ms/step - accuracy: 0.2696 - loss: 4.0281 - val_accuracy: 0.1912 - val_loss: 6.2572\n",
      "Epoch 8/20\n",
      "\u001b[1m5082/5082\u001b[0m \u001b[32m━━━━━━━━━━━━━━━━━━━━\u001b[0m\u001b[37m\u001b[0m \u001b[1m37s\u001b[0m 7ms/step - accuracy: 0.3103 - loss: 3.8210 - val_accuracy: 0.2230 - val_loss: 6.1125\n",
      "Epoch 9/20\n",
      "\u001b[1m5082/5082\u001b[0m \u001b[32m━━━━━━━━━━━━━━━━━━━━\u001b[0m\u001b[37m\u001b[0m \u001b[1m35s\u001b[0m 7ms/step - accuracy: 0.3392 - loss: 3.6206 - val_accuracy: 0.2301 - val_loss: 6.0079\n",
      "Epoch 10/20\n",
      "\u001b[1m5082/5082\u001b[0m \u001b[32m━━━━━━━━━━━━━━━━━━━━\u001b[0m\u001b[37m\u001b[0m \u001b[1m36s\u001b[0m 7ms/step - accuracy: 0.3704 - loss: 3.4394 - val_accuracy: 0.2301 - val_loss: 5.9303\n",
      "Epoch 11/20\n",
      "\u001b[1m5082/5082\u001b[0m \u001b[32m━━━━━━━━━━━━━━━━━━━━\u001b[0m\u001b[37m\u001b[0m \u001b[1m37s\u001b[0m 7ms/step - accuracy: 0.4054 - loss: 3.2673 - val_accuracy: 0.2513 - val_loss: 5.7794\n",
      "Epoch 12/20\n",
      "\u001b[1m5082/5082\u001b[0m \u001b[32m━━━━━━━━━━━━━━━━━━━━\u001b[0m\u001b[37m\u001b[0m \u001b[1m37s\u001b[0m 7ms/step - accuracy: 0.4262 - loss: 3.1105 - val_accuracy: 0.2549 - val_loss: 5.7678\n",
      "Epoch 13/20\n",
      "\u001b[1m5082/5082\u001b[0m \u001b[32m━━━━━━━━━━━━━━━━━━━━\u001b[0m\u001b[37m\u001b[0m \u001b[1m37s\u001b[0m 7ms/step - accuracy: 0.4499 - loss: 2.9617 - val_accuracy: 0.2549 - val_loss: 5.7125\n",
      "Epoch 14/20\n",
      "\u001b[1m5082/5082\u001b[0m \u001b[32m━━━━━━━━━━━━━━━━━━━━\u001b[0m\u001b[37m\u001b[0m \u001b[1m37s\u001b[0m 7ms/step - accuracy: 0.4699 - loss: 2.8314 - val_accuracy: 0.2726 - val_loss: 5.5994\n",
      "Epoch 15/20\n",
      "\u001b[1m5082/5082\u001b[0m \u001b[32m━━━━━━━━━━━━━━━━━━━━\u001b[0m\u001b[37m\u001b[0m \u001b[1m37s\u001b[0m 7ms/step - accuracy: 0.4982 - loss: 2.7016 - val_accuracy: 0.2655 - val_loss: 5.5319\n",
      "Epoch 16/20\n",
      "\u001b[1m5082/5082\u001b[0m \u001b[32m━━━━━━━━━━━━━━━━━━━━\u001b[0m\u001b[37m\u001b[0m \u001b[1m37s\u001b[0m 7ms/step - accuracy: 0.5229 - loss: 2.5913 - val_accuracy: 0.2708 - val_loss: 5.5626\n",
      "Epoch 17/20\n",
      "\u001b[1m5082/5082\u001b[0m \u001b[32m━━━━━━━━━━━━━━━━━━━━\u001b[0m\u001b[37m\u001b[0m \u001b[1m37s\u001b[0m 7ms/step - accuracy: 0.5430 - loss: 2.4755 - val_accuracy: 0.2796 - val_loss: 5.4823\n",
      "Epoch 18/20\n",
      "\u001b[1m5082/5082\u001b[0m \u001b[32m━━━━━━━━━━━━━━━━━━━━\u001b[0m\u001b[37m\u001b[0m \u001b[1m37s\u001b[0m 7ms/step - accuracy: 0.5591 - loss: 2.3674 - val_accuracy: 0.2867 - val_loss: 5.4635\n",
      "Epoch 19/20\n",
      "\u001b[1m5082/5082\u001b[0m \u001b[32m━━━━━━━━━━━━━━━━━━━━\u001b[0m\u001b[37m\u001b[0m \u001b[1m36s\u001b[0m 7ms/step - accuracy: 0.5708 - loss: 2.2879 - val_accuracy: 0.2920 - val_loss: 5.5182\n",
      "Epoch 20/20\n",
      "\u001b[1m5082/5082\u001b[0m \u001b[32m━━━━━━━━━━━━━━━━━━━━\u001b[0m\u001b[37m\u001b[0m \u001b[1m36s\u001b[0m 7ms/step - accuracy: 0.5939 - loss: 2.1901 - val_accuracy: 0.2991 - val_loss: 5.4195\n"
     ]
    }
   ],
   "source": [
    "epochs = 20\n",
    "history = model.fit(\n",
    "    train_ds,\n",
    "    validation_data=val_ds,\n",
    "    epochs=epochs,\n",
    "    callbacks=[tf.keras.callbacks.EarlyStopping(monitor='loss', patience=3)]\n",
    ")"
   ]
  },
  {
   "cell_type": "markdown",
   "metadata": {},
   "source": [
    "### Evaluation"
   ]
  },
  {
   "cell_type": "code",
   "execution_count": 22,
   "metadata": {},
   "outputs": [],
   "source": [
    "def history_plotter(history):\n",
    "    plt.figure(figsize=(16, 5))\n",
    "    plt.subplot(1, 2, 1)\n",
    "    plt.plot(history.history['accuracy'], label='accuracy')\n",
    "    plt.plot(history.history['val_accuracy'], label = 'val_accuracy')\n",
    "    plt.xlabel('Epoch')\n",
    "    plt.ylabel('Accuracy')\n",
    "    plt.legend(loc='lower right')\n",
    "\n",
    "    plt.subplot(1, 2, 2)\n",
    "    plt.plot(history.history['loss'], label='loss')\n",
    "    plt.plot(history.history['val_loss'], label = 'val_loss')\n",
    "    plt.xlabel('Epoch')\n",
    "    plt.ylabel('Loss')\n",
    "    plt.legend(loc='upper right')"
   ]
  },
  {
   "cell_type": "code",
   "execution_count": 23,
   "metadata": {},
   "outputs": [
    {
     "data": {
      "image/png": "[encoded data removed]",
      "text/plain": [
       "<Figure size 1600x500 with 2 Axes>"
      ]
     },
     "metadata": {},
     "output_type": "display_data"
    }
   ],
   "source": [
    "history_plotter(history)"
   ]
  },
  {
   "cell_type": "code",
   "execution_count": 24,
   "metadata": {},
   "outputs": [
    {
     "name": "stdout",
     "output_type": "stream",
     "text": [
      "\u001b[1m997/997\u001b[0m \u001b[32m━━━━━━━━━━━━━━━━━━━━\u001b[0m\u001b[37m\u001b[0m \u001b[1m1s\u001b[0m 892us/step - accuracy: 0.2822 - loss: 5.3712    \n"
     ]
    },
    {
     "data": {
      "text/plain": [
       "[5.384283542633057, 0.31093278527259827]"
      ]
     },
     "execution_count": 24,
     "metadata": {},
     "output_type": "execute_result"
    }
   ],
   "source": [
    "model.evaluate(test_ds) # loss, accuracy"
   ]
  },
  {
   "cell_type": "markdown",
   "metadata": {},
   "source": [
    "The gap between the training and validation curves shows that the model is not in the least optimized for this task. <br>\n",
    "Despite the observed limitations, I opted for this model as a compromise because it provided the highest F1-score and was the fastest to run compared to my other attempts. <br>\n",
    "Ideally, I should have either explored a different model architecture better suited for the dataset or significantly refined the hyperparameters to improve generalization and stability."
   ]
  },
  {
   "cell_type": "markdown",
   "metadata": {},
   "source": [
    "## Evaluation"
   ]
  },
  {
   "cell_type": "code",
   "execution_count": null,
   "metadata": {},
   "outputs": [
    {
     "name": "stdout",
     "output_type": "stream",
     "text": [
      "\u001b[1m997/997\u001b[0m \u001b[32m━━━━━━━━━━━━━━━━━━━━\u001b[0m\u001b[37m\u001b[0m \u001b[1m1s\u001b[0m 776us/step\n"
     ]
    }
   ],
   "source": [
    "predictions = model.predict(test_ds)\n"
   ]
  },
  {
   "cell_type": "code",
   "execution_count": 27,
   "metadata": {},
   "outputs": [],
   "source": [
    "# Convert probabilities to class labels\n",
    "predicted_labels = tf.argmax(predictions, axis=1).numpy()"
   ]
  },
  {
   "cell_type": "code",
   "execution_count": 28,
   "metadata": {},
   "outputs": [
    {
     "name": "stderr",
     "output_type": "stream",
     "text": [
      "2025-02-13 20:43:37.355814: I tensorflow/core/framework/local_rendezvous.cc:405] Local rendezvous is aborting with status: OUT_OF_RANGE: End of sequence\n"
     ]
    }
   ],
   "source": [
    "# Collect true labels from the dataset\n",
    "true_labels = []\n",
    "for _, labels in test_ds:\n",
    "    true_labels.extend(labels.numpy())\n",
    "\n",
    "# Convert to NumPy array\n",
    "true_labels = np.array(true_labels)"
   ]
  },
  {
   "cell_type": "code",
   "execution_count": null,
   "metadata": {},
   "outputs": [],
   "source": [
    "predicted_labels_text = [id2label[label] for label in predicted_labels]\n",
    "true_labels_text = [id2label[label] for label in true_labels]\n",
    "\n",
    "text_indices = list(range(len(predicted_labels)))\n",
    "\n",
    "results_df = pd.DataFrame({\n",
    "    'index': text_indices,\n",
    "    'true_label': predicted_labels_text,\n",
    "    'predicted_label': true_labels_text\n",
    "})\n",
    "\n",
    "results_df.to_csv('predictions_st2_product.csv', index=False)"
   ]
  },
  {
   "cell_type": "markdown",
   "metadata": {},
   "source": [
    "Lastly, we compute the F1-score"
   ]
  },
  {
   "cell_type": "code",
   "execution_count": null,
   "metadata": {},
   "outputs": [],
   "source": [
    "def compute_score_1(hazards_true, hazards_pred):\n",
    "  f1_hazards = f1_score(\n",
    "    hazards_true,\n",
    "    hazards_pred,\n",
    "    average='macro'\n",
    "  )\n",
    "  return f1_hazards"
   ]
  },
  {
   "cell_type": "code",
   "execution_count": 31,
   "metadata": {},
   "outputs": [
    {
     "name": "stdout",
     "output_type": "stream",
     "text": [
      "0.16920672090003774\n"
     ]
    }
   ],
   "source": [
    "print(compute_score_1(true_labels, predicted_labels))"
   ]
  },
  {
   "cell_type": "markdown",
   "metadata": {},
   "source": [
    "The classification report once again highlights a significant class imbalance in the dataset. Not only is the macro-average F1-score low (at __0.17__), but the weighted-average F1-score is also low (0.3), indicating that the model struggles on almost all classes. This further confirms its poor generalization and overall suboptimal performance."
   ]
  },
  {
   "cell_type": "code",
   "execution_count": null,
   "metadata": {},
   "outputs": [
    {
     "name": "stdout",
     "output_type": "stream",
     "text": [
      "              precision    recall  f1-score   support\n",
      "\n",
      "           0     0.6000    1.0000    0.7500         3\n",
      "           1     0.0000    0.0000    0.0000         1\n",
      "           2     0.3571    0.6250    0.4545         8\n",
      "           4     0.2000    0.6667    0.3077         3\n",
      "           5     0.0000    0.0000    0.0000         0\n",
      "           6     0.0000    0.0000    0.0000         1\n",
      "           8     1.0000    1.0000    1.0000         1\n",
      "          13     0.0000    0.0000    0.0000         1\n",
      "          16     0.0000    0.0000    0.0000         1\n",
      "          19     0.0000    0.0000    0.0000         1\n",
      "          21     0.0000    0.0000    0.0000         2\n",
      "          28     0.0000    0.0000    0.0000         0\n",
      "          29     0.0000    0.0000    0.0000         1\n",
      "          30     0.0000    0.0000    0.0000         0\n",
      "          35     0.0000    0.0000    0.0000         2\n",
      "          38     0.0000    0.0000    0.0000         0\n",
      "          41     0.0000    0.0000    0.0000         4\n",
      "          42     0.0000    0.0000    0.0000         3\n",
      "          49     0.3750    0.7500    0.5000         4\n",
      "          51     0.5000    0.3333    0.4000         3\n",
      "          52     0.0000    0.0000    0.0000         1\n",
      "          56     1.0000    1.0000    1.0000         2\n",
      "          58     0.0000    0.0000    0.0000         5\n",
      "          60     0.0000    0.0000    0.0000         1\n",
      "          61     0.0000    0.0000    0.0000         5\n",
      "          65     0.0000    0.0000    0.0000         2\n",
      "          67     0.6000    0.7500    0.6667         4\n",
      "          73     0.3333    0.5000    0.4000         8\n",
      "          74     0.0000    0.0000    0.0000         1\n",
      "          76     0.0000    0.0000    0.0000         1\n",
      "          80     0.5000    1.0000    0.6667         1\n",
      "          81     0.0000    0.0000    0.0000         1\n",
      "          82     0.0000    0.0000    0.0000         1\n",
      "          86     0.0000    0.0000    0.0000         2\n",
      "          88     0.0000    0.0000    0.0000         1\n",
      "          92     0.2800    0.8750    0.4242         8\n",
      "          93     0.0000    0.0000    0.0000         2\n",
      "          95     0.0000    0.0000    0.0000         0\n",
      "          96     0.2500    0.2500    0.2500         4\n",
      "          99     0.0000    0.0000    0.0000         1\n",
      "         102     0.0000    0.0000    0.0000         4\n",
      "         108     0.0000    0.0000    0.0000         3\n",
      "         111     0.0000    0.0000    0.0000         2\n",
      "         113     0.0000    0.0000    0.0000         1\n",
      "         114     0.0000    0.0000    0.0000         2\n",
      "         115     0.0000    0.0000    0.0000         1\n",
      "         116     0.0000    0.0000    0.0000         1\n",
      "         117     0.6364    0.5000    0.5600        14\n",
      "         118     0.0000    0.0000    0.0000         2\n",
      "         119     0.1500    0.3750    0.2143         8\n",
      "         123     0.0000    0.0000    0.0000         1\n",
      "         129     0.0000    0.0000    0.0000         0\n",
      "         132     0.0000    0.0000    0.0000         2\n",
      "         133     0.0000    0.0000    0.0000         1\n",
      "         138     0.0000    0.0000    0.0000         3\n",
      "         140     0.0000    0.0000    0.0000         1\n",
      "         142     1.0000    1.0000    1.0000         1\n",
      "         143     0.0000    0.0000    0.0000         1\n",
      "         144     0.0000    0.0000    0.0000         2\n",
      "         146     0.0000    0.0000    0.0000         1\n",
      "         147     0.0000    0.0000    0.0000         1\n",
      "         149     0.0000    0.0000    0.0000         2\n",
      "         150     0.2000    0.2222    0.2105         9\n",
      "         151     0.0000    0.0000    0.0000         1\n",
      "         157     0.0000    0.0000    0.0000         0\n",
      "         158     0.0000    0.0000    0.0000         1\n",
      "         163     0.0000    0.0000    0.0000         1\n",
      "         164     1.0000    1.0000    1.0000         2\n",
      "         165     0.0000    0.0000    0.0000         1\n",
      "         166     0.0000    0.0000    0.0000         1\n",
      "         167     0.5143    0.5806    0.5455        31\n",
      "         168     0.0000    0.0000    0.0000         6\n",
      "         174     0.0000    0.0000    0.0000         1\n",
      "         175     0.0000    0.0000    0.0000         2\n",
      "         176     0.0000    0.0000    0.0000         1\n",
      "         177     0.0000    0.0000    0.0000         4\n",
      "         178     0.0000    0.0000    0.0000         1\n",
      "         179     0.0000    0.0000    0.0000         1\n",
      "         181     0.0000    0.0000    0.0000         1\n",
      "         196     0.0000    0.0000    0.0000         1\n",
      "         201     1.0000    1.0000    1.0000         1\n",
      "         205     0.0000    0.0000    0.0000         1\n",
      "         207     0.1250    0.3333    0.1818         3\n",
      "         208     0.0000    0.0000    0.0000         1\n",
      "         211     0.0000    0.0000    0.0000         1\n",
      "         212     0.4286    0.8571    0.5714         7\n",
      "         213     1.0000    0.5000    0.6667         2\n",
      "         219     0.0000    0.0000    0.0000         2\n",
      "         228     0.0000    0.0000    0.0000         2\n",
      "         230     1.0000    0.3333    0.5000         3\n",
      "         231     0.0000    0.0000    0.0000         1\n",
      "         232     0.0000    0.0000    0.0000         1\n",
      "         233     1.0000    0.5000    0.6667         2\n",
      "         236     0.0000    0.0000    0.0000         1\n",
      "         239     0.0000    0.0000    0.0000         0\n",
      "         240     0.0000    0.0000    0.0000         1\n",
      "         241     0.0000    0.0000    0.0000         1\n",
      "         243     1.0000    1.0000    1.0000         1\n",
      "         245     0.8000    1.0000    0.8889         4\n",
      "         246     0.0000    0.0000    0.0000         2\n",
      "         248     0.0000    0.0000    0.0000         2\n",
      "         252     0.0000    0.0000    0.0000         1\n",
      "         253     0.2000    1.0000    0.3333         1\n",
      "         255     0.0000    0.0000    0.0000         1\n",
      "         260     0.4667    0.5000    0.4828        14\n",
      "         261     0.0000    0.0000    0.0000         1\n",
      "         262     0.0000    0.0000    0.0000         2\n",
      "         263     1.0000    0.1667    0.2857         6\n",
      "         265     0.0000    0.0000    0.0000         1\n",
      "         266     0.0000    0.0000    0.0000         1\n",
      "         267     0.0000    0.0000    0.0000         0\n",
      "         269     0.0000    0.0000    0.0000         1\n",
      "         270     0.0000    0.0000    0.0000         1\n",
      "         273     0.0000    0.0000    0.0000         1\n",
      "         279     1.0000    0.5000    0.6667         2\n",
      "         289     0.4000    0.6667    0.5000         3\n",
      "         292     0.0000    0.0000    0.0000         3\n",
      "         294     0.0000    0.0000    0.0000         0\n",
      "         295     0.5000    0.5714    0.5333         7\n",
      "         296     0.6667    0.6667    0.6667         3\n",
      "         298     0.3333    0.3333    0.3333         3\n",
      "         301     0.2500    0.2500    0.2500         4\n",
      "         302     0.0000    0.0000    0.0000         0\n",
      "         303     0.3333    0.8000    0.4706         5\n",
      "         304     0.0000    0.0000    0.0000         1\n",
      "         306     0.0000    0.0000    0.0000         1\n",
      "         307     0.0000    0.0000    0.0000         1\n",
      "         311     0.0000    0.0000    0.0000         0\n",
      "         313     1.0000    0.6667    0.8000         3\n",
      "         317     0.0000    0.0000    0.0000         1\n",
      "         319     0.0000    0.0000    0.0000         0\n",
      "         325     1.0000    1.0000    1.0000         1\n",
      "         327     0.0000    0.0000    0.0000         0\n",
      "         329     0.0000    0.0000    0.0000         1\n",
      "         330     0.0000    0.0000    0.0000         1\n",
      "         332     0.0000    0.0000    0.0000         1\n",
      "         333     1.0000    1.0000    1.0000         1\n",
      "         336     0.0000    0.0000    0.0000         1\n",
      "         337     0.0000    0.0000    0.0000         1\n",
      "         339     0.0000    0.0000    0.0000         1\n",
      "         340     0.2000    0.5000    0.2857         2\n",
      "         346     1.0000    0.3750    0.5455         8\n",
      "         350     0.0000    0.0000    0.0000         2\n",
      "         354     0.0000    0.0000    0.0000         1\n",
      "         357     1.0000    0.1429    0.2500         7\n",
      "         359     0.0000    0.0000    0.0000         2\n",
      "         360     0.0000    0.0000    0.0000         2\n",
      "         366     0.0000    0.0000    0.0000         3\n",
      "         369     0.0000    0.0000    0.0000         1\n",
      "         372     1.0000    0.3333    0.5000         3\n",
      "         374     0.0000    0.0000    0.0000         3\n",
      "         386     0.5000    1.0000    0.6667         2\n",
      "         392     0.0000    0.0000    0.0000         1\n",
      "         393     0.0000    0.0000    0.0000         0\n",
      "         396     0.4000    1.0000    0.5714         2\n",
      "         397     0.0000    0.0000    0.0000         1\n",
      "         404     1.0000    1.0000    1.0000         1\n",
      "         406     0.0000    0.0000    0.0000         1\n",
      "         407     0.0000    0.0000    0.0000         1\n",
      "         413     0.0000    0.0000    0.0000         1\n",
      "         416     0.0000    0.0000    0.0000         1\n",
      "         427     0.0000    0.0000    0.0000         1\n",
      "         429     0.0000    0.0000    0.0000         2\n",
      "         430     1.0000    0.3333    0.5000         3\n",
      "         432     0.0000    0.0000    0.0000         1\n",
      "         439     0.0000    0.0000    0.0000         1\n",
      "         442     0.0000    0.0000    0.0000         1\n",
      "         444     0.0000    0.0000    0.0000         1\n",
      "         446     0.0000    0.0000    0.0000         1\n",
      "         451     0.0000    0.0000    0.0000         1\n",
      "         453     0.0000    0.0000    0.0000         2\n",
      "         454     0.0000    0.0000    0.0000         2\n",
      "         455     0.0000    0.0000    0.0000         1\n",
      "         457     0.0000    0.0000    0.0000         2\n",
      "         458     0.0000    0.0000    0.0000         1\n",
      "         461     0.0000    0.0000    0.0000         1\n",
      "         465     0.0000    0.0000    0.0000         1\n",
      "         466     0.0000    0.0000    0.0000         1\n",
      "         468     0.0000    0.0000    0.0000         2\n",
      "         470     0.0000    0.0000    0.0000         0\n",
      "         474     0.0000    0.0000    0.0000         0\n",
      "         476     0.0000    0.0000    0.0000         5\n",
      "         480     0.0000    0.0000    0.0000         0\n",
      "         482     0.6667    0.3333    0.4444         6\n",
      "         483     1.0000    1.0000    1.0000         1\n",
      "         486     0.0000    0.0000    0.0000         1\n",
      "         492     0.0000    0.0000    0.0000         1\n",
      "         494     0.0000    0.0000    0.0000         0\n",
      "         495     0.0000    0.0000    0.0000         3\n",
      "         500     0.0000    0.0000    0.0000         1\n",
      "         501     0.0000    0.0000    0.0000         2\n",
      "         502     0.8750    0.7778    0.8235         9\n",
      "         503     0.0000    0.0000    0.0000         0\n",
      "         508     0.0000    0.0000    0.0000         0\n",
      "         509     0.0000    0.0000    0.0000         1\n",
      "         510     0.8000    0.8000    0.8000         5\n",
      "         511     0.0000    0.0000    0.0000         1\n",
      "         513     0.0000    0.0000    0.0000         4\n",
      "         518     0.0000    0.0000    0.0000         1\n",
      "         520     0.5000    1.0000    0.6667         1\n",
      "         522     0.0000    0.0000    0.0000         1\n",
      "         524     0.0000    0.0000    0.0000         1\n",
      "         525     0.0000    0.0000    0.0000         1\n",
      "         528     0.0000    0.0000    0.0000         1\n",
      "         529     0.0000    0.0000    0.0000         2\n",
      "         530     0.9412    0.7805    0.8533        41\n",
      "         535     0.7500    1.0000    0.8571         3\n",
      "         537     1.0000    1.0000    1.0000         1\n",
      "         539     0.0000    0.0000    0.0000         0\n",
      "         540     0.0000    0.0000    0.0000         0\n",
      "         541     1.0000    1.0000    1.0000         6\n",
      "         542     0.0000    0.0000    0.0000         1\n",
      "         545     0.0000    0.0000    0.0000         1\n",
      "         547     1.0000    0.5000    0.6667         2\n",
      "         552     0.0000    0.0000    0.0000         1\n",
      "         556     0.0000    0.0000    0.0000         1\n",
      "         567     1.0000    0.5000    0.6667         2\n",
      "         569     0.0000    0.0000    0.0000         2\n",
      "         570     1.0000    1.0000    1.0000         2\n",
      "         571     0.0000    0.0000    0.0000         2\n",
      "         572     0.0000    0.0000    0.0000         1\n",
      "         573     0.0000    0.0000    0.0000         1\n",
      "         576     1.0000    0.7500    0.8571         4\n",
      "         580     0.0000    0.0000    0.0000         1\n",
      "         583     0.0000    0.0000    0.0000         1\n",
      "         587     0.0000    0.0000    0.0000         1\n",
      "         588     0.0000    0.0000    0.0000         1\n",
      "         589     0.0000    0.0000    0.0000         1\n",
      "         590     0.0000    0.0000    0.0000         1\n",
      "         591     1.0000    0.2000    0.3333         5\n",
      "         593     0.0000    0.0000    0.0000         2\n",
      "         594     0.0000    0.0000    0.0000         4\n",
      "         596     0.0000    0.0000    0.0000         1\n",
      "         597     1.0000    1.0000    1.0000         1\n",
      "         598     0.0000    0.0000    0.0000         2\n",
      "         599     0.0000    0.0000    0.0000         0\n",
      "         601     0.0000    0.0000    0.0000         1\n",
      "         605     0.0000    0.0000    0.0000         1\n",
      "         608     1.0000    1.0000    1.0000         3\n",
      "         610     0.0000    0.0000    0.0000         1\n",
      "         611     0.0000    0.0000    0.0000         2\n",
      "         613     0.0000    0.0000    0.0000         1\n",
      "         617     0.0000    0.0000    0.0000         0\n",
      "         618     0.0000    0.0000    0.0000         3\n",
      "         619     0.0000    0.0000    0.0000         1\n",
      "         621     0.0000    0.0000    0.0000         2\n",
      "         629     0.0000    0.0000    0.0000         3\n",
      "         631     1.0000    0.2500    0.4000         4\n",
      "         633     0.0000    0.0000    0.0000         1\n",
      "         636     0.0000    0.0000    0.0000         1\n",
      "         640     0.0000    0.0000    0.0000         1\n",
      "         641     0.0000    0.0000    0.0000         2\n",
      "         644     0.0000    0.0000    0.0000         1\n",
      "         645     0.0000    0.0000    0.0000         1\n",
      "         647     1.0000    1.0000    1.0000         1\n",
      "         648     0.0000    0.0000    0.0000         3\n",
      "         649     1.0000    0.5000    0.6667         2\n",
      "         650     0.0000    0.0000    0.0000         1\n",
      "         662     1.0000    0.5000    0.6667         2\n",
      "         665     0.4545    0.3571    0.4000        14\n",
      "         666     0.0000    0.0000    0.0000         4\n",
      "         667     0.0000    0.0000    0.0000         0\n",
      "         669     1.0000    1.0000    1.0000         4\n",
      "         670     0.0000    0.0000    0.0000         0\n",
      "         671     1.0000    1.0000    1.0000         2\n",
      "         672     0.0000    0.0000    0.0000         1\n",
      "         679     0.0000    0.0000    0.0000         1\n",
      "         681     0.0000    0.0000    0.0000         1\n",
      "         682     0.0000    0.0000    0.0000         3\n",
      "         685     0.0000    0.0000    0.0000         1\n",
      "         688     1.0000    1.0000    1.0000         1\n",
      "         690     0.2500    0.5000    0.3333         8\n",
      "         696     0.0000    0.0000    0.0000         1\n",
      "         698     0.0000    0.0000    0.0000         0\n",
      "         700     1.0000    1.0000    1.0000         2\n",
      "         709     0.0000    0.0000    0.0000         3\n",
      "         711     0.8571    0.8571    0.8571         7\n",
      "         712     0.0000    0.0000    0.0000         0\n",
      "         714     0.0000    0.0000    0.0000         1\n",
      "         718     0.5000    1.0000    0.6667         1\n",
      "         727     1.0000    0.1250    0.2222         8\n",
      "         728     0.1333    0.3333    0.1905         6\n",
      "         729     0.0000    0.0000    0.0000         1\n",
      "         731     0.4000    0.7500    0.5217         8\n",
      "         732     0.0000    0.0000    0.0000         1\n",
      "         733     0.0000    0.0000    0.0000         2\n",
      "         734     0.0000    0.0000    0.0000         1\n",
      "         735     0.0000    0.0000    0.0000         1\n",
      "         737     0.0000    0.0000    0.0000         1\n",
      "         740     1.0000    0.3333    0.5000         3\n",
      "         744     0.2500    0.5000    0.3333         2\n",
      "         747     0.0000    0.0000    0.0000         1\n",
      "         748     0.0000    0.0000    0.0000         1\n",
      "         749     0.0000    0.0000    0.0000         2\n",
      "         751     0.0000    0.0000    0.0000         1\n",
      "         752     0.0000    0.0000    0.0000         1\n",
      "         755     0.0000    0.0000    0.0000         1\n",
      "         756     1.0000    0.5000    0.6667         4\n",
      "         759     0.0000    0.0000    0.0000         1\n",
      "         764     0.0000    0.0000    0.0000         1\n",
      "         766     0.0000    0.0000    0.0000         1\n",
      "         770     0.0000    0.0000    0.0000         0\n",
      "         771     0.0000    0.0000    0.0000         4\n",
      "         772     0.4545    0.8333    0.5882         6\n",
      "         776     0.5000    1.0000    0.6667         1\n",
      "         778     0.0000    0.0000    0.0000         1\n",
      "         780     0.0000    0.0000    0.0000         1\n",
      "         782     0.2353    0.2105    0.2222        19\n",
      "         783     0.0000    0.0000    0.0000         1\n",
      "         789     0.0000    0.0000    0.0000         1\n",
      "         791     0.0000    0.0000    0.0000         1\n",
      "         792     0.0000    0.0000    0.0000         1\n",
      "         793     0.0000    0.0000    0.0000         1\n",
      "         796     0.0000    0.0000    0.0000         1\n",
      "         798     0.0000    0.0000    0.0000         0\n",
      "         799     0.0000    0.0000    0.0000         1\n",
      "         802     0.0000    0.0000    0.0000         1\n",
      "         809     0.0000    0.0000    0.0000         4\n",
      "         810     0.1667    0.2222    0.1905         9\n",
      "         811     0.0000    0.0000    0.0000         1\n",
      "         814     0.9000    0.8182    0.8571        11\n",
      "         815     1.0000    1.0000    1.0000         1\n",
      "         818     0.0000    0.0000    0.0000         1\n",
      "         820     0.4286    0.7500    0.5455         8\n",
      "         821     0.0000    0.0000    0.0000         1\n",
      "         822     0.5000    0.3333    0.4000         3\n",
      "         823     0.0312    0.3333    0.0571         3\n",
      "         825     0.0000    0.0000    0.0000         4\n",
      "         826     0.0000    0.0000    0.0000         4\n",
      "         829     0.0000    0.0000    0.0000         2\n",
      "         831     0.0000    0.0000    0.0000         1\n",
      "         833     0.0000    0.0000    0.0000         1\n",
      "         834     0.0000    0.0000    0.0000         1\n",
      "         844     0.0000    0.0000    0.0000         1\n",
      "         849     1.0000    0.5000    0.6667         2\n",
      "         854     0.7500    0.6000    0.6667         5\n",
      "         857     0.0000    0.0000    0.0000         2\n",
      "         858     0.0000    0.0000    0.0000         3\n",
      "         859     0.0000    0.0000    0.0000         1\n",
      "         860     0.0000    0.0000    0.0000         0\n",
      "         861     0.6667    0.5000    0.5714         4\n",
      "         863     0.0213    0.2000    0.0385         5\n",
      "         868     0.0000    0.0000    0.0000         1\n",
      "         869     0.0000    0.0000    0.0000         1\n",
      "         870     0.7333    0.9167    0.8148        12\n",
      "         871     0.0000    0.0000    0.0000         0\n",
      "         875     0.0000    0.0000    0.0000         0\n",
      "         876     0.0000    0.0000    0.0000         1\n",
      "         881     0.0000    0.0000    0.0000         2\n",
      "         885     0.0000    0.0000    0.0000         1\n",
      "         887     0.0000    0.0000    0.0000         1\n",
      "         892     0.0000    0.0000    0.0000         2\n",
      "         896     0.0000    0.0000    0.0000         1\n",
      "         897     0.0000    0.0000    0.0000         1\n",
      "         899     0.0000    0.0000    0.0000         1\n",
      "         901     0.0000    0.0000    0.0000         1\n",
      "         902     0.0000    0.0000    0.0000         1\n",
      "         903     0.0000    0.0000    0.0000         1\n",
      "         905     0.0000    0.0000    0.0000         1\n",
      "         908     0.0000    0.0000    0.0000         1\n",
      "         910     0.0000    0.0000    0.0000         1\n",
      "         912     0.7500    0.7500    0.7500         4\n",
      "         915     1.0000    1.0000    1.0000         1\n",
      "         916     0.0000    0.0000    0.0000         2\n",
      "         922     1.0000    0.5000    0.6667         2\n",
      "         928     0.0000    0.0000    0.0000         2\n",
      "         931     0.0000    0.0000    0.0000         1\n",
      "         932     1.0000    0.7500    0.8571         4\n",
      "         933     0.2632    0.4545    0.3333        11\n",
      "         936     0.0000    0.0000    0.0000         1\n",
      "         938     0.0000    0.0000    0.0000         3\n",
      "         939     0.0000    0.0000    0.0000         1\n",
      "         940     0.0000    0.0000    0.0000         1\n",
      "         942     0.0000    0.0000    0.0000         2\n",
      "         945     1.0000    1.0000    1.0000         1\n",
      "         946     1.0000    0.6667    0.8000         3\n",
      "         948     1.0000    1.0000    1.0000         1\n",
      "         949     0.0000    0.0000    0.0000         1\n",
      "         950     0.5714    0.5714    0.5714         7\n",
      "         951     0.5000    0.2500    0.3333         4\n",
      "         964     0.0000    0.0000    0.0000         1\n",
      "         965     0.0000    0.0000    0.0000         1\n",
      "         968     0.0000    0.0000    0.0000         1\n",
      "         970     0.0000    0.0000    0.0000         1\n",
      "         978     0.0000    0.0000    0.0000         0\n",
      "         980     0.0000    0.0000    0.0000         1\n",
      "         982     0.0000    0.0000    0.0000         2\n",
      "         984     0.0000    0.0000    0.0000         1\n",
      "         989     0.0000    0.0000    0.0000         1\n",
      "         992     0.0000    0.0000    0.0000         1\n",
      "         994     0.0000    0.0000    0.0000         1\n",
      "         996     0.0000    0.0000    0.0000         1\n",
      "         997     0.5000    1.0000    0.6667         1\n",
      "         998     0.0000    0.0000    0.0000         1\n",
      "         999     0.0000    0.0000    0.0000         1\n",
      "        1007     0.0000    0.0000    0.0000         0\n",
      "        1012     0.0000    0.0000    0.0000         1\n",
      "        1017     0.5000    0.1111    0.1818         9\n",
      "        1018     0.0000    0.0000    0.0000         4\n",
      "        1020     0.7143    0.7143    0.7143         7\n",
      "        1021     0.0000    0.0000    0.0000         2\n",
      "        1022     0.0000    0.0000    0.0000        84\n",
      "\n",
      "    accuracy                         0.3109       997\n",
      "   macro avg     0.1882    0.1788    0.1692       997\n",
      "weighted avg     0.3347    0.3109    0.2976       997\n",
      "\n"
     ]
    },
    {
     "name": "stderr",
     "output_type": "stream",
     "text": [
      "/home/ec2-user/anaconda3/envs/python3/lib/python3.10/site-packages/sklearn/metrics/_classification.py:1565: UndefinedMetricWarning: Precision is ill-defined and being set to 0.0 in labels with no predicted samples. Use `zero_division` parameter to control this behavior.\n",
      "  _warn_prf(average, modifier, f\"{metric.capitalize()} is\", len(result))\n",
      "/home/ec2-user/anaconda3/envs/python3/lib/python3.10/site-packages/sklearn/metrics/_classification.py:1565: UndefinedMetricWarning: Recall is ill-defined and being set to 0.0 in labels with no true samples. Use `zero_division` parameter to control this behavior.\n",
      "  _warn_prf(average, modifier, f\"{metric.capitalize()} is\", len(result))\n",
      "/home/ec2-user/anaconda3/envs/python3/lib/python3.10/site-packages/sklearn/metrics/_classification.py:1565: UndefinedMetricWarning: Precision is ill-defined and being set to 0.0 in labels with no predicted samples. Use `zero_division` parameter to control this behavior.\n",
      "  _warn_prf(average, modifier, f\"{metric.capitalize()} is\", len(result))\n",
      "/home/ec2-user/anaconda3/envs/python3/lib/python3.10/site-packages/sklearn/metrics/_classification.py:1565: UndefinedMetricWarning: Recall is ill-defined and being set to 0.0 in labels with no true samples. Use `zero_division` parameter to control this behavior.\n",
      "  _warn_prf(average, modifier, f\"{metric.capitalize()} is\", len(result))\n",
      "/home/ec2-user/anaconda3/envs/python3/lib/python3.10/site-packages/sklearn/metrics/_classification.py:1565: UndefinedMetricWarning: Precision is ill-defined and being set to 0.0 in labels with no predicted samples. Use `zero_division` parameter to control this behavior.\n",
      "  _warn_prf(average, modifier, f\"{metric.capitalize()} is\", len(result))\n",
      "/home/ec2-user/anaconda3/envs/python3/lib/python3.10/site-packages/sklearn/metrics/_classification.py:1565: UndefinedMetricWarning: Recall is ill-defined and being set to 0.0 in labels with no true samples. Use `zero_division` parameter to control this behavior.\n",
      "  _warn_prf(average, modifier, f\"{metric.capitalize()} is\", len(result))\n"
     ]
    }
   ],
   "source": [
    "report = classification_report(true_labels, predicted_labels, digits=4)\n",
    "\n",
    "print(report)"
   ]
  }
 ],
 "metadata": {
  "kernelspec": {
   "display_name": "conda_python3",
   "language": "python",
   "name": "conda_python3"
  },
  "language_info": {
   "codemirror_mode": {
    "name": "ipython",
    "version": 3
   },
   "file_extension": ".py",
   "mimetype": "text/x-python",
   "name": "python",
   "nbconvert_exporter": "python",
   "pygments_lexer": "ipython3",
   "version": "3.10.16"
  }
 },
 "nbformat": 4,
 "nbformat_minor": 4
}
